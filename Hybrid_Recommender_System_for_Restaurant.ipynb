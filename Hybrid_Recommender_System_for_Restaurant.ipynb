{
 "cells": [
  {
   "cell_type": "markdown",
   "metadata": {},
   "source": [
    "# Personalized Recommender System Using Matrix Factorization Model for Restaurants in Toronto, Ontario, Canada"
   ]
  },
  {
   "cell_type": "markdown",
   "metadata": {},
   "source": [
    "### Quang Ho"
   ]
  },
  {
   "cell_type": "code",
   "execution_count": 1,
   "metadata": {},
   "outputs": [],
   "source": [
    "# Import python library\n",
    "\n",
    "import numpy as np\n",
    "import pandas as pd\n",
    "import re\n",
    "import seaborn as sns\n",
    "import matplotlib.pyplot as plt\n",
    "\n",
    "from sklearn.model_selection import train_test_split\n",
    "from sklearn.feature_extraction.text import TfidfVectorizer\n",
    "\n",
    "from sklearn.metrics import accuracy_score, f1_score, precision_score, recall_score, classification_report, confusion_matrix\n",
    "from sklearn.metrics import roc_curve, auc, roc_auc_score\n",
    "\n",
    "from nltk.corpus import stopwords \n",
    "from nltk.tokenize import WordPunctTokenizer"
   ]
  },
  {
   "cell_type": "markdown",
   "metadata": {},
   "source": [
    "### Check Business dataset"
   ]
  },
  {
   "cell_type": "code",
   "execution_count": 2,
   "metadata": {},
   "outputs": [
    {
     "data": {
      "text/html": [
       "<div>\n",
       "<style scoped>\n",
       "    .dataframe tbody tr th:only-of-type {\n",
       "        vertical-align: middle;\n",
       "    }\n",
       "\n",
       "    .dataframe tbody tr th {\n",
       "        vertical-align: top;\n",
       "    }\n",
       "\n",
       "    .dataframe thead th {\n",
       "        text-align: right;\n",
       "    }\n",
       "</style>\n",
       "<table border=\"1\" class=\"dataframe\">\n",
       "  <thead>\n",
       "    <tr style=\"text-align: right;\">\n",
       "      <th></th>\n",
       "      <th>business_id</th>\n",
       "      <th>name</th>\n",
       "      <th>address</th>\n",
       "      <th>city</th>\n",
       "      <th>state</th>\n",
       "      <th>restaurant_rating</th>\n",
       "      <th>review_count</th>\n",
       "      <th>categories</th>\n",
       "    </tr>\n",
       "  </thead>\n",
       "  <tbody>\n",
       "    <tr>\n",
       "      <td>0</td>\n",
       "      <td>FYWN1wneV18bWNgQjJ2GNg</td>\n",
       "      <td>\"Dental by Design\"</td>\n",
       "      <td>\"4855 E Warner Rd, Ste B9\"</td>\n",
       "      <td>Ahwatukee</td>\n",
       "      <td>AZ</td>\n",
       "      <td>4.0</td>\n",
       "      <td>22</td>\n",
       "      <td>Dentists;General Dentistry;Health &amp; Medical;Or...</td>\n",
       "    </tr>\n",
       "    <tr>\n",
       "      <td>1</td>\n",
       "      <td>He-G7vWjzVUysIKrfNbPUQ</td>\n",
       "      <td>\"Stephen Szabo Salon\"</td>\n",
       "      <td>\"3101 Washington Rd\"</td>\n",
       "      <td>McMurray</td>\n",
       "      <td>PA</td>\n",
       "      <td>3.0</td>\n",
       "      <td>11</td>\n",
       "      <td>Hair Stylists;Hair Salons;Men's Hair Salons;Bl...</td>\n",
       "    </tr>\n",
       "    <tr>\n",
       "      <td>2</td>\n",
       "      <td>KQPW8lFf1y5BT2MxiSZ3QA</td>\n",
       "      <td>\"Western Motor Vehicle\"</td>\n",
       "      <td>\"6025 N 27th Ave, Ste 1\"</td>\n",
       "      <td>Phoenix</td>\n",
       "      <td>AZ</td>\n",
       "      <td>1.5</td>\n",
       "      <td>18</td>\n",
       "      <td>Departments of Motor Vehicles;Public Services ...</td>\n",
       "    </tr>\n",
       "    <tr>\n",
       "      <td>3</td>\n",
       "      <td>8DShNS-LuFqpEWIp0HxijA</td>\n",
       "      <td>\"Sports Authority\"</td>\n",
       "      <td>\"5000 Arizona Mills Cr, Ste 435\"</td>\n",
       "      <td>Tempe</td>\n",
       "      <td>AZ</td>\n",
       "      <td>3.0</td>\n",
       "      <td>9</td>\n",
       "      <td>Sporting Goods;Shopping</td>\n",
       "    </tr>\n",
       "    <tr>\n",
       "      <td>4</td>\n",
       "      <td>PfOCPjBrlQAnz__NXj9h_w</td>\n",
       "      <td>\"Brick House Tavern + Tap\"</td>\n",
       "      <td>\"581 Howe Ave\"</td>\n",
       "      <td>Cuyahoga Falls</td>\n",
       "      <td>OH</td>\n",
       "      <td>3.5</td>\n",
       "      <td>116</td>\n",
       "      <td>American (New);Nightlife;Bars;Sandwiches;Ameri...</td>\n",
       "    </tr>\n",
       "  </tbody>\n",
       "</table>\n",
       "</div>"
      ],
      "text/plain": [
       "              business_id                        name  \\\n",
       "0  FYWN1wneV18bWNgQjJ2GNg          \"Dental by Design\"   \n",
       "1  He-G7vWjzVUysIKrfNbPUQ       \"Stephen Szabo Salon\"   \n",
       "2  KQPW8lFf1y5BT2MxiSZ3QA     \"Western Motor Vehicle\"   \n",
       "3  8DShNS-LuFqpEWIp0HxijA          \"Sports Authority\"   \n",
       "4  PfOCPjBrlQAnz__NXj9h_w  \"Brick House Tavern + Tap\"   \n",
       "\n",
       "                            address            city state  restaurant_rating  \\\n",
       "0        \"4855 E Warner Rd, Ste B9\"       Ahwatukee    AZ                4.0   \n",
       "1              \"3101 Washington Rd\"        McMurray    PA                3.0   \n",
       "2          \"6025 N 27th Ave, Ste 1\"         Phoenix    AZ                1.5   \n",
       "3  \"5000 Arizona Mills Cr, Ste 435\"           Tempe    AZ                3.0   \n",
       "4                    \"581 Howe Ave\"  Cuyahoga Falls    OH                3.5   \n",
       "\n",
       "   review_count                                         categories  \n",
       "0            22  Dentists;General Dentistry;Health & Medical;Or...  \n",
       "1            11  Hair Stylists;Hair Salons;Men's Hair Salons;Bl...  \n",
       "2            18  Departments of Motor Vehicles;Public Services ...  \n",
       "3             9                            Sporting Goods;Shopping  \n",
       "4           116  American (New);Nightlife;Bars;Sandwiches;Ameri...  "
      ]
     },
     "execution_count": 2,
     "metadata": {},
     "output_type": "execute_result"
    }
   ],
   "source": [
    "# view top record of business dataset\n",
    "business_df = pd.read_csv('C://Users/Quang.DESKTOP-BET5N5G/Documents/Training/Ryerson/CKME136 - Capstone course/\\\n",
    "Literature Reviews/Recommender System/Yelp_datasets/yelp_business.csv', encoding=\"latin-1\")\n",
    "# business_df.head()\n",
    "\n",
    "business_df = business_df[['business_id', 'name', 'address', 'city', 'state', 'stars', 'review_count', 'categories']]\n",
    "business_df = business_df.rename(columns = {'stars':'restaurant_rating'})\n",
    "business_df.dropna(inplace=True)\n",
    "business_df.head()"
   ]
  },
  {
   "cell_type": "code",
   "execution_count": 3,
   "metadata": {},
   "outputs": [
    {
     "data": {
      "text/plain": [
       "Index(['business_id', 'name', 'address', 'city', 'state', 'restaurant_rating',\n",
       "       'review_count', 'categories'],\n",
       "      dtype='object')"
      ]
     },
     "execution_count": 3,
     "metadata": {},
     "output_type": "execute_result"
    }
   ],
   "source": [
    "business_df.columns"
   ]
  },
  {
   "cell_type": "code",
   "execution_count": 4,
   "metadata": {},
   "outputs": [
    {
     "data": {
      "text/plain": [
       "(174565, 8)"
      ]
     },
     "execution_count": 4,
     "metadata": {},
     "output_type": "execute_result"
    }
   ],
   "source": [
    "# total records\n",
    "business_df.shape"
   ]
  },
  {
   "cell_type": "code",
   "execution_count": 5,
   "metadata": {
    "scrolled": true
   },
   "outputs": [
    {
     "data": {
      "text/plain": [
       "categories           0\n",
       "review_count         0\n",
       "restaurant_rating    0\n",
       "state                0\n",
       "city                 0\n",
       "address              0\n",
       "name                 0\n",
       "business_id          0\n",
       "dtype: int64"
      ]
     },
     "execution_count": 5,
     "metadata": {},
     "output_type": "execute_result"
    }
   ],
   "source": [
    "# find null Values...\n",
    "business_df.isnull().sum().sort_values(ascending=False)"
   ]
  },
  {
   "cell_type": "code",
   "execution_count": 6,
   "metadata": {},
   "outputs": [
    {
     "data": {
      "text/plain": [
       "True"
      ]
     },
     "execution_count": 6,
     "metadata": {},
     "output_type": "execute_result"
    }
   ],
   "source": [
    "# are all business Id's unique?\n",
    "business_df.business_id.is_unique #business_id is all unique"
   ]
  },
  {
   "cell_type": "code",
   "execution_count": 7,
   "metadata": {},
   "outputs": [
    {
     "data": {
      "text/plain": [
       "AZ     52214\n",
       "NV     33086\n",
       "ON     30208\n",
       "NC     12956\n",
       "OH     12609\n",
       "       ...  \n",
       "VA         1\n",
       "CS         1\n",
       "WHT        1\n",
       "PKN        1\n",
       "MT         1\n",
       "Name: state, Length: 67, dtype: int64"
      ]
     },
     "execution_count": 7,
     "metadata": {},
     "output_type": "execute_result"
    }
   ],
   "source": [
    "# count business in cities\n",
    "business_df.state.value_counts()"
   ]
  },
  {
   "cell_type": "code",
   "execution_count": 8,
   "metadata": {},
   "outputs": [],
   "source": [
    "# Filtering by Toronto, business categories and having at least 10 reviews\n",
    "bus_tor_df = business_df[business_df['city'].str.contains(\"Toronto\")]\n",
    "bus_tor_fd_df = bus_tor_df[bus_tor_df['categories'].str.contains(\"Food|Coffee|Tea|\\\n",
    "Restaurants|Bakeries|Bars|Sports Bar|Pubs|Nighlife\")]\n",
    "# bus_tor_fd_df = bus_tor_fd_df[bus_tor_fd_df.review_count >= 10]\n"
   ]
  },
  {
   "cell_type": "code",
   "execution_count": 9,
   "metadata": {},
   "outputs": [
    {
     "data": {
      "text/html": [
       "<div>\n",
       "<style scoped>\n",
       "    .dataframe tbody tr th:only-of-type {\n",
       "        vertical-align: middle;\n",
       "    }\n",
       "\n",
       "    .dataframe tbody tr th {\n",
       "        vertical-align: top;\n",
       "    }\n",
       "\n",
       "    .dataframe thead th {\n",
       "        text-align: right;\n",
       "    }\n",
       "</style>\n",
       "<table border=\"1\" class=\"dataframe\">\n",
       "  <thead>\n",
       "    <tr style=\"text-align: right;\">\n",
       "      <th></th>\n",
       "      <th>business_id</th>\n",
       "      <th>name</th>\n",
       "      <th>address</th>\n",
       "      <th>review_count</th>\n",
       "      <th>city</th>\n",
       "      <th>restaurant_rating</th>\n",
       "    </tr>\n",
       "  </thead>\n",
       "  <tbody>\n",
       "    <tr>\n",
       "      <td>107580</td>\n",
       "      <td>r_BrIgzYcwo1NAuG9dLbpg</td>\n",
       "      <td>\"Pai Northern Thai Kitchen\"</td>\n",
       "      <td>\"18 Duncan Street\"</td>\n",
       "      <td>1494</td>\n",
       "      <td>Toronto</td>\n",
       "      <td>4.5</td>\n",
       "    </tr>\n",
       "    <tr>\n",
       "      <td>158973</td>\n",
       "      <td>aLcFhMe6DDJ430zelCpd2A</td>\n",
       "      <td>\"Khao San Road\"</td>\n",
       "      <td>\"11 Charlotte St\"</td>\n",
       "      <td>1270</td>\n",
       "      <td>Toronto</td>\n",
       "      <td>4.0</td>\n",
       "    </tr>\n",
       "    <tr>\n",
       "      <td>9526</td>\n",
       "      <td>RtUvSWO_UZ8V3Wpj0n077w</td>\n",
       "      <td>\"KINKA IZAKAYA ORIGINAL\"</td>\n",
       "      <td>\"398 Church St\"</td>\n",
       "      <td>1184</td>\n",
       "      <td>Toronto</td>\n",
       "      <td>4.0</td>\n",
       "    </tr>\n",
       "    <tr>\n",
       "      <td>131553</td>\n",
       "      <td>N93EYZy9R0sdlEvubu94ig</td>\n",
       "      <td>\"Banh Mi Boys\"</td>\n",
       "      <td>\"392 Queen Street W\"</td>\n",
       "      <td>973</td>\n",
       "      <td>Toronto</td>\n",
       "      <td>4.0</td>\n",
       "    </tr>\n",
       "    <tr>\n",
       "      <td>80828</td>\n",
       "      <td>iGEvDk6hsizigmXhDKs2Vg</td>\n",
       "      <td>\"Seven Lives Tacos Y Mariscos\"</td>\n",
       "      <td>\"69 Kensington Avenue\"</td>\n",
       "      <td>945</td>\n",
       "      <td>Toronto</td>\n",
       "      <td>4.5</td>\n",
       "    </tr>\n",
       "    <tr>\n",
       "      <td>5191</td>\n",
       "      <td>RwRNR4z3kY-4OsFqigY5sw</td>\n",
       "      <td>\"Uncle Tetsu's Japanese Cheesecake\"</td>\n",
       "      <td>\"598 Bay Street\"</td>\n",
       "      <td>848</td>\n",
       "      <td>Toronto</td>\n",
       "      <td>3.5</td>\n",
       "    </tr>\n",
       "    <tr>\n",
       "      <td>49153</td>\n",
       "      <td>-av1lZI1JDY_RZN2eTMnWg</td>\n",
       "      <td>\"Salad King Restaurant\"</td>\n",
       "      <td>\"340 Yonge Street\"</td>\n",
       "      <td>808</td>\n",
       "      <td>Toronto</td>\n",
       "      <td>3.5</td>\n",
       "    </tr>\n",
       "    <tr>\n",
       "      <td>110247</td>\n",
       "      <td>zgQHtqX0gqMw1nlBZl2VnQ</td>\n",
       "      <td>\"Momofuku Noodle Bar\"</td>\n",
       "      <td>\"190 University Avenue, Ground Floor\"</td>\n",
       "      <td>759</td>\n",
       "      <td>Toronto</td>\n",
       "      <td>3.0</td>\n",
       "    </tr>\n",
       "    <tr>\n",
       "      <td>68285</td>\n",
       "      <td>uAAWlLdsoUf872F1FKiX1A</td>\n",
       "      <td>\"Bang Bang Ice Cream and bakery\"</td>\n",
       "      <td>\"93a Ossington Avenue\"</td>\n",
       "      <td>746</td>\n",
       "      <td>Toronto</td>\n",
       "      <td>4.0</td>\n",
       "    </tr>\n",
       "    <tr>\n",
       "      <td>36440</td>\n",
       "      <td>f5O7v_X_jCg2itqacRfxhg</td>\n",
       "      <td>\"Sansotei Ramen\"</td>\n",
       "      <td>\"179 Dundas Street W\"</td>\n",
       "      <td>701</td>\n",
       "      <td>Toronto</td>\n",
       "      <td>4.0</td>\n",
       "    </tr>\n",
       "    <tr>\n",
       "      <td>63728</td>\n",
       "      <td>e41TP5cXZqSrz50xCBJqZw</td>\n",
       "      <td>\"Insomnia Restaurant &amp; Lounge\"</td>\n",
       "      <td>\"563 Bloor Street W\"</td>\n",
       "      <td>690</td>\n",
       "      <td>Toronto</td>\n",
       "      <td>4.0</td>\n",
       "    </tr>\n",
       "    <tr>\n",
       "      <td>57854</td>\n",
       "      <td>B70iTJjcPkuYn8ouUewWgw</td>\n",
       "      <td>\"Gusto 101\"</td>\n",
       "      <td>\"101 Portland Street\"</td>\n",
       "      <td>673</td>\n",
       "      <td>Toronto</td>\n",
       "      <td>4.0</td>\n",
       "    </tr>\n",
       "    <tr>\n",
       "      <td>31703</td>\n",
       "      <td>DE89UdHFMCN6DtYWZuer5A</td>\n",
       "      <td>\"Hokkaido Ramen Santouka\"</td>\n",
       "      <td>\"91 Dundas Street E\"</td>\n",
       "      <td>651</td>\n",
       "      <td>Toronto</td>\n",
       "      <td>4.0</td>\n",
       "    </tr>\n",
       "    <tr>\n",
       "      <td>62343</td>\n",
       "      <td>a8pmtlVKf7NiSLI-4KejIw</td>\n",
       "      <td>\"El Catrin Destileria\"</td>\n",
       "      <td>\"18 Tank House Lane\"</td>\n",
       "      <td>646</td>\n",
       "      <td>Toronto</td>\n",
       "      <td>3.5</td>\n",
       "    </tr>\n",
       "    <tr>\n",
       "      <td>127108</td>\n",
       "      <td>k6zmSLmYAquCpJGKNnTgSQ</td>\n",
       "      <td>\"The Stockyards\"</td>\n",
       "      <td>\"699 Saint Clair Avenue W\"</td>\n",
       "      <td>646</td>\n",
       "      <td>Toronto</td>\n",
       "      <td>4.0</td>\n",
       "    </tr>\n",
       "    <tr>\n",
       "      <td>18409</td>\n",
       "      <td>mG71gQ5HWl7ut9OCN6NJKA</td>\n",
       "      <td>\"360 Restaurant\"</td>\n",
       "      <td>\"CN Tower, 301 Front Street W\"</td>\n",
       "      <td>627</td>\n",
       "      <td>Toronto</td>\n",
       "      <td>3.5</td>\n",
       "    </tr>\n",
       "    <tr>\n",
       "      <td>87730</td>\n",
       "      <td>h_4dPV9M9aYaBliH1Eoeeg</td>\n",
       "      <td>\"Wvrst\"</td>\n",
       "      <td>\"609 King Street W\"</td>\n",
       "      <td>623</td>\n",
       "      <td>Toronto</td>\n",
       "      <td>4.0</td>\n",
       "    </tr>\n",
       "    <tr>\n",
       "      <td>166382</td>\n",
       "      <td>8I5U8OQ06nSxX2y4PPOWzQ</td>\n",
       "      <td>\"Japango\"</td>\n",
       "      <td>\"122 Elizabeth Street\"</td>\n",
       "      <td>600</td>\n",
       "      <td>Toronto</td>\n",
       "      <td>3.5</td>\n",
       "    </tr>\n",
       "    <tr>\n",
       "      <td>31522</td>\n",
       "      <td>MS-hfug4QDXqb_Mws3qlzA</td>\n",
       "      <td>\"Grand Electric\"</td>\n",
       "      <td>\"1330 Queen Street W\"</td>\n",
       "      <td>586</td>\n",
       "      <td>Toronto</td>\n",
       "      <td>4.0</td>\n",
       "    </tr>\n",
       "    <tr>\n",
       "      <td>155571</td>\n",
       "      <td>N_2yEZ41g9zDW_gWArFiHw</td>\n",
       "      <td>\"Sweet Jesus\"</td>\n",
       "      <td>\"106 John Street\"</td>\n",
       "      <td>583</td>\n",
       "      <td>Toronto</td>\n",
       "      <td>3.0</td>\n",
       "    </tr>\n",
       "  </tbody>\n",
       "</table>\n",
       "</div>"
      ],
      "text/plain": [
       "                   business_id                                 name  \\\n",
       "107580  r_BrIgzYcwo1NAuG9dLbpg          \"Pai Northern Thai Kitchen\"   \n",
       "158973  aLcFhMe6DDJ430zelCpd2A                      \"Khao San Road\"   \n",
       "9526    RtUvSWO_UZ8V3Wpj0n077w             \"KINKA IZAKAYA ORIGINAL\"   \n",
       "131553  N93EYZy9R0sdlEvubu94ig                       \"Banh Mi Boys\"   \n",
       "80828   iGEvDk6hsizigmXhDKs2Vg       \"Seven Lives Tacos Y Mariscos\"   \n",
       "5191    RwRNR4z3kY-4OsFqigY5sw  \"Uncle Tetsu's Japanese Cheesecake\"   \n",
       "49153   -av1lZI1JDY_RZN2eTMnWg              \"Salad King Restaurant\"   \n",
       "110247  zgQHtqX0gqMw1nlBZl2VnQ                \"Momofuku Noodle Bar\"   \n",
       "68285   uAAWlLdsoUf872F1FKiX1A     \"Bang Bang Ice Cream and bakery\"   \n",
       "36440   f5O7v_X_jCg2itqacRfxhg                     \"Sansotei Ramen\"   \n",
       "63728   e41TP5cXZqSrz50xCBJqZw       \"Insomnia Restaurant & Lounge\"   \n",
       "57854   B70iTJjcPkuYn8ouUewWgw                          \"Gusto 101\"   \n",
       "31703   DE89UdHFMCN6DtYWZuer5A            \"Hokkaido Ramen Santouka\"   \n",
       "62343   a8pmtlVKf7NiSLI-4KejIw               \"El Catrin Destileria\"   \n",
       "127108  k6zmSLmYAquCpJGKNnTgSQ                     \"The Stockyards\"   \n",
       "18409   mG71gQ5HWl7ut9OCN6NJKA                     \"360 Restaurant\"   \n",
       "87730   h_4dPV9M9aYaBliH1Eoeeg                              \"Wvrst\"   \n",
       "166382  8I5U8OQ06nSxX2y4PPOWzQ                            \"Japango\"   \n",
       "31522   MS-hfug4QDXqb_Mws3qlzA                     \"Grand Electric\"   \n",
       "155571  N_2yEZ41g9zDW_gWArFiHw                        \"Sweet Jesus\"   \n",
       "\n",
       "                                      address  review_count     city  \\\n",
       "107580                     \"18 Duncan Street\"          1494  Toronto   \n",
       "158973                      \"11 Charlotte St\"          1270  Toronto   \n",
       "9526                          \"398 Church St\"          1184  Toronto   \n",
       "131553                   \"392 Queen Street W\"           973  Toronto   \n",
       "80828                  \"69 Kensington Avenue\"           945  Toronto   \n",
       "5191                         \"598 Bay Street\"           848  Toronto   \n",
       "49153                      \"340 Yonge Street\"           808  Toronto   \n",
       "110247  \"190 University Avenue, Ground Floor\"           759  Toronto   \n",
       "68285                  \"93a Ossington Avenue\"           746  Toronto   \n",
       "36440                   \"179 Dundas Street W\"           701  Toronto   \n",
       "63728                    \"563 Bloor Street W\"           690  Toronto   \n",
       "57854                   \"101 Portland Street\"           673  Toronto   \n",
       "31703                    \"91 Dundas Street E\"           651  Toronto   \n",
       "62343                    \"18 Tank House Lane\"           646  Toronto   \n",
       "127108             \"699 Saint Clair Avenue W\"           646  Toronto   \n",
       "18409          \"CN Tower, 301 Front Street W\"           627  Toronto   \n",
       "87730                     \"609 King Street W\"           623  Toronto   \n",
       "166382                 \"122 Elizabeth Street\"           600  Toronto   \n",
       "31522                   \"1330 Queen Street W\"           586  Toronto   \n",
       "155571                      \"106 John Street\"           583  Toronto   \n",
       "\n",
       "        restaurant_rating  \n",
       "107580                4.5  \n",
       "158973                4.0  \n",
       "9526                  4.0  \n",
       "131553                4.0  \n",
       "80828                 4.5  \n",
       "5191                  3.5  \n",
       "49153                 3.5  \n",
       "110247                3.0  \n",
       "68285                 4.0  \n",
       "36440                 4.0  \n",
       "63728                 4.0  \n",
       "57854                 4.0  \n",
       "31703                 4.0  \n",
       "62343                 3.5  \n",
       "127108                4.0  \n",
       "18409                 3.5  \n",
       "87730                 4.0  \n",
       "166382                3.5  \n",
       "31522                 4.0  \n",
       "155571                3.0  "
      ]
     },
     "execution_count": 9,
     "metadata": {},
     "output_type": "execute_result"
    }
   ],
   "source": [
    "# Top 20 most reviewed businesses\n",
    "bus_tor_fd_df[['business_id', 'name', 'address', 'review_count', 'city', 'restaurant_rating']].sort_values(ascending=False, by=\"review_count\")[0:20]"
   ]
  },
  {
   "cell_type": "code",
   "execution_count": 10,
   "metadata": {},
   "outputs": [
    {
     "data": {
      "text/html": [
       "<div>\n",
       "<style scoped>\n",
       "    .dataframe tbody tr th:only-of-type {\n",
       "        vertical-align: middle;\n",
       "    }\n",
       "\n",
       "    .dataframe tbody tr th {\n",
       "        vertical-align: top;\n",
       "    }\n",
       "\n",
       "    .dataframe thead th {\n",
       "        text-align: right;\n",
       "    }\n",
       "</style>\n",
       "<table border=\"1\" class=\"dataframe\">\n",
       "  <thead>\n",
       "    <tr style=\"text-align: right;\">\n",
       "      <th></th>\n",
       "      <th>business_id</th>\n",
       "    </tr>\n",
       "  </thead>\n",
       "  <tbody>\n",
       "    <tr>\n",
       "      <td>15</td>\n",
       "      <td>l09JfMeQ6ynYs5MCJtrcmQ</td>\n",
       "    </tr>\n",
       "    <tr>\n",
       "      <td>20</td>\n",
       "      <td>lHYiCS-y8AFjUitv6MGpxg</td>\n",
       "    </tr>\n",
       "    <tr>\n",
       "      <td>24</td>\n",
       "      <td>VSGcuYDV3q-AAZ9ZPq4fBQ</td>\n",
       "    </tr>\n",
       "    <tr>\n",
       "      <td>25</td>\n",
       "      <td>1K4qrnfyzKzGgJPBEcJaNQ</td>\n",
       "    </tr>\n",
       "    <tr>\n",
       "      <td>27</td>\n",
       "      <td>AtdXq_gu9NTE5rx4ct_dGg</td>\n",
       "    </tr>\n",
       "  </tbody>\n",
       "</table>\n",
       "</div>"
      ],
      "text/plain": [
       "               business_id\n",
       "15  l09JfMeQ6ynYs5MCJtrcmQ\n",
       "20  lHYiCS-y8AFjUitv6MGpxg\n",
       "24  VSGcuYDV3q-AAZ9ZPq4fBQ\n",
       "25  1K4qrnfyzKzGgJPBEcJaNQ\n",
       "27  AtdXq_gu9NTE5rx4ct_dGg"
      ]
     },
     "execution_count": 10,
     "metadata": {},
     "output_type": "execute_result"
    }
   ],
   "source": [
    "# get only the list of food service industry in ONT\n",
    "# bus_ont_fd_list = bus_ont_fd_df[['business_id']] \n",
    "# bus_ont_fd_list.head()\n",
    "\n",
    "bus_tor_fd_list = bus_tor_fd_df[['business_id']] \n",
    "bus_tor_fd_list.head()"
   ]
  },
  {
   "cell_type": "code",
   "execution_count": 11,
   "metadata": {},
   "outputs": [
    {
     "data": {
      "text/plain": [
       "(9623, 1)"
      ]
     },
     "execution_count": 11,
     "metadata": {},
     "output_type": "execute_result"
    }
   ],
   "source": [
    "# total records\n",
    "bus_tor_fd_list.shape"
   ]
  },
  {
   "cell_type": "code",
   "execution_count": 12,
   "metadata": {},
   "outputs": [
    {
     "data": {
      "text/plain": [
       "'\\n# Check the current directory\\nimport os\\nos.getcwd()\\n'"
      ]
     },
     "execution_count": 12,
     "metadata": {},
     "output_type": "execute_result"
    }
   ],
   "source": [
    "'''\n",
    "# Check the current directory\n",
    "import os\n",
    "os.getcwd()\n",
    "'''"
   ]
  },
  {
   "cell_type": "code",
   "execution_count": 13,
   "metadata": {},
   "outputs": [
    {
     "data": {
      "text/plain": [
       "(200, 1)"
      ]
     },
     "execution_count": 13,
     "metadata": {},
     "output_type": "execute_result"
    }
   ],
   "source": [
    "# get % sample of dataset\n",
    "\n",
    "# bus_tor_fd_pct = bus_tor_fd_list.sample(frac = .1) # sample as % of dataset\n",
    "\n",
    "bus_tor_fd_pct = bus_tor_fd_list.sample(n = 200) # sample as exact number of businesses\n",
    "bus_tor_fd_pct.shape"
   ]
  },
  {
   "cell_type": "markdown",
   "metadata": {},
   "source": [
    "### Check Review dataset"
   ]
  },
  {
   "cell_type": "code",
   "execution_count": 14,
   "metadata": {},
   "outputs": [
    {
     "data": {
      "text/html": [
       "<div>\n",
       "<style scoped>\n",
       "    .dataframe tbody tr th:only-of-type {\n",
       "        vertical-align: middle;\n",
       "    }\n",
       "\n",
       "    .dataframe tbody tr th {\n",
       "        vertical-align: top;\n",
       "    }\n",
       "\n",
       "    .dataframe thead th {\n",
       "        text-align: right;\n",
       "    }\n",
       "</style>\n",
       "<table border=\"1\" class=\"dataframe\">\n",
       "  <thead>\n",
       "    <tr style=\"text-align: right;\">\n",
       "      <th></th>\n",
       "      <th>user_id</th>\n",
       "      <th>business_id</th>\n",
       "      <th>user_rating</th>\n",
       "      <th>text</th>\n",
       "    </tr>\n",
       "  </thead>\n",
       "  <tbody>\n",
       "    <tr>\n",
       "      <td>0</td>\n",
       "      <td>bv2nCi5Qv5vroFiqKGopiw</td>\n",
       "      <td>AEx2SYEUJmTxVVB18LlCwA</td>\n",
       "      <td>5</td>\n",
       "      <td>Super simple place but amazing nonetheless. It...</td>\n",
       "    </tr>\n",
       "    <tr>\n",
       "      <td>1</td>\n",
       "      <td>bv2nCi5Qv5vroFiqKGopiw</td>\n",
       "      <td>VR6GpWIda3SfvPC-lg9H3w</td>\n",
       "      <td>5</td>\n",
       "      <td>Small unassuming place that changes their menu...</td>\n",
       "    </tr>\n",
       "    <tr>\n",
       "      <td>2</td>\n",
       "      <td>bv2nCi5Qv5vroFiqKGopiw</td>\n",
       "      <td>CKC0-MOWMqoeWf6s-szl8g</td>\n",
       "      <td>5</td>\n",
       "      <td>Lester's is located in a beautiful neighborhoo...</td>\n",
       "    </tr>\n",
       "    <tr>\n",
       "      <td>3</td>\n",
       "      <td>bv2nCi5Qv5vroFiqKGopiw</td>\n",
       "      <td>ACFtxLv8pGrrxMm6EgjreA</td>\n",
       "      <td>4</td>\n",
       "      <td>Love coming here. Yes the place always needs t...</td>\n",
       "    </tr>\n",
       "    <tr>\n",
       "      <td>4</td>\n",
       "      <td>bv2nCi5Qv5vroFiqKGopiw</td>\n",
       "      <td>s2I_Ni76bjJNK9yG60iD-Q</td>\n",
       "      <td>4</td>\n",
       "      <td>Had their chocolate almond croissant and it wa...</td>\n",
       "    </tr>\n",
       "  </tbody>\n",
       "</table>\n",
       "</div>"
      ],
      "text/plain": [
       "                  user_id             business_id  user_rating  \\\n",
       "0  bv2nCi5Qv5vroFiqKGopiw  AEx2SYEUJmTxVVB18LlCwA            5   \n",
       "1  bv2nCi5Qv5vroFiqKGopiw  VR6GpWIda3SfvPC-lg9H3w            5   \n",
       "2  bv2nCi5Qv5vroFiqKGopiw  CKC0-MOWMqoeWf6s-szl8g            5   \n",
       "3  bv2nCi5Qv5vroFiqKGopiw  ACFtxLv8pGrrxMm6EgjreA            4   \n",
       "4  bv2nCi5Qv5vroFiqKGopiw  s2I_Ni76bjJNK9yG60iD-Q            4   \n",
       "\n",
       "                                                text  \n",
       "0  Super simple place but amazing nonetheless. It...  \n",
       "1  Small unassuming place that changes their menu...  \n",
       "2  Lester's is located in a beautiful neighborhoo...  \n",
       "3  Love coming here. Yes the place always needs t...  \n",
       "4  Had their chocolate almond croissant and it wa...  "
      ]
     },
     "execution_count": 14,
     "metadata": {},
     "output_type": "execute_result"
    }
   ],
   "source": [
    "# view top records of review dataset\n",
    "review_df = pd.read_csv('C://Users/Quang.DESKTOP-BET5N5G/Documents/Training/Ryerson/CKME136 - Capstone course/\\\n",
    "Literature Reviews/Recommender System/Yelp_datasets/yelp_review.csv', encoding=\"latin-1\")\n",
    "# review_df.head()\n",
    "\n",
    "\n",
    "review_df = review_df[['user_id', 'business_id', 'stars', 'text']]\n",
    "review_df = review_df.rename(columns = {'stars':'user_rating'})\n",
    "review_df.dropna(inplace=True)\n",
    "review_df.head()\n"
   ]
  },
  {
   "cell_type": "code",
   "execution_count": 15,
   "metadata": {},
   "outputs": [
    {
     "data": {
      "text/plain": [
       "(5261668, 4)"
      ]
     },
     "execution_count": 15,
     "metadata": {},
     "output_type": "execute_result"
    }
   ],
   "source": [
    "review_df.shape"
   ]
  },
  {
   "cell_type": "markdown",
   "metadata": {},
   "source": [
    "### Filter review dataset by food service industry in Toronto"
   ]
  },
  {
   "cell_type": "code",
   "execution_count": 16,
   "metadata": {},
   "outputs": [
    {
     "data": {
      "text/plain": [
       "(8748, 4)"
      ]
     },
     "execution_count": 16,
     "metadata": {},
     "output_type": "execute_result"
    }
   ],
   "source": [
    "review_tor_fd_spl = pd.merge(review_df, bus_tor_fd_pct, on=\"business_id\")\n",
    "review_tor_fd_spl.shape"
   ]
  },
  {
   "cell_type": "code",
   "execution_count": 17,
   "metadata": {},
   "outputs": [
    {
     "data": {
      "text/plain": [
       "<bound method NDFrame.head of                      user_id             business_id  user_rating  \\\n",
       "0     u0LXt3Uea_GidxRW1xcsfg  oWTn2IzrprsRkPfULtjZtQ            3   \n",
       "1     XuCbLgo9j1q5dDh9251vkg  oWTn2IzrprsRkPfULtjZtQ            5   \n",
       "2     20D8uXLZxn9yeLp4VA01kw  oWTn2IzrprsRkPfULtjZtQ            5   \n",
       "3     13xeC5yKJO4BDyQOI3xxDQ  oWTn2IzrprsRkPfULtjZtQ            5   \n",
       "4     SRA86Xyf9fbOAhICWttMLQ  oWTn2IzrprsRkPfULtjZtQ            4   \n",
       "...                      ...                     ...          ...   \n",
       "8743  0uacsMYppmm3Kl1bpWIOxQ  LXpHtaR1mSgoopDd5dKlEA            4   \n",
       "8744  tOzTi_wIS2Gajy90pscoMw  LXpHtaR1mSgoopDd5dKlEA            1   \n",
       "8745  FTNaQZ3t0dsVWw1WZUQGFg  J7zTx8hrZ3p1h_7JCdFthg            2   \n",
       "8746  u9em9Z6dLsjanNj5bZQMjg  J7zTx8hrZ3p1h_7JCdFthg            5   \n",
       "8747  aOwOsph3nlgDv2xUHzQ1tA  J7zTx8hrZ3p1h_7JCdFthg            4   \n",
       "\n",
       "                                                   text  \n",
       "0     Came here for a burger as one of my friends sa...  \n",
       "1     Best burger place I've had in Toronto. Hands d...  \n",
       "2     Have you ever seen the maenad on True Blood ge...  \n",
       "3     Holy shit this place is good. It's not fancy. ...  \n",
       "4     I gotta say...we are BLESSED with good burger ...  \n",
       "...                                                 ...  \n",
       "8743  I attended this festival and had a great time,...  \n",
       "8744  I love food and I love festivals, so when I fo...  \n",
       "8745  My first and last time at Five Guys. \\n\\nNever...  \n",
       "8746  I love this Five Guys location. The staff is r...  \n",
       "8747  This is your typical Five Guys restaurant. The...  \n",
       "\n",
       "[8748 rows x 4 columns]>"
      ]
     },
     "execution_count": 17,
     "metadata": {},
     "output_type": "execute_result"
    }
   ],
   "source": [
    "review_tor_fd_spl.head"
   ]
  },
  {
   "cell_type": "markdown",
   "metadata": {},
   "source": [
    "## Building the Machine Learning Model"
   ]
  },
  {
   "cell_type": "code",
   "execution_count": 18,
   "metadata": {},
   "outputs": [],
   "source": [
    "# import the library for processing text\n",
    "import string\n",
    "import re\n",
    "from nltk.corpus import stopwords\n",
    "stop = []\n",
    "for word in stopwords.words('english'):\n",
    "    s = [char for char in word if char not in string.punctuation]\n",
    "    stop.append(''.join(s))"
   ]
  },
  {
   "cell_type": "code",
   "execution_count": 19,
   "metadata": {},
   "outputs": [
    {
     "name": "stdout",
     "output_type": "stream",
     "text": [
      "['i', 'me', 'my', 'myself', 'we', 'our', 'ours', 'ourselves', 'you', \"you're\", \"you've\", \"you'll\", \"you'd\", 'your', 'yours', 'yourself', 'yourselves', 'he', 'him', 'his', 'himself', 'she', \"she's\", 'her', 'hers', 'herself', 'it', \"it's\", 'its', 'itself', 'they', 'them', 'their', 'theirs', 'themselves', 'what', 'which', 'who', 'whom', 'this', 'that', \"that'll\", 'these', 'those', 'am', 'is', 'are', 'was', 'were', 'be', 'been', 'being', 'have', 'has', 'had', 'having', 'do', 'does', 'did', 'doing', 'a', 'an', 'the', 'and', 'but', 'if', 'or', 'because', 'as', 'until', 'while', 'of', 'at', 'by', 'for', 'with', 'about', 'against', 'between', 'into', 'through', 'during', 'before', 'after', 'above', 'below', 'to', 'from', 'up', 'down', 'in', 'out', 'on', 'off', 'over', 'under', 'again', 'further', 'then', 'once', 'here', 'there', 'when', 'where', 'why', 'how', 'all', 'any', 'both', 'each', 'few', 'more', 'most', 'other', 'some', 'such', 'no', 'nor', 'not', 'only', 'own', 'same', 'so', 'than', 'too', 'very', 's', 't', 'can', 'will', 'just', 'don', \"don't\", 'should', \"should've\", 'now', 'd', 'll', 'm', 'o', 're', 've', 'y', 'ain', 'aren', \"aren't\", 'couldn', \"couldn't\", 'didn', \"didn't\", 'doesn', \"doesn't\", 'hadn', \"hadn't\", 'hasn', \"hasn't\", 'haven', \"haven't\", 'isn', \"isn't\", 'ma', 'mightn', \"mightn't\", 'mustn', \"mustn't\", 'needn', \"needn't\", 'shan', \"shan't\", 'shouldn', \"shouldn't\", 'wasn', \"wasn't\", 'weren', \"weren't\", 'won', \"won't\", 'wouldn', \"wouldn't\"]\n"
     ]
    }
   ],
   "source": [
    "# check stopwords\n",
    "print(stopwords.words('english'))\n"
   ]
  },
  {
   "cell_type": "markdown",
   "metadata": {},
   "source": [
    "## Filtering and Cleaning data"
   ]
  },
  {
   "cell_type": "code",
   "execution_count": 20,
   "metadata": {},
   "outputs": [],
   "source": [
    "# create a function to clean text\n",
    "\n",
    "def text_process(mess):\n",
    "    \"\"\"\n",
    "    Takes in a string of text, then performs the following:\n",
    "    1. Remove all punctuation\n",
    "    2. Remove all stopwords\n",
    "    3. Returns a list of the cleaned text\n",
    "    \"\"\"\n",
    "    # Check characters to see if they are in punctuation\n",
    "    # nopunc = [char for char in mess if char not in string.punctuation]\n",
    "    text = [char for char in mess if char not in string.punctuation]\n",
    "    \n",
    "    # Join the characters again to form the string.\n",
    "    # nopunc = ''.join(nopunc)\n",
    "    text = ''.join(text)\n",
    "    \n",
    "    # Clean the text\n",
    "    text = re.sub(r\"[^A-Za-z0-9^,!.\\/'+-=]\", \" \", text)\n",
    "    text = re.sub(r\"what's\", \"what is \", text)\n",
    "    text = re.sub(r\"\\'s\", \" \", text)\n",
    "    text = re.sub(r\"\\'ve\", \" have \", text)\n",
    "    text = re.sub(r\"n't\", \" not \", text)\n",
    "    text = re.sub(r\"i'm\", \"i am \", text)\n",
    "    text = re.sub(r\"\\'re\", \" are \", text)\n",
    "    text = re.sub(r\"\\'d\", \" would \", text)\n",
    "    text = re.sub(r\"\\'ll\", \" will \", text)\n",
    "    text = re.sub(r\",\", \" \", text)\n",
    "    text = re.sub(r\"\\.\", \" \", text)\n",
    "    text = re.sub(r\"!\", \" ! \", text)\n",
    "    text = re.sub(r\"\\/\", \" \", text)\n",
    "    text = re.sub(r\"\\^\", \" ^ \", text)\n",
    "    text = re.sub(r\"\\+\", \" + \", text)\n",
    "    text = re.sub(r\"\\-\", \" - \", text)\n",
    "    text = re.sub(r\"\\=\", \" = \", text)\n",
    "    text = re.sub(r\"'\", \" \", text)\n",
    "    text = re.sub(r\"(\\d+)(k)\", r\"\\g<1>000\", text)\n",
    "    text = re.sub(r\":\", \" : \", text)\n",
    "    text = re.sub(r\" e g \", \" eg \", text)\n",
    "    text = re.sub(r\" b g \", \" bg \", text)\n",
    "    text = re.sub(r\" u s \", \" american \", text)\n",
    "    text = re.sub(r\"\\0s\", \"0\", text)\n",
    "    text = re.sub(r\" 9 11 \", \"911\", text)\n",
    "    text = re.sub(r\"e - mail\", \"email\", text)\n",
    "    text = re.sub(r\"j k\", \"jk\", text)\n",
    "    text = re.sub(r\"\\s{2,}\", \" \", text)   \n",
    "    \n",
    "    # Now just remove any stopwords\n",
    "    return \" \".join([word for word in text.split() if word.lower() not in stop])\n",
    "\n"
   ]
  },
  {
   "cell_type": "code",
   "execution_count": 21,
   "metadata": {},
   "outputs": [],
   "source": [
    "tor_fd_spl = review_tor_fd_spl[['user_id', 'business_id', 'user_rating', 'text']]"
   ]
  },
  {
   "cell_type": "code",
   "execution_count": 22,
   "metadata": {},
   "outputs": [
    {
     "name": "stdout",
     "output_type": "stream",
     "text": [
      "Wall time: 3.99 s\n"
     ]
    }
   ],
   "source": [
    "%%time\n",
    "tor_fd_spl['text'] = tor_fd_spl['text'].apply(text_process)"
   ]
  },
  {
   "cell_type": "markdown",
   "metadata": {},
   "source": [
    "## Split the sample dataset into train and test datasets"
   ]
  },
  {
   "cell_type": "code",
   "execution_count": 23,
   "metadata": {},
   "outputs": [],
   "source": [
    "from sklearn import model_selection\n",
    "# test_side = 0.3\n",
    "\n",
    "#Split train test\n",
    "vld_size=0.3\n",
    "\n",
    "X_train, X_valid, y_train, y_valid = \\\n",
    "train_test_split(tor_fd_spl['text'],  review_tor_fd_spl['business_id'], test_size = vld_size, random_state = 7)"
   ]
  },
  {
   "cell_type": "code",
   "execution_count": 24,
   "metadata": {},
   "outputs": [
    {
     "data": {
      "text/html": [
       "<div>\n",
       "<style scoped>\n",
       "    .dataframe tbody tr th:only-of-type {\n",
       "        vertical-align: middle;\n",
       "    }\n",
       "\n",
       "    .dataframe tbody tr th {\n",
       "        vertical-align: top;\n",
       "    }\n",
       "\n",
       "    .dataframe thead th {\n",
       "        text-align: right;\n",
       "    }\n",
       "</style>\n",
       "<table border=\"1\" class=\"dataframe\">\n",
       "  <thead>\n",
       "    <tr style=\"text-align: right;\">\n",
       "      <th></th>\n",
       "      <th>user_id</th>\n",
       "      <th>text</th>\n",
       "    </tr>\n",
       "  </thead>\n",
       "  <tbody>\n",
       "    <tr>\n",
       "      <td>0</td>\n",
       "      <td>u0LXt3Uea_GidxRW1xcsfg</td>\n",
       "      <td>Came burger one friends said good burgers peop...</td>\n",
       "    </tr>\n",
       "    <tr>\n",
       "      <td>1</td>\n",
       "      <td>XuCbLgo9j1q5dDh9251vkg</td>\n",
       "      <td>Best burger place Ive Toronto Hands know laws ...</td>\n",
       "    </tr>\n",
       "    <tr>\n",
       "      <td>2</td>\n",
       "      <td>20D8uXLZxn9yeLp4VA01kw</td>\n",
       "      <td>ever seen maenad True Blood get whipped frenzy...</td>\n",
       "    </tr>\n",
       "    <tr>\n",
       "      <td>3</td>\n",
       "      <td>13xeC5yKJO4BDyQOI3xxDQ</td>\n",
       "      <td>Holy shit place good fancy burger choices pret...</td>\n",
       "    </tr>\n",
       "    <tr>\n",
       "      <td>4</td>\n",
       "      <td>SRA86Xyf9fbOAhICWttMLQ</td>\n",
       "      <td>gotta saywe BLESSED good burger joints GTA spe...</td>\n",
       "    </tr>\n",
       "  </tbody>\n",
       "</table>\n",
       "</div>"
      ],
      "text/plain": [
       "                  user_id                                               text\n",
       "0  u0LXt3Uea_GidxRW1xcsfg  Came burger one friends said good burgers peop...\n",
       "1  XuCbLgo9j1q5dDh9251vkg  Best burger place Ive Toronto Hands know laws ...\n",
       "2  20D8uXLZxn9yeLp4VA01kw  ever seen maenad True Blood get whipped frenzy...\n",
       "3  13xeC5yKJO4BDyQOI3xxDQ  Holy shit place good fancy burger choices pret...\n",
       "4  SRA86Xyf9fbOAhICWttMLQ  gotta saywe BLESSED good burger joints GTA spe..."
      ]
     },
     "execution_count": 24,
     "metadata": {},
     "output_type": "execute_result"
    }
   ],
   "source": [
    "userid_df = tor_fd_spl[['user_id','text']]\n",
    "business_df = tor_fd_spl[['business_id', 'text']]\n",
    "userid_df.head()"
   ]
  },
  {
   "cell_type": "code",
   "execution_count": 25,
   "metadata": {},
   "outputs": [
    {
     "data": {
      "text/html": [
       "<div>\n",
       "<style scoped>\n",
       "    .dataframe tbody tr th:only-of-type {\n",
       "        vertical-align: middle;\n",
       "    }\n",
       "\n",
       "    .dataframe tbody tr th {\n",
       "        vertical-align: top;\n",
       "    }\n",
       "\n",
       "    .dataframe thead th {\n",
       "        text-align: right;\n",
       "    }\n",
       "</style>\n",
       "<table border=\"1\" class=\"dataframe\">\n",
       "  <thead>\n",
       "    <tr style=\"text-align: right;\">\n",
       "      <th></th>\n",
       "      <th>business_id</th>\n",
       "      <th>text</th>\n",
       "    </tr>\n",
       "  </thead>\n",
       "  <tbody>\n",
       "    <tr>\n",
       "      <td>0</td>\n",
       "      <td>oWTn2IzrprsRkPfULtjZtQ</td>\n",
       "      <td>Came burger one friends said good burgers peop...</td>\n",
       "    </tr>\n",
       "    <tr>\n",
       "      <td>1</td>\n",
       "      <td>oWTn2IzrprsRkPfULtjZtQ</td>\n",
       "      <td>Best burger place Ive Toronto Hands know laws ...</td>\n",
       "    </tr>\n",
       "    <tr>\n",
       "      <td>2</td>\n",
       "      <td>oWTn2IzrprsRkPfULtjZtQ</td>\n",
       "      <td>ever seen maenad True Blood get whipped frenzy...</td>\n",
       "    </tr>\n",
       "    <tr>\n",
       "      <td>3</td>\n",
       "      <td>oWTn2IzrprsRkPfULtjZtQ</td>\n",
       "      <td>Holy shit place good fancy burger choices pret...</td>\n",
       "    </tr>\n",
       "    <tr>\n",
       "      <td>4</td>\n",
       "      <td>oWTn2IzrprsRkPfULtjZtQ</td>\n",
       "      <td>gotta saywe BLESSED good burger joints GTA spe...</td>\n",
       "    </tr>\n",
       "  </tbody>\n",
       "</table>\n",
       "</div>"
      ],
      "text/plain": [
       "              business_id                                               text\n",
       "0  oWTn2IzrprsRkPfULtjZtQ  Came burger one friends said good burgers peop...\n",
       "1  oWTn2IzrprsRkPfULtjZtQ  Best burger place Ive Toronto Hands know laws ...\n",
       "2  oWTn2IzrprsRkPfULtjZtQ  ever seen maenad True Blood get whipped frenzy...\n",
       "3  oWTn2IzrprsRkPfULtjZtQ  Holy shit place good fancy burger choices pret...\n",
       "4  oWTn2IzrprsRkPfULtjZtQ  gotta saywe BLESSED good burger joints GTA spe..."
      ]
     },
     "execution_count": 25,
     "metadata": {},
     "output_type": "execute_result"
    }
   ],
   "source": [
    "business_df.head()"
   ]
  },
  {
   "cell_type": "code",
   "execution_count": 26,
   "metadata": {},
   "outputs": [
    {
     "data": {
      "text/plain": [
       "0      Came burger one friends said good burgers peop...\n",
       "418    Chinese version Cheesecake factory Came friend...\n",
       "503    reading reviews place thought would take famil...\n",
       "Name: text, dtype: object"
      ]
     },
     "execution_count": 26,
     "metadata": {},
     "output_type": "execute_result"
    }
   ],
   "source": [
    "# review user 'u0LXt3Uea_GidxRW1xcsfg'\n",
    "userid_df[userid_df['user_id']=='u0LXt3Uea_GidxRW1xcsfg']['text']\n"
   ]
  },
  {
   "cell_type": "code",
   "execution_count": 27,
   "metadata": {},
   "outputs": [],
   "source": [
    "# combine all reviews of each user to form a single paragraph\n",
    "userid_df = userid_df.groupby('user_id').agg({'text': ' '.join})\n",
    "\n",
    "# combine all reviews for each business to form a single paragraph\n",
    "business_df = business_df.groupby('business_id').agg({'text': ' '.join})"
   ]
  },
  {
   "cell_type": "code",
   "execution_count": 28,
   "metadata": {
    "scrolled": true
   },
   "outputs": [
    {
     "data": {
      "text/plain": [
       "'Wow Best baguette pastries weve almost anywhere almond croissant better Zanes shops Montreal Paris compared holidays counter service always friendly helpful fancy tarts delicious really really enjoyed pumpkin tart thanksgiving even went back second one Enjoy'"
      ]
     },
     "execution_count": 28,
     "metadata": {},
     "output_type": "execute_result"
    }
   ],
   "source": [
    "# check the result for user 'u0LXt3Uea_GidxRW1xcsfg'\n",
    "userid_df.loc['Wtc1Sc-O99FJpO3o2gh59A']['text']\n"
   ]
  },
  {
   "cell_type": "code",
   "execution_count": 30,
   "metadata": {
    "scrolled": true
   },
   "outputs": [
    {
     "data": {
      "text/plain": [
       "'Came burger one friends said good burgers people work would come twice month burger run Ordered original ok amazing everyone says think veggie option would better little pricy takeout burger Best burger place Ive Toronto Hands know laws make sure beef well done love burgers bit pink middle Burgers Priest beautifully tried doubledouble loosely packed patty nicely cooked seared outside oh juicy inside bread lettuce fresh cheese beautifully melted double double reminiscent finer burgers Ive life comparable Shake Shack NYC want knock star price point 9 taxes bit pricey smallish double patty burger think n size drinks fries downtown core seating place best Ive GTA Ill give 5 find place better location price point frequenting frequently Ill drop next time Ive craving good ol burger ever seen maenad True Blood get whipped frenzy vibrates thousands times per second quite possibly might happened bit Priest burger Queen Easts latest addition newfound addiction Torontos billions burger spots Ok maybe maenad comparison might bit hyperbole vibrate thousands times per second like gluttonyinduced shudder reasons Priest burger might one best Ive ever LOTS burgers time Lots Id say hallmark good burger actually patty Apparently clergy Burgers Priestlove name grind beef several times day ensure fresh taste top quality shows cook even left slightly pink inside purpose must confidence meat right mean never eat burger served medium McDonalds without file classaction lawsuit afterwards second hallmark good burger toppings gets interesting Priest actually combination regular cheeseburger veggie burger Oh vegetarian options boring tastefree WRONG one delightful times healthy option actually way unhealthy unhealthy option Oh irony veggie burger slice cheese sandwiched two portobello mushrooms breaded panko deep fried Somewhere Homer Simpson drooled friend told TBPs style burger closest thing get InNOut Burger Toronto Well saved LOTS time effort almost going plan trip California experience little tastes heaven room small air conditioner powerful enough cool Rogers Centre cares kind cute location actually quite ideal right across Beaches Cinema easily grab bite head show also really close LCBO also grab bite head inclined Besides overenthusiastic welcome assume mellow age gripe experience price combo came around 17 Ironically amount pay AMAZING burger Harbord Room comes service beautiful setting Maybe adjustment would appropriate suggestion forgiveness heart Burgers Priest Ill faithful customer long time Holy shit place good fancy burger choices pretty standard fare use regularass white buns processed cheese place tiny damn tiny 34 bar seats set wall signs say cant actually eat area waiting still damn good need eat gotta saywe BLESSED good burger joints GTA spending day Bluffs boyfriend decided check original location Burgers Priest Monday evening location may small accepts cash service quick friendly boyfriends first time visiting Priest decided check Vatican City Double cheeseburger grilled cheese buns Mmm boyfriend LOVED first bite ready order another one greasy one tried Mississauga location also found burger juicier think would find burger better Vatican City butHoly Smokes Double cheeseburger pankocrusted deepfried jalapeno peppers Thats ordered secret menu choose would give grilled cheese buns added crunchiness spicy kick already glorious burger WaitI wonder grilled cheese buns pankocrusted deepfried jalapeno peppers doubt Burgers Priests burgers guilty pleasures Big juicy greasy goodnessbut regret heard place best burger Toronto went check got Priest cheeseburger also option top option deep fried portabello mushrooms stuffed cheese good bun hold allllll sat outside bench struggled eat next time went back learned mistake got plain cheeseburger bun time held perfectly melded paddy cheese melted mouth thinking hours later Sometimes randomly think still place comes west end become regular Finally made trek Burgers Priest first trip back home expecting fast food jointlike place seating take place packed take place bar stools along side theres sign notice almost done eating thats meant eating area Whoops Anyway Priest burger supposedly secretoff menu burgers Facebook page course look simply asked cashier surprise us one friend shared one Priest burger awesome love fried portobello mushroom good menu burger cashier ordered us turned version Big Mac better original McDs version anything really different fact used much better ingredients hoping blown away burger Id never dream Oh well Line ups clearly common ready eating burger get bit messy became curious Burgers Priest seeing many Best Top 10 lists Even carnivores lauded vegetarian Option made journey one night pick Option dinner Stepping Burgers Priest basically equivalent going church many rules cant Even though couple stools inside theres sign explicitly saying dining Theres another sign door telling line stand etc guess needs law order since extremely tight space inside feel like always pretty crowded bit wait traded ticket brown paper bag holding goods Since cold dark outside want stand sidewalk trying juggle belongings simultaneously eating messy burger wait back home tuck fully loaded Option already cooled significantly making huge gob cheese inside extremely rubbery unpleasant Also 799 burger fairly small breading mushrooms crispy good first bites deepfried nature thing made feel bit sick afterwards verdict another one places really get hype place thats tiny seating inside bit trek downtown core admit impressive Burgers Priest devoted following even Im convert advice come super hungry come high expectations CASH theres ATM inside Vatican City Fan original grilled cheese ones consisted bread ends burger great price little high opinion Ask Vatican Amazing food experience Good one time try go order budget line get burgers quite long moves fast definitely worth wait think would workout 10 times harder week ate yesterday friend ordered Tower Babel Cheeseburger Fries burger friend ordered heart attack bun wait mean heart attack two grilled cheese sandwiches bunch fatty artery clogging goodness YES good really fattening diet Im sorry buy side salad across street Harveys cheeseburger ordered perfect liking appetite fries good amazing good enough like eat everyday diet like skinny never gains single pound meat delicious tender whole thing like literally melts mouthim sure rest thats burger like ate lol totally forgot mention fatass friend also bought two cookies well amazing cannot wait go back maybe months place REALLY good diet HOLY Best Burger Everthat Ive ever hadP Ive tried many burgers Probably would tasted better sat small tight 1I comfortable 2 Id sound like making love burger moans ecstasy Decor Im wasting time writing section tight space 4 stools sit eat ledge table DONE Food YES pump fist good patty typical patty bit crumbly falls apart fine dandy texture right got PRIEST Option Cheeseburger Option essentially vegetarian burger order beef patty substituted Panko breaded portabello mushroom stuffed cheese sound unhealthy thinking right health conscious maybe eating thisP Ill admit bit much savored every bite fries thinly cut like complimented well Overall Well worth drive matter coming Keep mind always sell 1 hour closing time usually call ahead want go late place bomb want cater bbq one dayhahah First time went hour half closed beef Pretty annoying make trek way coxwell queen finally tried place last night burgers damn tasty look secret menu httpwwwfoodwithlegscomp3136 went prepared waiting 15 minutes line told long orderd high priest big mac style construction including secret sauce well like said damn tasty meat super juicy whole thing lovely greasy delivery practically inhaled thing like minute gotten 2 fries salty greasy reminded mcdonalds fries 80s still using beef tallow fry maybe thats guys need open later sundays get nonbelievers behind counter predict place still around 50 years ok try Ive wanting never got around heading neighborhood week ok hype real well deserved priest cheeseburger option option obviously knock shake shacks shroom burger burgers priests little bit greasier cheesier burger patty though FLAVOUR SOOOOOOOOO GOOD meaty juicy grilled perfection find annoying allow anyone eat inside restaurant december snowing like 10pm hell supposed eat ended driving home eating buns teeny bit soggy Im bit burger freak tried lot famous burgers Canada states Umami burger LA favourite ate Burgers Priest good Im pretty snarky critic time Im going disagree haters say probably one top burgers Toronto also got chilli cheese fries cannot recommend good get burger Went first time week gone sooner great burgers full flavor juicy exactly biggest burgers like give lot fries pretty good little burnt still liked Small shoestring size lineup door went Friday evening moved quickly staff friendly forget get cookie go Buttery chocolately goodness Free street parking theatre park Harveys lot walk across street get better burger like Great burgers order came fast bit priced size get definitely consider coming back really lower price would probably come location often another great spot East side quick yummy bite go hype Double cheesburger worse Big Mac twice price confused Decent juicy buger seasoned sure fuss ia better fresh made premise buger holy chuck Im downtown real mccoys Scarborough ate five times bugers day situation would give three Star small cramped place worked food service industry years expect lot service smile pretend hate job Also give tip paid Go early get busy Like super line door busy Still worth burgers simple delicious would advise going double single patty bit small reasonable price Priest every topping plan come next time visit Toronto already struggling control drool watching cook flatten beef patty grill biting perfect concoction tender juicy beef topped onions pickles cheese DEEP FRIED PORTABELLA could made happier moment Minus one star surprisingly small size burger taste wise five SUMMARY Pluses 10 15 minute walk volleyball nets beach smaller portions meant could actually finish food food comes fairly quickly Minuses cash take room eat hangout inside FULL DETAILS Came check third best restaurant Toronto 2012 per Zagat line people waiting food order though Slightly disappointed sitdown joint guess adds charm Ordered Cheeseburger Priest burger cheeseburger portebello mushroom stuffed cheese fried Priest really good thanks mushroom cheese fried cheeseburger average patty used apparently ground fresh every day taste difference otherwise nothing special foodie coworkers mine read glowing reviews grabbed join lunch Burgers Priest even though quite far workplace must arrived extremely busy time since place packed people lunch rush almost wanted turn away spot travelled long distance determined mission taste food matter long wait worth wait time finally got place order hungry would wolfed anything put plates honest bit disappointed nothing wrong burger tasted perfectly fine delicious described like portions reasonably small able finish meal without feeling full regret coming Burgers Priest first time coming back return visit burger put foodcoma double grilled cheese buns deliciously juicy patty middle beach volleyball tournament think would able make back court Juicy beefy greasy oh satisfying say good gets burger others fries also done right fresh crispy lightly salted burger nirvana burger ok thought reading hearing place small couple stools cashier needs learn manners Really get priced good thing chilly chesse fries would go back opinion Burgers Priest cooks right Im sure products tried one burgers burger fancy quality Sometimes quality matters burgers top always sure burgers burger priests satisfied food weeks ago came one ordered priest fries took go location quite small busy bites found long hair burger really grossed want make fuss go back definitely hair short Solid burgers Try em fried jalapenos Also try orange creamsicle milkshake mmm mc donaldss cheapest hamburger tasty Plus shop smaller toilet inevitable get Tower Babel double cheesburger option grilled cheese buns Total 2010 TWENTY DOLLAR BURGER secret menu thats something complain pay seriously waiting someone else come ask thing say 1550 like chump boourns Regardless delicious really BEEFY taste huge actually eat whole height one bite Every single thing burger done perfection simple fancy cheeses sauces necessary However 100 agree Sarah Ls review secret menu novel unnecessary burgers going taste LIKE COW Thats good thing warning others dare order secret menu worth except picture opportunity saying beef overwhelming extra cheese makes extra greasy real need get single burger fact might enough eat Echoing Sarah Ls review meat bun ratio double desirable really simply much meat fries unimpressive drink options almost nonexistent place even though realize frills kind looks like food poisoning waiting happen Yeah come back totally worth unique taste recipe next time 1 Single cheeseburger 2 Fries neighbouring KFC 3 chocolate milkshake Harveys across street 25 Stars Burgers Priest offered seldom Burger Muncher Small Shop walking inside waited line lady told go FRONT Apparently line decoy people already ordered awaiting meal somewhat stylish setting mixed diner feel gets busy decide turn music drown chatter Stylish LIGHT selection Photo Frames along 6 seater bar counter everyone eats waits outside door Simple options still needs explanation newcomers names chose give menu Priest Combo1499 got look steep pricing cost half Star determine value set real person real reviews Cheese Burger Panko Breaded Mushroom Stuffed Cheese Fried Whatever morning exercise gave back Burgers Priest came refried Fries standard fare skip next time overheard cook showing Rough Grind Ground Beef Ball customers explain FRESHNESS tasted exactly would say unpretentious sure however FlatTop cooked Burger Patty juicy lets say Harveys one right across LIKE Option crispy tasty Panko Crusted Portobello Mushroom Cheese Stuffing Bun seems simply used holder material inside character Maybe Burger person would like quite Burger choice Im rating BP 45 cost burger Im huge fan wish burgers 2 less would eat week Nothing compares BP burgers melt mouth cooked right burger joints city tend screw overcooking burgers always get double cheeseburger hey get used grease taste overcomes mess comes burger Sooo overrated got burger blue cheese bacon saut ed onions mustard mayo pickles flavour town Bland bland bland burgers pretty tiny Definitely worth 17 meal even season fries years Canadian colleagues raving place Either unusually bad experience leave burger judgement us yanks delivered hotel room downright awful burger overcooked dry fries cold limp Gross McDonalds would seriously better mention real burger places like Five Guys N giving another try Food fresh made order simply fatty burger thats fried keep juice burgers much better Certainly live hype worth going way Went try burgers Burgers Priest curiosity given hype Option Double Cheeseburger chili cheese fries double cheeseburger chilli cheese fries canned drink came combo combo plus Option deep fried mushroom cheese burger regular cheeseburger came 31 opinion expensive meal burgers fries canned drink burgers small well big eaters Im 5 ft 2 100lb Asian female bf buff gym addict little worried double cheeseburger enough bf Luckily grease chilli cheese fries helped fill empty space Taste wise frankly honest remind McDonalds Quarter Pounder beefy flavour cheese Unlike McDonalds meat definitely fresh bite melted cheese melds perfectly juice patty think minimize seasoning meat maybe salt take away freshness beef Cheese fries disappointing heavy kind tasteless veggie burger nothing special deep fried mushroom cheese burger appeal much Option similar veggie burger Shake Shack NYC wow would much preferred non deep fried portobello burger cheese Perhaps need ordered extravagant burgers grilled cheese burger wowed However Im type appreciate eating deep fried butter balls CNE Im big burger fan patty price Im paying Ive better elsewhere Burgers Shake Shack better quality half price wish theres equivalent Toronto quality cost appears Toronto still catching place close live Ive couple times burger okay little greasy like everyone says definitely fills usually get cheeseburger husband gets Priest Cashonly place sit crowded live However service terrible girl behind counter rude first time came really know get husband usually orders dog car parked spot might move knew ahead time able eat dog come place definitely know exactly want Even next times still find service rude mean really fast food like McDonalds pretty expensive gourmet burgers left bad taste mouth Tiny little place simple menu appreciate cheeseburger absolutely delicious though bit small Fries skinny variety love theres vinegar lone bench customers sit 4 patrons comfortably Moved two years ago best burger weve yet far Staff nice Would defintely recommend place burger purity fancy toppings breads really good burgers overwhelmed lack space almost turned around friendly customers waiting food advised us definitely stay promised worth super nice guys behind counter helpful explaining menu Specifically OPTION Portabello Cheese Deepfried SOLD Priest juicy burger plus option Whoa possibly handle impressed drink options boooooooooorrrrring zero seats available arrived mention total 3 half seats something like told seats would free time food ready sure enough Tip gave seat super early probably still chewing last bits burger got big compliment Diners seem appreciative seating especially middle winter cravings Option ever since back little way well worth trip recent visit hot day twenty times hotter Priest Ugh even consider sitting inside instead wandered across street cute little park Theres picnic table Ive new gourmet burger shops Toronto W Burger Craft Oh Boy Burger Burger Shoppe place nothing like place serves good plain burger chuck ground twice order makes juicy melts mouth suggest asking Big Mic owners version Big Mac listed menu heard many good things Burgers Priest completely get cheeseburger chilli cheese fries friend Holy Smoke secret menu chilli cheese fries price 3035 pricey side burgers small compared modern industry standards Generous portion fries though secret menuI decided feel look go left limited menu past visit Option two mushroom caps stuffed cheese deep fried delicious unique burger alone would return sure would recommend otherwise Burger made burger meat tasted like burger meat Fries bit undercooked tasted kinda waxy Im really getting fuss think try someday see experience rapture others seem enjoy Finally got try place really impressed burger average far amazing chilli fries ok could make better camping trip lastly staff rude burger snob Toronto Stop reading review eat First visit Toronto always lookout best burgerroadfood town Given high Yelp rating numerous glowing articles tBP Queen appeared best choice course tried go Sunday closed Church people Toronto strange Sunday restaurant hours still get hungry Sunday night rate stayed longer town ensure could make tBP glad Easily top 5 favorite cheeseburger weve eaten lot highrated burgers lot places absolute mustvisit town like burgers standard burger double cheese burger greasy simple toppings fresh complementary stand apart like many fancy gourmet places simply service burger beef amazing thing could possibly say might improved burger would pinch pepper even might intruded perfection meat cheese grease bun topping combination really quality big greasy burger fries good okay Maybe would better chili cheese option waistline cant handle double cheeseburger eating restaurant cash Weather permitting take treasure park kittycorner across street chow lie back wonder life got good review 1 Summer 2011 Search Best Burger Saturday 1201 PM already lined Priest cozy nuff said smell great enough start salivation process fresh meat nicely formed balls serving awaits transformation chat patrons must good looks others asking reply quickly Burger Priest virgin order doubledouble significant Priest Somehow seems wrong given strict catholic upbringing years alter boy world shattered mushroom fryer broken OH HUMANITY opt doubledouble order fries go tomatoe onion mayo Let burger sing song people juicy meat flavour Nice crisp patty minimal bun good angels path white light Still waiting Could make burgers home course holy trinity meat bun add ons others stated opnion least yet good absolutely Eating convenience social creatures partially experience thought individual stove take taste buds spirit another level back Priest someday looking forward giving 5 stars God willing Namaste 455 Im going start cons since theres one main one accept cash day age insanely annoying Im gonna say every vendor please accept debit credit cards makes easier spend money location add TD around corner kind helps TD bank account holder Thats con Ok lets get burger already ordered cheeseburger wanted keep simple fries buddy vegetarian got option two portabella mushrooms cheese breaded deepfried took 10 minutes order come even though full house burger foodgasm mouth tasty easily one best burgers Id tasted ages lets honest Im pretty promiscuous burger eating habits fairly small cheeseburger good value get soft side burger spectrum opposed patties harder days Surprisingly liked aspect melded everything together really well fries simple yet delicious hard eff buddy ordered said option super tasty buyer beware really hot right ordering bite soon PATIENT PIG future Id recommend getting cheeseburger option skip fries since fill real good service woman cash super nice friendly Thats interaction staff One cool thing mentioned asked could recycle subscribe garbagerecycling sorting service sorts everything even goes bin good guys Atmospherewise small space full people one common goal eat burgers pretty sweet actually like fact within small space ethos friendship fostered burgercraving humans Asking strangers borrow seat used even squishing beside stranger seem like cardinal sin kind nice Toronto Rejoice burgerism others make friends 7th day God rested created Burgers Priest saw good good think make better burger home different options menu secret menu sounded like going give heart attack opted plain cheeseburger Maybe wiled gotten something artery clogging since good reviews seem opted Option something secret menu really mood plain old fashioned burger patty moist juicy cooked perfectly pretty small considering much paid texture density patty light liking crumbled fell apart ate cheese greasy made burger oily Theres virtually sit got find curb steps around place chow Fortunately manfriend decided eat Swiss Chalet across street place sit eat bought fries well since heard fries Burgers Priest horrible Id come beaches area someone else suggested first absolutely want eat anywhere else got best burger Ive life burgers melt mouth juicy lots flavor burgers priest must try Amazing fries well Oh Burgers Priest took long get perfect day Woodbine Beach short walk away BP Leslieville place tiny ordering zone Luckily Woodbine park around corner summer day Service friendly patient newcomers incredibly excited saw balls freshly ground beef waiting pounded grill burger astounding meat retained juices tasted way homemade burger could make meats true texture perfectly indication fillers bun held together nicely great addition classic cheeseburger feel fries piping hot wonderful wish better system taking ketchup go instead squirting much desired straight bag However still tasted great golden crispy crust beach burgers may perfect combo concerned bikini far tell put limits Ill indulge Burgers Priest Great tasting burger cooked perfection Juicy enough need toppings prefer without cheese Finally chancereasonopportunity try place Must agree opinions burgers rock even chickened go Priest settled doubledouble bacon fried onions One word Foodcoma planning operating heavy machinery headed perform surgery might something little lightermaybe option exactly looking lived online rep Staff friendly food ready quickly summer way small amount space hopefully less issue burgers eaten outdoors think BarBQ Wow Even cold taste awesome cheese burger fries cause eat got back office cold hey still juicy Next time sit Yummy EDIT recent burger suspiciously chewy weird bits connective tissue beef byproduct blended patty something entirely new nasty texture sticking crowns molars kinda grossed Considering prices gone heavenward since Priest sold cant see justify drop quality beef think tell tell toppings still meagre lack emphasis particularly lifeless fake cheese slices would actually take home add aged cheddar slivers sour kosher pickles wake thing hell sadly funny Priest brand pretends dope Please start suck badly BP use nasty filler meat would sin give chance redeem END EDIT Ive gotten used mushy style burger OK probably getting full quota grease salt day reason recommend bacon cheeseburger much salt double cheeseburger decent value want try Californian next try Vatican whatever called burger sandwiched two buttery grilled cheese buns fun tasty eat take creative chances Note TBP cooks order stocks fresh beef mean 1530 minute waits crowded area sometimes run bit early quIte busy Happened beef portobello veggie sandwich quality demand still prevails bit gross chlorine taste tomatoes lettuce something seems bit careless place tiny barely room stand order leave rather eat Basically ZERO civic space benches location unfortunately burgers best enjoyed right away home might improvise eat sidewalk like local rubbies kind funny Fast acceptable food incredibly awkward little location space worth try good enough get past questionable experiences got cheese burger bacon fried onions Easily one best fast food burgers life burger extremely juicy flavorful Since live Beach see coming lot fries fresh cut awesome Next time come try veggie option called Option 2 portabello mushroom caps stuffed cheese deep fried guys work fast friendly tried place today Im sad waited long tempted try Option wanted try burger first see deal got cheeseburger must say damn near melted mouth delicious Incredibly delicious must try Option maybe one daythe Priest Im drooling thinking must say thoughget times get Interac Cash BOOURNS Unless deal ATM guy next door split service charge people send thereI could understand Ill come excuses go Beaches Hands favorite place grab burger Ive tried regular cheeseburger High priest Tower Babel time belly thanked big fan fries chili fries though make mistake ordering Would much prefer swing mcdonalds grab fries compliment burger place really small advice experience would go lunch dinner rush avoid line door area little sketchy especially night burger well worth try new location one days Bring Cash really would like give place 5 star rating bit PRICED whole secret menu thing confusing really need research online find B actually order know want posted anywhere secret shocked price secret burgers menu make place worth trying small inside crowded order area waiting area totally take place relax eat unless lucky get stool doorway people bumping try eat dirty counterstool area burgers impressive fries shakes willing pay 2 people close 5000 2 burgers one fry one shake stand lineupsthen place first review burgers husband obsessed frequent Priest quite often remember day 1 burgers priest existed theres 345 Either way still delicous prefer location true roots small style pun intended cash eat car need summer day good company music blasting burgers cold pop think best keep one short sweet Burgers Priest speaks sure try vatican fave Great burger sure order secret menu Vatican City burger double cheeseburger TWO grilled cheese sandwiches used buns awesome Also added bacon fried onions deep fried breaded jalape os toppings best burger Ive ever great burger nonetheless fun experience Burgers Priest small place packed standing room Definitely worth trying Ohhhh myyyyy loooorrrddd best burger ever Seriously burger burger usually taste good regardless heavenly see First go hoping grab cozy seat chat friends inside Take GO gets super duper busy lineup weekendsdinnerlunch time way around past next door convenience store PRIEST cheeseburger PLUS option option magnificent somethingportobello mushrooms oozing cheese breaded deep fried felt artery clog writing would course theres meat Im pretty sure use kind secret ground beef sprinkled angel dust bun kind small messy best kind way around 5 people working behind tiny counter fast friendly secret menu Google know secret ready get kick yelp kicked BP revealing hard find think Facebook page Yeah Im fan get fries fries fries aint gooey portobello mushroom concoction GO GO GO GO GO option BEST BURGER JOINT TORONTO go beaches cuz love xoxo Meh price seats hypeIm underwhelmed Ok patty great double meat could ever eat chilli cheese fries one worst Ive ever screw fries cheese chilli 17 combo little bit RIDICULOUS burger Makes miss Shake Shack sooooo much definitely Toronto replacement Ordered priest special mistake Happened sit outside another customer looked first couple bites found closest garbage dump rest burgers anyone rate grease ball thing anything 1 star good thing place beaches cause girl could easily put pounds eating girl sees shame bacon cheeseburger day aka lot comparisons INNOUT chain California Id agree think INNOUT back day mom pop shop Burger Priest less fastfood popular california burger chain similar principles Fresh ground meat cooked griddle soft buns also similar toppings burgers theyre mostly simple toppings like ketchup mustard mayo pickles tomatoes onions lettuce cheese bacon fried onions see thousand island type dressing INNOUT uses though burgers bit bigger patties bit free form fries also larger cut Yes made enough trips INNOUT know cut fries lol One main difference option deep fried mushroom stuffed cheese Yes heard correctly imagine started vegetarian option think mushroom stuffed cheese considered vegetable fries bit greasy went think use yukon gold potatoes love cook fries bit sweet Still really good best fries Ive ever Want try chili cheese fries next time Im location small tiny row bar stools along wall Kind hard eat busy great take away sitting nearby park weather nice driving getting take away wish drivethru Fresh food take time expect wait burger least 10 minutes even busy worth Overall Id say burger alone 5 stars fries 4 stars location setup maybe 3 Id drive burger day Ive heard many good things place figured 1 near work place went give try freshness quality amazing 2 things happy price size burger got priest costed 12 dollars bigger mind price Overall worth price get Priest Burger amazing fresh ground meat really makes huge difference taste flavour deep fried cheesestuffed mushroom decadent really put burger top Im thankful smaller sized burger eating one oversized rich would definitely make feel extremely guilty Im surprised read many people disliked fries actually loved prefer type french fry super straight crispy variety add splash vinegar ketchup dipping YUM place definitely lives hype despite lineup steep price definitely returning burger fries fix never expect actually eat place extremely tiny 5 seats available apparently used sit eat sit wait food Also accept cash Theres ATM convenience store next door case good high priest burger last night High priest better quality big mac meat juicy bottom bun soaks take cash gosh Absolutely delicious Great old fashioned burgers Id highly recommend place wish sixth star theres plenty writtien food secret menu items thought would talk effects first time finished double cheese Vatican City barely sat park bench staring blankly abyss lake 15 mins trying get happened know picked name cult burgers new leader Ill keep short heard much raving gave shot could say great concept mystery menu nice staff overpriced overrated burger alright take basic burgers add toppings bun little stale beef patty seasoned well definitely overhyped social media really worth going back biggest problem Priest consistency 85 time itll best burger ever fries really good However 15 time burger right fries overdone makes question whether want live another day get wrong even bad day burger pretty good transcendent 85 time Well enough get 5stars far overshadows occasional misfire best burgers Toronto usually get Priest burger stuffed portobello mushroom However find bit greasy side compared Shack Stack Shake Shack Im used since Shake Shack Toronto Burgers Priest good alternative Burgers Priest place could get comfortable worshiping Nothing fancy burgers thats makes good Quick greasy side awesome fries really cant go wrong told opening another location west side soon great news trek Church negative place Simple Fresh Fantastic Although offended pay extra 179 Low Gluten bun Great burger Comparable Shake Shack InNOut burger Wish would put creditdebit machine Im probably one find burger preist average tasty nothing special filling price usely get Vatican double cheese grill cheese bun expect melted cheese half way yhere find finishjng thing minutes still wanting 13 burger yeah filling Planned journey Burgers Priest today 40mins travel time TTC dragged friends along wait sink teeth TOs BEST BURGER finished 5 minsjuicy meat bacon cheeseGREATNESS enjoy eating outside rainy weather though need expand little id like sit iNSIDE Came Burhers Priest Monday evening see OG location served better burgers others Verdict taste quality decreased recent years new flat top griddle allows faster cooked burgers cutting corners busy girl working cash seemed distressed nonstop phone calls Uber eats orders instore customers got cash gave long eyeroll Like wtf want sort look Cool Family Day busy understand respect level service watched young gentleman behind counter talk rudely Uber Eats Driver spoke little english picking order rudely began screaming poor man yelling VOCALIZE ORDER NUMBER quite disturbing Anyhow 25 minutes received Priest Heavvy tasty similar BP locations likely would return location based service attitude staff work Unfortunately cashier messed ordered pretty badly time realized gone home burger tasty worth driving across town eat car tasty head way lucky enough live area make sure get Vatican bun grilled cheese sandwich makes happen Okay first fast food awesome Burger restaurant expected place reeeally tiny Like 5 people fit thats cant really sit would rate restaurant would get 2 stars definitly fast food ill give 4 good fast food Tower bable thing 1 Huge 2 Cheeseheaven really fatty worlds better fast food restaurants kind expensive Burger something round 18 bucks tax take cash customer service safed 4 stars ATM store working fault one next store working fault really wanted Burgers went round corner got money finally guy behind counter sorry got drinks free good fast food experience go really understand people rated four stars meat tasteless Ive twice fulfilled expectations waaaayyyyyy better burgers Toronto Americanstyle burger Shake Shack Corner Bistro idiom think backyard bbq homemade patties processed cheese soft white bun Nothin fancy nothin high falootin great ole burger big small paid 8 bucks bacon cheeseburger pop room inside ate car life good Overpriced eating High Priest 2 beef patties drink paid 15 still hungry Never Heres confession moved Toronto July 2010 Prior visit Burgers Priest nearly 9 months since eaten decent burger Toronto believe Ive tried plenty beginning give hope saved Burgers Priest visit cheeseburger First meat perfect handformed patty juicy juicy juicy highquality meat soft pillowy bun burger would already qualified Torontos best piece de resistance Option reviewers mentioned two pieces portabello mushrooms cheese middle breaded panko crumbs deep fried HOLY MOLY thing bomb got texture flavor artery clogging amazingness sets burger apart others fries great kinda soggy thought thing place really missing milkshake go greasy deliciousness amazingness cheeseburger Option transcends small sin holy burger trinity complete InnOut Five Guys Burgers Priest may seen god certainly seen light damn fine burger Pro tip room eat take food go drive short distance park enjoy burger communion Hands best burger joint city Burgers fresh cooked perfection Would recommend calling ahead order pick Believe Hype Best Burger Toronto believe way prepare burgers Incredibly juicy melt mouth meat RICH might able burger often treat order simply Double Cheeseburger Fries soda expensive worth Also really amazing staff Seriously expecting jackasses behind grill everyone wonderful chat made experience terrific Enjoy Priest theyve found fan Jesus made burger would taste like strong frame reference comes burgers Northeast Ohio home Akrons Swensons Skyway DriveIns Whiteys Richfield Sonic DriveIn located town Culvers throughout US Midwest InNOut Burger Southern California Las Vegas well Burgers Priest best burger ever long time burger juicy consistent ingredients top notch fries stacked burgers well places like InNOut Sonic many others fries pale burgers downside particular location serve milkshakes time know changed alone cost 5star rating Seating limited ate counter facing wall care burger simply dm good takeout expect able sit quiet spot place popular size Regular line ups norm burger star ordered california classic negative thing say bugers special order favourite toppings menu onions ketchup etc matter place delivers promise great burger Im already planning next trip ordering priest option sounds delicious Im religious person hallelujah praise jeebus burger place hood love Ive heard rather read reviews place little website arteryclogging veggie burger check Ive got deathwish tiny little place airconditioned wouldve opted eat park could die nature veggie burger gawddammit hot stools expecting lineup door maybe eastenders like live healthy lifestyle wanted suck back grease yum guy counter super friendly asked us followed theyve ever eaten explained showed us fresh raw beef thanks like cow flesh sure love cheese make also showed us option veggie burger described reviews two portabello burgers cheese smothered panko breading outside deepfried also let us know fries fried meat take cash husband ran LCBO got beers cash Praise burger heavens ac keeping holy beverages cold burger good think chewed inhaled rest somewhere lodged esophagus right Beware cheese burns squirt cause facial damage happened pizza pop creates unsightly wound burger bun reminded mcdonalds thats bad thing good childhood memories eating shit fries reminded mcdonalds fries except thinner tiny bit soggier burgers go anway Seriously man get burger priest praise heavens decent burger joint east Maybe expecting much Burgers Priest hype place ok definitely best burger Toronto Priest Burger better burger judge place namesake menu item others said bother asking questions Look menu including secret menu online go feels like thats big part place hipsters feeling like theyre insiders telling went Burgers Priest Back Priest Burger tasted ok small price average burger really live hype Ill give another shot time Ive better burgers places nearby Great Burger Kitchen BQM Craft Burger Big Smoke Ummmmm Burgers Priest Finally came original Beaches location felt like pilgrimage Ambience odd hour around 5pm able order right away bypass huge lineup walked back 730 line huge store lot smaller midtown location could fit 10 people Hot inside small shop prepared lack seating drawback Food Decided go back basic cheeseburger Oh goodness love meat juicy tendered cooked right Would return definitely likely visiting midtown location Despite right around corner TBP dropped largely disappointment new premium burger shops Ive Today took bait ordered Since busy spoke owner one first thing told TBP gourmet burger joint modeled InNOut burger added new york flair think incorrect gourmet part gourmet might mean adding foie gras truffles burger think TBP captured outstandingly fresh meat burger outrageously moist delicious arrangement vegetarian option highly inventive contraption sandwiching cheese two portobellos lightly battering panko frying huge hit know new scene keep customer service standards TBP must burger lovers First thing partner got food poisoning place Ill never go back love burgers Im stranger good burger great flavour profile seemed like glorified McDs burger guess people like much many amazing places get burgers city believe hype Awesome burger see fuss pressing flesh 29 people given moment open Heavens sake Please expand location claustrophobes stay away Bring cash unless want ruin dining experience going use dirty ATM next door place confident full rats Four horseman Apocaplyse go home Expensive burgers may say theyre small unless eat four horseman Apcalypse 2000 hella worth itor vatican city aint worth time Good day good people Best Burger Ive told visiting Id say check unseen aka secret menu Facebook full surprises High Priest listed menu item love Big Macs love OH GOD found best burger Toronto place Toronto Star right Im glad tried place burgers smaller normal supersized bun good cant even explain try take friend Note much seating may stand outside shop eat worth YUM priestthe option beef pattyomg deep fried portabello mushrooms cheese made burger one best burgers ive Toronto menu hanging ceiling descriptions burgers quickly get menu website phone see burger definitely room sit cramped little space take go salivating car trying rush home ASAP eat thing fries much hit little soggy closest could compare swiss chalet fries short overpriced glorified McDs 10 burger fries grape crush points carrying childhood fave soda patty relatively tasty despite copious amounts grease ooze bite incredibly small Worlds Plainest Bun basic toppings fries tasty plentiful Without fries Id starving Absolutely nothing remarkable burger amazes people consistently bow place went several months later reading burger edition Grid alas felt different Also takeaway joint time get BFFs lives less 10minute walk away grease patty begun sink bun like soggy bun definitely waaaaaay better burger joints town large lineup outside implied place would amazing looked tasted like ordinary cheeseburger burger good calling even ordinary cheeseburger bad would terribly unAmerican however certainly 10good friends took swearing best burger joint Toronto really see hype best town Happy expanded areas Toronto Edmonton think delicious burgers think burger priest Thanks tasty burgers Keep hard work far burgers go Burgers Priest knows grill serious ground beef patties try anything special normal cheese burger fries pretty damn good said personal opinion hard mess meat bread first time go going know get hence choice standard cheese burger Take time though staff seemed pretty nice expect sit anywhere Ye son also go like meat ok need drive way try Five guys better price served platter People toronto bubble came waited outside exchange money US Canadian dollars 15 minutes time walked ran burgers totally sucked come make sure come earlier run meat get Option though goodness AMAZING SOOO glad got come back would totally get versus beef burger probably portentous beef burger ran portobello mushroom stuffed cheddar cheese covered panko bread crumbs deep fried first bite cheese melts crunchy breading delicious portobello mushroom actually meaty almost tasted like beef complaint one side patty cheese melted tasted bit cold general amazing goodness come get burger definitely consider Option amazing want amazing burger would like get blessed come Burgers Priest every burger named biblical personplace event wonder theyll ever come Apocalypse Burger absolutely delicious time destroy insides Anyhow patties juicy infused cheese thats gooey clings meat eat bite toppings fresh clean overall burger greasy heavy really good Honestly fries great comparison burger really spend much time eating would say par fries GBurger definitely notches lower fries Speaking photos famous burger joints around North America saintly names photo sign caption reading Saint proud Well first burger good ordered another burger immediately eating Priest Burger Theres onsite restroom free tap water understanding wait long 45 mins order according cousins live street multiple times went 30 mins opened Tuesday able order 10 mins excluding wait time food made Theres limited bar seating believe 6 barstools narrow bar table honestly spot right across beach get burger drink head beach plop sand park bench enjoy burger view Lots attractive women playing volleyball Wink wink Ill definitely want return next time visit Toronto place definitely going burger list Heres place breaks top ten burger list 1 Burger Bar Las Vegas NV 2 Healthy Junk Anaheim CA 3 GBurger La Habra CA 4 Left Coast Artisan Burgers Seoul KR 5 Abbeys Burger Bistro Baltimore MD 6 Shake Shack NYC NY 7 Gourmet Burger Kitchen London UK 8 Burgers Priest Toronto CANADA 9 Root DIA Denver CO 10 InNOut California CA Parking limited street worth driving better find parking elsewhere walk Price 614 per burger plus drinks water must bought well Wait get long 30 mins order opinion best burger joint Toronto want good juicy burger packed flavor GO place really offer room eat little dining space also Secret menu find website kind boggles mind menu holds best stuff Im sure lot people miss lot options shown joint kind makes feel sorry Either way Im giving place 5 stars come burger favorite Toronto Im going come sit socialize want go Works recommend place anyone looking amazing tasting burger either ask High Priest Vatican City fries great heard really decent things burger priest Since live area boyfriend decided head one Friday night arrived place packed full even enter excitement pushed us wait got awkward vibe assume owner Instead making sardined customers feel ease watched staff intently sure correct mistakes awkward would say biggest disappointment taking food go decided get cheese burger share chilli fries clearly mistake fries disgusting turned pile mush time got home burgers properly packaged fallen apart bag gross disappointing going supply sufficient seating think better way take food go Personally place seems appealing summer people drunk care Lived never got chance try cause always stop kfc cause cheaper felt like going decent food money tried burger priest burger delicious fall meat ground beef tender know know kind beef used juicy order went order people standing waiting orders like behind 15 people waiting figure well many people waiting must good Took 1012 minutes cause far behind queue thing like explanation menu option whats right ended ordering double Good place willing spend bit burger Tiny cramped source citys delicious hamburger High Priest think Big Mac made actual food products fries Ingredients fresh service friendly Absolutely worth taste love good hamburger Id come regular basisif crazy prices definitely place come awhile burgers amazing OMG Pun intended Full review coming soon reserve judgement check second time liked fries smell weird burger weird taste smell beef disgusting found hair burger Slow service Burgers good worth price Ordered holy smokes frees pepsi Cant remember exact price nearly 20 Burger indeed good portion fries pretty hefty plus also pretty good thing Im trouble justify price essentially takeaway burger place Ive burgers restaurants cheaper Id give 4 stars based food give 3 price Probably get Maybe like slap burgers found burger mushiest greasiest thing imaginable Honestly mushy big Mac delicious basically upscale McDonalds fancy gourmet toppings get processed cheese slices white buns man oh man burgers TASTY know want go tiny place theres time stand around trying decide want takeout spot nowhere sit bathrooms warned ive paid much money burgers around city guys patty science juicy tasty falls apart mouth really burger fan know burger need fancyass toppings meat good quality please burger joints keep blue cheese pineapple rings crab meat lobster rolls shite things take away essence burger really work cover lessthandecent patty ill take basic burger Burgers Priest DAY OMGthe best burgers Toronto ever tasted Must goto cant say enough placealways line Pretty good husband says best one franchises location get option always point Cheesy crunchy deliciousness always gets beef says real cow taste whatever means meatlovers seem understand go wanna cook tonight Mississauga visiting relatives decided go burger quest seen number places featured TV shows Since Burgers Priest recently opened another location Mississauga brainer WRONG idea buzz double special saucethe counter girl said version Big Mac Problem Big Mac way better rather thin patties absolutely tasteless Run mill roll order fries produced potato bitsnot one fry longer half inch like whats left fry basket serve real friesThe noise level unbearable point everyone place yell four us felt way rather tasteless food bit pricey get get Sorry Priesttime convert find real burger joint worth eating hope hipsters keep business clearly food Burgers Priest one best burgers Ive ever wish got double cheeseburger good size felt like might needed another big eater serve burger smaller bun eating filler actually taste meat Skip chili fries theyre worth stomach space Definitely going back trying something secret menu know whats hope one burgers fried egg worth 23 bucks 2 burgers small greasy fries pop Harveys across street would better value money Disappointed 35 stars quality food 45 stars price drops overall review ordered priest combo impressed burger damn option hefty piece complaints really heavy burger made fresh tasted amazing end combo costed 16 cant let one go location good others terms look however burgers good Friendly service got fiery furnace well made tasted good try near future things pop mind writing place 1 burgers pretty good 2 Priest two portabello mushrooms cheese deep fried pretty cool tasty 3 fries twice fried seems fried perhaps baked left cool order fried come nice crispy 4 restroom customers use pretty big negative lot walking coming place without services means cant drink water meal 5 burgers rather large patties cooked temperature option came medium fine would preferred option get mine rare 6 options toppings rather limited standard basics grilled onions mushrooms jalapenos etc 7 option bacon made pretty sad Im fan cheese burger option anything else burgers probably would return someone thinking going shy away first time like mushrooms cheese fried things Try Priest Enjoy cant say agree Mag place Torontos BEST burger pretty good visited around dinner time hour March place tiny already 8 people cramped figured must good time left 10 people waiting ordered hamburger everything fries drink friend mine ordered something deepfried mushroom top least thats told cheese onions good stuff meat burger super fresh much appreciated bun soft way like staff awesome menu lets customize burger anyway like get pricey lived area would time really worth drive Mississauga simple burgers done well good ingredients make taste great Twas Sunday night everywhere closed stumbled onto place pleasant experience patty juicy burger perfectly sized people friendly Seating limited takeout best option Fries disappointing Fries Priest Really good burgersreally good world class surealso portabella burger thing think called priest different also really great liked portion sizes simplistic approach feel stuffed meal well fed selection drinks joke though attitude folks working cool hurts come back many times location small lineups door sometimes 4 5 seats wall says waiting area still eat empty Ive ordered single cheeseburger double Vatican City burgers amazing vegetables fresh buns soft like everyones favourite style patties Best part burger absolutely flavourful juicy fortunate way live close location keep coming back drawback fact bit pricy Quick tips maximize experience Google Burgers Priest secret menu come actually website suggest Vatican City hungry buns replaced grilled cheese sandwiches sounds disgusting delicious expect healthy burger Ive seen reviews complain grease oil expect burger joint Bring cash accept cash always get Option veggie burger made breaded mushrooms think melted cheese usually vanilla milkshake w malt Truly delicious staff nice food cheap good pickles excellent Aw shit love place ever religion would prescribe itd greasy food gods go fail safe Priest everything Priest cheese burger topped fried mushroom stuffed cheese lot never get sides Get thank later true secret menu myriad extra options cornucopia go armed knowledge time spout everything place gets busssssy PEPPER POINTS worth wait every time oh holy one 1330 KNOWLEDGE link secret menu httpwwwtheburgerspriestcomsecretmenu call Tiny Overpriced Burger Nice cheeseburger nothing special tastes like homemade burger 5 guys waaay better opinion Bigger burger better toppings much tastier much hype deliver know many gourmet burger joints hard say go take joint Theres counter seats 4 people usually crowded end eating car cold eat outside date place group thing burger great giant sloppy mess tasty juicy lettuce tomato restaurant grade got fresh organic farm taste color chili cheese fries delicious thing meal american thats okay land poutine pretty filling recommend planning eat health concious girl Overall good place take joint disappointment Key Features Option heres deal everyone says best burger city tasty burger Theres denying tasty put option top well thats little something special well option giant mushroom stuffed cheese deep fried Sounds good right get burger looking ten dollars Ten dollars made trek way east end Toronto might argue paying taking trip East End growing lovely little burger joint charged ten bucks burger Id sit Id eat Id like thing cant sit cant Eating inside allowed theres nowhere around go either spend twenty minutes walking beach eating time burger cold sit KFC parking lot scarf meatwich aspect ideal Sure burgers good really tasty theres reason love option makes flavour treat cant get anywhere else price takes peg inability actually enjoy meal due seeking place eat takes peg Go say done appreciate experience friend car trick taking back burger tastes lot better sitting passenger seat sitting cold curb looking good meal well probably better options Ohh noted one ten dollar burger probably fill thats strike three guess little since Ive excited place thought writing review soon leaving made sure post experience within 24 hours doubt need read another review Ill say anyways owners buy grind meat small patches comfortably say never seentasted fresher burger establishment fact received burgers relatively quickly considering lineup 4pm Monday greater testament fact fresh food speed go hand hand Ill break rest review sections may may want read food Priest double burger veggie beef patty maybe best burger ever quite bit trouble biting burger thanks stacked nature taste made factor veggie patty large Portobello mushroom filled quality cheddar cheese rolled bread crumbs Ahmazing beef patty simple mentioned ultra fresh enjoyed watching guys cook perfection chilli cheese fries also good felt fries baked sheets deep fried best enjoyed sans chilli andor cheese good side nonetheless ambiance Burger Priest largest burger shop definitely best experience staff compared place noted pictures classic NYC burger joints wall JG Melons etc surprised great discussion various New York burgers brothersowners brotherhood verified knowledge joints including even people select beef Shake Shack amazing later realized large part small burger joint run ArmenianIranian family mother boys charge also came back pleasant little chat group stay patrons came asked owner came back personally greet chat fact able provide personal experience along speed quality simply amazing hope able keep become increasingly popular Impact Burger Priest resulted argument two friends notably Bijan V regarding take credit finding establishment reality thanks Yelp 33 votes best burger North America one friend claiming better ones Dubai lingering taste left dazed drooling next 23 hours beachconsequently team lost several sets volleyball BEST BURGER EVER small little burger joint deliver goods place ridiculously packed people moment open burger definitely worth wait got regular burger cheese burger signature burger Priest Burger must get item patties burger rich packed flavor juice weight burger also ridiculous people diet come unless cheat day even might regret bc automatically gain 5lbs easily burgers range 710 plus tax course normally justify paying much burger DAMN good destroys burger Ive ever States choose one burger get get signature Priest Burger reason bc deep fried cheesy portabello mushroom add juice comes burger cheese dripping deep fried mushroom amazing moment bite OH YEAH Item definitely get Priest Burger get angry people talk place makes want amazing place unique city Went Burgers Priest last week must say Im big fan burger usually get double cheeseburger bother fries fries good burger makes feel sorry Harveys across street LOL regular burger chains really hold homemade type burgers sprouting across city Sooo good went lunch time waited 5 mins line bad compared expecting group may want split send one person room 10 people inside always busy husband got cheeseburger described good kinda like Licks got Option fries topped lettuce ketchup onions rare food lives good imagined really high expectations vegetarian option actually dream good burger going taste seriously actually exceeded expectations size flavour worried might cheesy runny even hot eat absolutely satisfying super tasty Fries decent burger person burger burger burger Option absolute reason return wait crazy lines Try regret return would get hypocrite Option topped bacon yum Ps park 1 block south prefer eat burger parking lot close enough fries get soggy promise Pss CASH Total disappointment rip compared local burger joints added free toppings like lettuce tom onions pickles could still mostly taste patty really enjoy vegetables patties alright price much bigger paid 5 extra combo gave pop bag fries tasted like fried cardboard even finish made feel sick halfway Im likely never going back returned pray Holy altar meat Instead Priest however went modest cheeseburger Still took twelve minutes left stinking like deep fryer literally oil mist air burger MIGHTY delicious Since room eat inside head across street look behind Imnotquitesurewhatitiseither municipal looking building ye shall find picnic benches convenience good Diet Mug Root beer Holy smokes favourite burger city meat fresh daily juicy moist amazing take burger small location well worth trying Cold bun cold cheese Shitty greasy fries Big Mac meal better option cold cheese melting bun ice cold shit Thank 30 bill Nothing special U couldve made 10 burgs BBQ price Wow aforementioned reviews spot Burgers heart cloggingly delicious shared vatican Im sure coronaries happy half vs whole thing Worth trek leslieville double cheese burger best ever Toronto Cant wait go back burgers great 3 times favourite city review gets 5 stars went last night bit issue way running place 3 staff manning place wait 20 minutes order 3 burgers 1 fries end world communication staff situation heads order unusual wait status updates explanation apology finally get food name gets called food wordlessly handed thanks business nice day sorry wait enjoy even say 3 Hail Marys absolved issue sure wait even necessary multiple 5 minute periods wait burgers grill nothing hard see hard coordinate optimize workflow serve burgers fries 3 staff let dissuade going place great really want NEED succeed minor tweaks way run place would beyond perfection please go best fries burger need new bun least optional bun complaint bread rest far best burger city Fresh beef need know fries special flavoring crunchy like Holy hamburger Batman place believe separation church burger Theyre pretty Christian name hours Sunday saying church instead closed check website link church affiliated Like food places theres glassprotected counter guys church fence kind see confession least movies since know experience ordered cheeseburger want order another options commit one seven deadly sins gluttony Beef beef cheese carbs double double sounded intense Something kosher must say really appreciate place grinds beef burger super juicy love patty cooked Fall apart goodness overcooked buns onions reminiscent McDonalds feel like stabbing appendix eating super delicious Definitely one better burgers Toronto Thou shalt eat chili fries Thou must repent 7 hail maries 10 laps around block thing sinful Burgers Priest loses star chili fries beef seemed overcooked powdery something like sitting way long much melted cheese top actually entire sheet greasy cheese intense Way much handle chocolate chip cookie pretty decent 130 plus tax stools along wall ideal eatin Get go unless like eating cramped environment Friendly service Overall great burger joint offers nostalgic burger taste weve grown love Pretty decent cookies Skip chili fries live west side town would come time One best burgers city hands hype deserved choices alone always exciting coupled high quality meat toppings makes premier burger joint However loses star books fall firmly side fresh cheese cheeseburger debate disappointed found processed cheese slice hiding bun least option real stuff puritans game best hamburger eat kind game guaranteed win Many argued Torontos answer places like Shake Shack INnOUT totally safe comparison cant really figure call PJ Clarkes one saints thats neither love branding overall feel place Exactly city needs best burger ever upper echelon hamburgers Absolutely go Yes happy Vatican ice burger priest Ive thought youngerfatter years thinking chocolate ganche grilled cheese guys put Chocolate ice cream 2 grilled cheese sandwiches Amazzzzing Crunchy cheesy buttery little salty sweet decadent killed cravings Guys take pregnant woman litterally made say jesus Christ wonder everything religiously named kinda played tricks head like eating burger desert Hitting 2 birds one stone really need eat burger see tasted good looked priest fried panco mushroom patty oohey gooey cheese inside cheese waiting bust open Im happy made way Burgers Priest yesterday friends see worth hype overrated think good burger overall likely worthy third best food Toronto given Zagat still find confusing check secret menu online going instead trying basic cheeseburger opted Vatican City double cheeseburger instead bun 2 grilled cheese sandwiches hold meat condiments thought cool idea worth try glad burgers made quality meat far could tell unflavoured patties nice juicy good simple taste 2 grilled cheese buns also held together surprisingly well thought would weak link lead serious mess nice touch could definitely taste grilled cheese flavour went well burger basic toppings double big monstrous although think single would small burger reminded Shake Shack style bigger maybe littler better made mine combo 1700 got order fries Pepsi well fries fairly decent bad read reviews although understand hit miss Everything gets soggy bag stays minute anyway since real seating premises thats 99 orders eaten Next time would probably skip fries grab burger could get bag eat right away guess admit enjoyed meal little pricey side burger small bag soggy fries canned drink Add fact likely eating sitting curb Im still puzzled Zagat rating would recommend trip anyone enjoys good burger least comparison purposes Burgers Priest opinion still overhyped mean put together good burger interesting secret options kicks said figure getting arrive menu store tell lot want judged hipster line behind asking questions cash Visiting Toronto Philly local friend brought location small Fiery Furnace burger delicious would definitely recommend Absolute BEST burger around would definitely call regular Burgers Priest Ive items secret menu well regular menu Ive never left feeling disappointed Ive several locations well Ive always enjoyed upper beaches Perhaps first one Ive ever Ive never looked back good Moist Juicy BEEF Good quality Different types buns Thick creamy milkshakes simple flavourful service quick efficient price reasonable bad minor issues Lack seating particular location theyve learned expand others want keep eating fries lie would still choose mcdonalds fries get smoky come smelling like food go try classics first work way complex burgers forget try secret menu Grill upon order definitely worth time wait money spent burgers marvellous well cheese fries Well well expectations 155 reviews date BP seems pretty popular joint Yelp well fact city expectations going Unfortunately met tonight things Ive read place IMO blown proportion like legendary fish story comments like grease air shower get home go eat park communion burger Lol Haha excellent creative writing people props know comments induced grade burger fantasies approached 501 Queen st E streetcar land damn guys p ordered priest house specialty cheeseburger topped option deep fried cheese stuffed portabello mushroom option size patty 10 minutes later order ready opened wax paper quick inspection took first bite used fresh ground meat cooked griddle retaining rich fat juices cook right juicy bun kind lacking though smashed soggy option id opt tad much cheese priest already cheese burger begin toppings pretty standard Tomatopicklemayoketchup excellent grease pitdiner burger consider ultimate burger though Ultimate would convince eat steak update started feeling abdominal cramps hour half eating soon found running bathroom cannot digest grease yahh gain weight experience Woot Woot Wtf 25 stars true hole wall spot becomes crowded much time customers award lay search spot wait hear name called said expensive almost ten bucks High Priest burger tasty remember since opening original Licks 80s mile east Queen live South Mississauga back good hype finally taste Burgers Priest burger see Cheeseburger basic one drinks fries comes 525 Saturday night busy ended waiting 20 minute little room burger get ready worth say really least basic burger really cooked tray unseasoned medium looking ground beef form shape patty pan fried cooked maybe try home burger quite small tiny imagine eating snack still hungrythe cheap side talking go option seems like people impressed options staffs really nice almost want laugh asked going eat want ask little shop full people standing around waiting orderthat taking forever ready location super tiny always busy get quite crowded gets little confusing figure line begins order everyone standing around chaotically worth burgers Every burger made order fresh grill watched put ground beef grill flatten makes happy know theyre fresh take little longer burger believe Burger Priest one best burger places Toronto got cheeseburger toppings taste meat fantastic Burgers Priest blogged reviewed best burger Toronto buy hype Burgers Priest located lonely strip Queen Street easy find line usually goes door menu pretty basic half dozen different burger choices fries awesome selection pop basic burger twice times underwhelmed quality meat good lacks flavourspice pretty greasy even burger standards fries good excellent Seating inside restaurant extremely limited expected take food go guess hype cost 12 burger fries drink wait expecting something better mediocre burger area hungry line would eat go way Meh fine got preist friend got vatican city another friend got regular cheese burger really put much flavour anything Option tastes like cheese mushroom batter smothered burger flavourful could taste burgers meat cheese good sounds since everything seemed lack seasoning salt got toppings burger could barley taste amount toppings really lacking burgers basic burgers think put decent amount toppings burger would tasted much better tasted fine honestly worth price 1130 priest Especially since still hungry afterward really eat lot Also anywhere sit eat afterward really uncomfortable even anywhere outside close sit ended eating bus Went Queen West branch yesterday 730 pm First impression Dirty tables Used unused napkins lying floor narrow seating lots elbow jostling space cozy strangers next table Order Delivery Reasonable wait times space wait Ordered Bacon Double Cheese burger fries paid 15 Really ordinary slightly dry burger eaten better Irish pubs Disappointed bother Looking forward try Burgernator Augusta Ave Kensington market love place backtobasics burger trying anything real burger Fresh ground beef simple toppings plain bun cheeseburger nothing special thats made spectacular burger really thoroughly enjoyed every bite fries delicious husband burger cheesestuffed mushroom top cant stop talking hearing much ado place finally tried Friday drove way across city try Tonight Sunday found Beaches decided swing seconds Much chagrin open presume open Sundays 7pm drove doubt late thing beef place seating Well actually stools counter signs clearly indicate waiting room cant eat place busy think could sat ate without anyones way bit pain ate car smell still 2 days later Note Currently CashOnly Nice little corner shop friendly staff greatly enjoyed meal experience bulging burger poutine poutine fantastic burger memorably enjoyable Id recommend burger spot anyone heard place times built high expectations end let hype day beach playing volley ball built big appetite us decided go straight must around 7pm Saturday evening walked past place closed sceptical actually stepping place exactly life altering experience Luckily much queue served pretty quick way place small gets hot stuffy eating inside allowed since room avoid place see massive line choose burger want one main chalk board think 67 options increasing price went double cheese burger fries cash register smaller board toppings limited wanted double cheeseburger fries bottle water came close 15 already time belly shouting food sounds smells burgers sizzling hot grill wafted super busy served within 10 minutes within seconds handing burger heart sank belly would shut burger dwarf burger money paid expected something would need two hands hold eat good thing burger taste great enough fill go KFC straight get food shame place However gets one star taste burger really good want real good burger value home made UFO burger Niagara area best experienced far really looking forward trying priest sadly let burger although handmade flavorless well option portobello mushroom filled cheese deep fried even order fries finally got ass gear went break vegeterian friend 3 year non meat streak worth meant got time last three burgers tip favour add smoked deep fried jalapenos like itbut 1 Making hunt secret menu online pain High Priest version Big Mac Google Burger Priest Secret Menu forgetful change mind easily see something tasty menu basic menu wall know full menu 2 popular small seating area inside eating waiting lineup street 15 min wait really anywhere sit eat library across street bench open luckily otherwise kinda stuck Anyways High Priest really good much better version Big Mac thats sure good meat made right nose let review scare definitely try Burger Priest wits patience going Hnads One top three burgers tdot tried finish 4 horsemen apocalypse failed sit back bask greasy burger bliss preachy pattie great cooked smoke Awesome shakes fries rings good well sleep like day sunday church get self try one torontos greatest burgers great burgers juicy messy tasty crowded little unwelcoming space get go Sometimes simple best Burgers Priest sticks simple rule KISS Keep Simple Stupid lavishly designed burgers cheese noone pronounce menus condiment selection 500 items place served burgers would get 5 stars However subtract star fries burgerwise absolutely delicious Hands best burger Toronto Vatican secret menu literally burger surrounded two grilled cheese sandwiches Two things keep mind want enjoy experience 1 pricey 2 fast food went burger priest quite good experience time poor decided make first official rating usually burger bacon sauteed onions burger places comparable burger base comparing apples apples hungry enough try get two burgers better representative sample burgers ensure errors first one get eliminated second one two cheese burgers bacon sauteed onions one fry analysis overall product got eat really poor tasting meal less spectacular price would recommend bottom line go unless say go golden star instead want go eat burger thats city core 1 service bat service terrible clearly communicated order two cheeseburgers one fry bacon sauteed onions ordered instead four plain cheeseburgers one fry thank fully caught put 2 price 20 high side liking cheese burger 3 taste burger terribly dry little condiments toppings inside almost felt like wanted save everything kept pickles eat later also asked bacon sauteed onions onions tasteless bacon soggy decent amount fries quite soggy like served fries lying around sometime heated microwave served honestly 4 quite rip 4 portion size decent thing good pay 20 decent sized portion dry burger soggy fries worth 5 another thing cant quite categorize atmosphere arrogant teenagers serve get order wrong stand chatting night cooks burgers burning grillWTF bottom line save money folks think heyday place Super greasy believe gross hearing great reviews seeing lineups went back tried months later Exxon Valdez burger Never veggie option called Option creative welcome change veggie burger even heart attack bun Two portabello caps stuffed w cheese rolled panko fried asked guy recommended toppings said confidence lettuce tomato mayo Seemed right tasty messy cheese squirted back flimsy paper wrapper help things much fries flimsy paper taking get somewhere quick eat artisan buns someone else described size packaged hamburger buns come package 8 bland texture good though like small size cause hey wants fill bread overheard theyve swamped since opened 2 months ago maybe thats even able put menu web site burgers Wow Amazing disappointment us eat dining room food survived trip back hotel expecting need get go Im sure would tasted much better spot Still giving 5 stars bc burgers good hail High Priest much love Burgers Priests scrumdiddlyumcious sp take BigMac Happy across way guys cash highly recommend heading lcbo juice cash back boom suddenly perfect night Although open week time stopped Burgers Priest already got mojo full gear Priest purity focus serving awesome burgers fries without confusion thousand exotic toppings owner selects beef every morning personally grinds fresh batches day long Simple concept swear eaten burgers world never one explode mouth juicy tasty fresh perfection like fries also exemplary exactly way like greasy thick thin Congratulations slave meat really get small burger unique seasoning plain Dempsters bun best restaurant Toronto Maybe hyped much maybe waiting 15 minutes get burger made think going explode mouth food would never Either way worth drive wait paying parking eating car dealing hipsters Honestly folks believe people place hipsterism next level digress Chilli Cheese fries better burger decidedly lacking discernible flavour like fact legit beef ground onsite like bottle wine bottled Chateau alone make good supposed add something already great case burgers cannot concur many fellow Yelpers professional food critics Although give credit small business able make despite odds Im sure making money hand first based lineups never want see small business fail Im glad lot folks enjoying food Best burgers Period reason theres always line around block third Burgers Priest location Ive space small ones like never make restaurant bigger offer seating space allow better environment people constantly lining took good 20 minutes time started lining got food hot store time got counter really craving hearty cheesy fatty greasy burger anymore opted small Peters Denial instead like 6 ish tax got food disappointed burgersandwish pretty small look good Trust tried best take good photo Taste wise like meh gravy like something made powder meat kinda dry cooked corn definitely fresh probably made frozen corn believe Peters Denial worth price paid lineup experience terrible Oh cash rule bugs Next time next time Ill order online beforehand avoid painful lines Amazing veggie burger Portobello wrapped cheese bread crumbs deep fried Occasionally cooked well Still cold middle would guess initiallyfrozen messed order twice really messed order person front Pretty pricey tried meat burgers yet Veggie Option good Burgers Priest seems Torontos version Shake Shack priest version delicious Shack Stack Unfortunately favorite burger world could think BP measure Missing flavour butteryness meat cheese lacking Probably deserves better rating good right life fair Also even put seats tiny Id rather standing tables sit corner looking wall neighborhood way Ashbridges bay passed Since Id read much figured time finally try got cheeseburger lettuce tomato mayo quite smaller expected However definitely tasty Also huge eater never finish bigger burgers good size guys bigger eaters think enough fries heard read theyre greati know care fries person burger back Im close Oh yeah tiny squished long lines theres lots places iconic nearby lines move quick debit credi cards accepted cash Heard much place try yeah nothing special Unseasoned burger non toasted bun work whole experience eh regular make tastier burger home knocking saying regular gawd ppl worshipping tasteless small overpriced run mill burgers absolutely nothing unique place except clearly makes mountain cash sheepish fans closed sundays cash one see thru sham eatery thats problem social media commentators discerning enuf thats average places like get top status really indictment poor taste peole Ive hearing great Burgers Priest said top favourite city Id pass car never went finally moved area Went see movie time kill empty stomach figured right across street Burger place Ive heard nothing good things go prices seem fair fancy burger joints charge order cheeseburger combo partner Get charged bit 20 bucks order far seems normal Seating limiting luckily got fairly decent rush came seats saved get called pick food open bag fairly small bag fries fairly small burger say need eat personally fine amount food ratio price food way taste great knocking flavour quality hurts pay 5 bucks burger almost felt like bit bigger slider Fries okay anything write home ever decide go Ill probably go double cheeseburger least way Im getting bit burger money Im kind doubting Ill really go burgers definitely quite notches McDonalds consider burgers exceptional quality price pay per burger quality get ok super cheap hence would expect get McD quality burger served burgers pretty greasy bun soaked grease dieting kind girl aversion calories seeing soo much grease kind unappetizing additionally get coating fat mouth eating one burgers really feel gut afterwards Overall probably pass place future Restaurant Burgers Priest Cuisine Burgers Location Beaches Address 1636 Queen St E Price Range 10 1 Poor 2 OK 3 Good 4 Good 5 Excellent Food 2 Service 2 Ambiance 1 Overall 15 Extra information Eat Take Specialize Burgers Closed Sundays much praised Burgers Priest located 5 minute drive Toronto Downtown first time going east Toronto Downtown kind exciting maybe little drive long shortly arrived Burgers Priest drive street parking front 2 hour Apparently always close Sundays go church note burgers PRIEST owners religious people read couple reviews going many people mentioned small store obviously good idea going inThe store tiny even say Dinein 4 stools wall Usually people Take Burgers Priest decided Dinein like rebel really cold take eat park nearby like reviewers suggested specialize Burgers Fries varying double burger cheeseburger priest burger fries chili fries add fried onions bacon burger 1 wish Ordered Priest Burger 255 Regular Cheese Burger Priest deep fried 2 portobello mushroom cheese 999 plus tax price include drinks fries Bread soft small hold ingredientstoppings thats inside Meat patty cooked Medium juicy throughout get option toppings added everything Burger ketchup pickle mustard mayo lazy pick choose First 23 bite Burger really good soft bun juicy patty crispness priest went really well together couple bites regardless fresh ingredients inside burger everything became really mushy texture Taste Texture start chewing chew Outside priest crispy cheese 2 mushroom patties cold assuming premade reheated order burger much going Burger giant mess end Ordered Chili Cheese Fries 15 French fries drench chili topped cheddar cheese 579 Read reviews fries good decided try chili fries ok best chili fries Ive tried fries mushy made chili cheese fries turned big mush potato later Anyways thank god got early right opened gets super busy Maybe fault wanting Dinein half way burger many people standing around uncomfortable hard eat people elbowing back trying hold burger together Plus anything waiting order stare get ketchup face Summary People working behind counter nicest Priest burger much terms price taste plus hard time even finishing cause texture interesting idea deep fried portobello mushroom patty found nothing special felt like overrated wanted burger would much prefer visit Big Smoke Burger street even McDonalds Burgers FAN FUCKING TASTIC Priest must eat Fresh beef deep fried mushroom stuffed cheese YES Double Double second must eat pure enjoyment double meat recommend getting bacon downfall charge somewhat obsurd premium prices still innout good toronto option Ordered Priest reminds Shake Shack burger NYC meat OK option really amazing love Line crazy though normally like veggie burgers much definitely like mushrooms unless theyre canned gross know hear Option Burgers Priest absolute vegetarian delight others mentioned oozy melty cheese surrounded two portobello caps deep fried panko crumbs exactly awesome sounds deadlier mean deadly good way point feel like eating mushrooms even vegetables Delicious unique bun also great simple fresh soft without overpowering two halves took Option ketchup bit mayo tomatoes stood quite nicely pried apart watch oozing cheese really wants fries OK Drink options plentiful menu straightforward many choices make toppings minimal appreciated todays world choice overload Get go kind option lot room groove inside recommendation pick booze nearby LCBO get burger cross Queen south side Go enjoy burger picnic tables behind Harveys nearby Ashbridges Bay Skate Park Terrific addition sorely lacking strip Queen Street East Cash closed Sundays church embarking quest find best burger city Burgers Priest topped list places try Ive times every time go packed extremely tiny space eating always option although grab stool recommended staying burgers fries great piping hot love burgers disappointed selection 1st time round regular cheeseburger combo 2nd trip double double combo overly huge appetite left hungry 1st visit meat ground fresh house cooked flat top think adds flavor frilly topping choices usual condiments along friend onions bacon fries looked like going disappointing deepfried perfection salted perfectly Allinall great experience glad moved neighborhood would eating far often raising cholesterol level one double double time really get hype burgers OK high priest almost tasted like McDonalds burger fresh meat meat bit overcooked Fries nothing special cost length wait think Id skip next time Went back grossest burger time Option bacon cheese burger Almost made Glorious suspect cant really chime anything new Indeed make one tasty burger perhaps best Ive ever Toronto fries top notch kept things basicI know kinds secret fancy cat burgers order first go wanted judge basic cheeseburger Sure enough really everything people say end day still hamburger Im short bus ride away going often never primarily take away joint summer taking burger park beach picnic really option really small shophardly space wait time got home would goodgreasy food eaten hot fresh possible IMO Besides Id torture everyone bus going north Im burger tease Also wait wellyep seems like would always lineup Good things come wait burger Recommended especially live nearby going Queen West location realize much better original location Burgers juicier tastier faster Hubby loves burgers Jarge style cooked mustard Queen East gets beautiful crust everytime Queen West much best thing East location hipster free worth drive Queen Coxwell know excited burger fact actually found seat busy place managed eatin 1pm Saturday middle Woofstock Anywaythe fact ate mean much food tasty right Well burger ordered indeed tasty blue steel burger time around different one Queen West location Pretty basic burger cant even one good makes think burgers would worth price Thankfully patty extremely juicy full wonderful herbs similar Queen West location blue cheese thick definitely blue feel tongue blue end right Perhaps bun could improved know grilled cheese buns infinite times better would probably stick Queen West location terms seating since Im typically never Beaches first place Still lots love original branch though Best burgers moment simple Burgers Priest standard hamburger good service see ground beef behind counter waiting formed patties sharp change almost burger joint come across eat red meat wife sampled cheeseburger impressed Basic Burger done right confusingly named veggie burger called Option basically battered mushroom slice cheese patty deep fried served like burger Definitely like veggie burger Ive good Id say crispy outside like falafel FYI place super small seats inside expect take meal go want place sit comfortably behind building across street south side fresh picnic tables Looks like put office workers building want place sit thats good option ordered cheeseburger Option hamburger kids share best burgers weve ever fresh simple cooked perfectly FYI take place cash ATM love fact secret menu size burgers right us huge liked order sides drinks said 10person would great groups food amazing wait worth wait burger Ive heard much place decided must try went Beach see fireworks Canada perfect excuse get burger rarely eat junk food Ive never considered burgers cuisine patties buns stuff burger make thing home either fresh ground beef frozen patties Ive cheap burgers McDonaldsBurger King Ive moderate burgers places like South Street Hero burger Ive fancy expensive burgers places like W Burger Frankly eating High Priest burger felt way felt time ate burger burger However grateful burger priest supposedly best burger theres need keep trying new burger restaurants save money real food thats much healthier delicately delicious get wrong burgers delicious see hype like feel poutine put anything fries itll taste good put anything greasy salted beef patty itll taste good Ive Burgers Priest couple times say burgers freaking delicious sizes relatively small prices balanced sizes would get five star friends go chipotle right across street full wish portions bigger Theres much say 130 reviewers fact worth braving line least forcing midafternoon snack flat top style burgers means meat fried griddle instead grilled flame result extra juicy burger amazingly tender since cooks careful loosely form patties overwork meat stuck basic cheeseburger test place next time go Im definitely adding option aka deep fried portabello stuffed cheese burgers simple yet good Id probably rank favourite burger city runners would ones Stock Yards Big Smoke good burger way small average joe need two sure even get priest finished mine three bites Thank god fries else would hungry Oh heavenly beings thank presence manifestation known Burgers Priest reviews awesome burgers true Tonight extra hungry grumpy ordered chilli cheese fries 1st time Good Gods Imagine reflect upon standard burger bits sort get left behind grill gather unto add spices cheese lo underneath place foundation fries experience beatific yeah look one taking CASH CASH Theres ATM inside ordered takeout two fresh meat meets hot grill flattop variety food came quick fries typical diner style crisp fresh yes burger close better LAs InNOut Burger TBPs version actually lot fresher great new burger joint definitely return BACON CHEESEBURGER Really delicious freshtasting patty fresh gets saw raw patties tray behind counterand boy oh boy patty gorgeous pink Juicy meat minimum grease feel like burgers bit small price needed gotten double patty order full would made burger alone close 10 CHILI CHEESE FRIES really liked chili cheese fries Packed full flavour portion pretty good smother cheese always welcomed REGULAR FRIES Meh crispy special TOPPINGS BURGERS ketchup mustard mayo lettuce tomato onion pickles RANDOM TIP liquor store right next Priest Get burger go grab tall cooler head Woodbine Park enjoy food fail see Burger Priest popular Toronto tonne burger joints food good nearly great reviews suggest Two burgers one order fries cost us nearly 40 secret menu clearly secret serves marketing tool toppings gimmicky distract fact beef patties great worth price Id rather take business Burgernator Five Guys star meal delicious beef patty got preist meet juicy cooked perfectly average burgers Pretty average see hype bad burger space tiny people pushy overall inferior experience much better beef burgers regular restaurants around Toronto cheap either cash policy really pain back side One best burgers Ive ever Get California Classic great little cramped inside though hearing much Burgers Priest decided make day Beach would first stop arrived lunch hour little place incredibly busy cant say envy people working counter demeanour almost depressing joint small music loud enough customers went hear cashier best heading one parks around food meat use burger ground spot tell soft juicy even well done bun average store bought quality cheese burger taste processed burger flowing flavour better cheese could gone long way helping thing complain size burger tiny size Id surprised could find small burger place city paying really disappointing also side fries tasted great fresh although fries incredibly soggy little bag okay portion small finished lunch disappointed cheese burgers fries Priest offers secret menu found Googling term Well try item two menu believe itll change opinion paid 17 two burgers fries coke might seem line place like BQM bit west consider portions half size receiving anything special toppings wise boggles mind neighborhood well try put ranks Chippys Burrito Boyz right Everyone flocks hip know Im burger person use however good places years one acceptable special price charge special part deal small cheap bun seasoned stick HERO burger antibiotic free hormone free grain fed fully traceable beef hero burger friends 4 stars 300 ratings says lot Guess Macgeneration coming raised MacDonald would good anyone else remember Empire Diner good burger Burgers priest amazing everyone says Ill admit Ive seen outside one delicious burgers delivered home evening amazing Truly amazing double cheeseburger patty moist soft rich right ways perfectly pink middle cheese melted enough Seriously Ive really fancy burgers best one recall Bonus points putting glutenfree bun unexpected treat made night loyalty question burgers priest chose accompany luscious burger fries acceptable mean vessels ketchup salt hot sauce go fine could much better Update two full days later still thinking burger felt mouth Seriously amazing get fuss Cheeseburger SMALL worth 5 price Meat juicy probably lean meat Nothing else fancy Fries horrible Get KFC fries next door first written review Ive given thought conceding immediately taste entirely subjective perhaps exercise futility regardless spread gospel place seriously good burgers Nothing special Expect spend 30 two Yeah cash seating call highway roberry one best burger places gta service fast slow depending day time come feel like worth wait want skip line come lunch hour guarantee wait 20 minutes ive three times mediocre every time said depends looking want something reminiscent mcdonalds hamburger moist bun patty fried flat top stringy fries die burger priest want something char texture blown personally found meat decent underseasoned meat grindhouse superior gbk better seasoned unless want smell umami rest day id also recommending eating burger outside place ok hate theres nowhere sit strike especially special meat really delicious however Solid option Finally made visit much talkedabout Burgers Priest Like every eatery Queen East one ultratiny bathrooms barely enough room swirling line doubt ends door Vatican double burger two grilled cheese sandwiches fries soda burger joint always lose points use processed cheese b used fresh baked buns Unfortunately Burgers Priest guilty Coupled bland unseasoned burger patty quite underwhelming experience menu boast highend exotic even different ingredients Pretty regular stuff Secret Menu quite publicly posted website cute novelty half regular menu Milkshake lovers beware shakes available Queen East locale Overall Burgers Priest making classic experience really fell short cut corners quality ingredients locations carry advertised products boasts pretty runofthemill menu Nothing special burger lovers got try Burgers Priest Priest cheeseburger Option Order fries go bite burger hold burger fries Let cheesy goodness ooze Option onto fries Delicious Ill back Amazing place friend raving Burger Priest sometime tonight finally brought love first bite ordered Priest consists 1 beef patty plus cheese filled garlic seasoned battered fried portobello mushroom fixings lettuce tomato onion mayo ketchup pickles incredible juicy beefy gooey must make patties house look taste good lose star fries memorable hope change fries serve onion rings much get good stuff way first bite Burgers Priest burger albeit small price fresh decent seasoning really cute blonde calling names done good Starting menu since first annoyance encountered suppose fancy thing putting Option means absolutely nothing location menu made seem like banquet burger something similar asked pretty snarky answer given response portobello mushroom stuffed cheese fried pure logic based name Never hearing good burger happening area reason website anything would descriptive food order Pretencion left Starbucks place looks like drab dive bar get shortly move bun happily know decision made imagine time price using bun resembled shape taste Dempsters bun really housing 599 burger okay family BBQ kids restaurant make decision lazy least give us sesame seeds getting rave reviews handed something bun like little ridiculous maybe Cheeseburger part kids menu realize understand want tables comes never cramped eating burger barledge 5 stools last 5 closest door actually blocks people coming actually step outside put coat back 6 people restaurant enough room Space money someone sprang extra dollars find slightly larger location ever ate hot dog waiting line see big concert felt like eating childsize burger Hmmmaybe actually restaurant children someone maybe look Bottom linedo eat Sunday want keep faith food new religion FYI new one Yonge Lawrence milkshakes met Burgers Priest yesterday Im late party Ill avoid religious puns Toronto bloggers covered Im also Christian Im going comment iconography know BP get caught hype read reviews many say thing Save except 5 run grain biggest complaint group seems fell short expectation wonder know meeting expectation relative dependent expecting minority also took issue cost consider McDonalds meal way shurnk size colossal eyes 10 year old 9 think spending 50 four burgers two fries really crazy wrong Tell Im wrong dinner date Scotsman Cracker Kungfu Panda researched secret menu took decide changed mind 19 times sound ridiculously dirttyyyy find menu look Im lay Kungfu Panda vegetarian went Option Scotsman cheeseburger Jargz onions fried mustard akin InNOuts animal style loved Cracker Pope loved made wish gotten High Priest Option Jargz got High Priest haters call Big Mac Firstly whats wrong Big Mac Secondly importantly whens last time Big Mac filled left feeling good thought three shared fries fries never met fry like BP starts really good foundation Meateaters get quality beef planteaters get pankobreaded portobello mushroom cap stuffed cheese garlic Alleaters get fresh toppings build burger crazy want InNOut American burgers joints trump Canadian ones Toronto hype waiting Burgers Priest dirrrtyyyy true test burger made feel said eaten feel good feel gross felt good like knew would good good love meat make good burger tiny establishment across street Beaches Cinema far live brother Eric first recommended place stop going Im pretty picky burgers finally tried even expecting much nice surprise make consider classic burgers Nothing fancy ridiculous condiments pretentious names five basic delicious options Burger cheeseburger double cheeseburger vegetarian burger two breaded deepfried portobellos cheese finally signature burger Priest cheeseburger additional portobello Insane ask works get basic tomato lettuce onion pickle line unspoken mantra simpler better However want get fancy also add fried onions bacon extra loonie tried fried onions doublecheeseburger pretty amazing Condiments also kept basics mayo mustard ketchup Thats good thing want anything competing taste beef freshtasting juicy grilled perfection freshground several times day small batches Thankfully additional spices added beef need fact would ruin subtle flavour prices reasonable double cheeseburger combo fries choice drink set back around 12 owner almost religious fervour comes concept perfect burger need preach converted Im full agreement vision Superfriendly service deep knowledge things burgerrelated firm commitment quality really set establishment apart competition Ironically Harveys Hamburger located almost right across street serves sobering reminder everything Burgers Priest stands Ive twice started basic cheeseburger graduated double cheeseburger combo fries awesome well thin golden crispy still soft Im dying try Priest space excursions give arteries rest Anyway Ive found burger heaven pray owner keep level purity excellence Amen Drove place weeks ago thought visit well tonight night walked door greeted seemed everyone living Queen St E thought joint sit area sadly disappointed walked counter placed order handed debt card told visit bank machine corner far evening going south Recieved order short time small space eat took advantage give one thing ever created bugers paradise must genius simply delectable double cooked fries excellent well Maybe first time ive seen son ever finish meal excited Id surly visit may try Yonge St location seating Went back 2 weeks later burger lost excitement meh eating Burgers Priest today think died went heaven one place mind vegetarian Veggies blessed Option downright delicious deep fried cheesestuffed portobello mushroom burger drool thank God Im meat eater cause able Priest regular burger PLUS Option AWESOME Freshground fatty meat ooey gooey cheese crunchy portobello one could really ask life Consider convert Juicy burger patties perfectly sized buns makes Burgers Priest satisfying summer lunch arrived opening 1130 already line 1215 people formed chose Cheeseburger Holy Smokes burger fries Flavour great service fast heard friend Burgers Priest accepts cash debit visa probably good idea bills hand Really good burgers Cooked flat top passionate people Low gluten buns available good still cause reaction glutard wish fries better Thinner crispier maybe serve fewer bag ofries way much okay thing Om nom nom nom please join delicious burger together Om nom nom nom Seriously try Om nom nom nom Outstanding quality burger Godly treatstaff trained citys detached group never hi bye Im mere Ill okhot burgerscold servers still amazingimagine idea fuss place burgers actually pretty gross Way greasy taste nothing special make way better burger double cheeseburger location nothing special wanted try something normal going big pope first couple visits actually prefer local Five Guys cheesburger like concept maybe mine little greasy Pope big eat experience try get whoever bring try well Either way love place opening Woodbridge location May Im end patience place pre order burger pick arrive tin discover order even started watched seemed manager come cigarette take minute wash hands Ive customer since opening day Im longer interested giving another chance one many hope another burger place opens hood soon place Great core burger neat unique add ons best burger Ive Toronto best takeout burger Ive best value great quality burger secret menu website cool gimmick delicious options check Ill backmaybe tomorrow Best burger fries Ive ever Theyve got large unique menu customize burger like fries absolutely delicious serve generous portion Theyre much expensive typical fast food place going least 20 min wait worth want great meal good simple Loosely packed fresh beef ground site normal toppings buns nothing sophisticated little mods burgers makes place great Grilled cheese buns Blue cheese crumble bacon cheese stuffed portobello mushroom option highly recommend burger lovers Update October 31st 2014 Although great prices extravagantly high something really quite simple believe menu items fairly priced thus reducing star rating 1 Great burger right Craft Simple ingredients make meat star show disappointment draw back actual portion burger probably could another ounce two justify price expensive 18 got us two pops two cheeseburgers order fries Wow hype surrounding modest little place spectacular feat Friday night dinnertime pretty outoftheway Queen Street strip lineup well door took 25 minutes order energy lively friendly line must say expectations mighty high rare indulge burger 95 time opt veggie burgers beef thought special excursion East warranted classic burger experience got cheeseburger topped Option deep fried cheese filled garlicy crispy mushroom seating along many others sat streetside cold bench dug burger three words oh god uttered times worth hype Id say yes fresh juicy absolutely delicious end day anything deepfried cheesefilled going taste good Nothing revolutionary fries soso Im curious go back try smoke secret option topping burger deep fried jalapeno believe Oh man Gotta try feel weve bombarded awful pale imitations real thing whole lives Kraft Parmesan Uncle Joeys band Full House Tom Cavanagh get gist come across real deal might little mind blowing insane line descends upon place little unnerving uninitiated agoraphobic totally worth Cash pricey use excuse eat five times week first 2 visits great mind blowing came Mr Priest first opened Im pretty sure getting groove man took advice got double cheeseburger nothing redeemed awful punmanship goes Dude upped game amazing ideas Add Smoke means pankoencrusted jalapeno pepper grilled perfection perfect hit spice overpowering enough ruin whole thing Also way hell going try Vatican City burger double cheese burger 2 grilled cheese sandwiches bun without lifetime supply Lipitor naysayers missing point Yes go across street Harveys get burger bigger better price point effin way ever compare Trust Great patties simple fresh ground meat Buns cheese pretty generic take away magic patty place small seems large following nutshell Overrated Snarky Pretentious Overpriced Mediocre hearing TBP best burger comparable N excited finally try menu descriptions know heck Option Priest burger asked short blond girl behind cash register clarification guess asking questions TBP huge faux pas got eye roll huff boredhurriedsarcastic explanation Every single time said anything met bad attitude lots snark Yes know couldve looked menu online Yes know theres also secret menu secret everyone knows blogged ad nauseam asking question really bad considering ones 1130 Friday Would killed add descriptions simple menu affront hipster commandment know God forbid actually want eat 5 stools tiny counter people waiting orders Alrighty burger meat bland lacked flavour missing allimportant sear good flat top burgers cheese overpowering bacon limp bun soft turned mushy Mediocre best overpriced quantity redeeming thing fries Fresh crispy salted right TBP loyal following guess lot people like middle road burgers side pretentiousness snark one remain burger atheist converted follower Burgers Priest imagine eating baby tastes like Unbelievably delicious Fries total let though even menu really depends define burger fortunate enough doubledouble verbally recommended one brothersowners priest first experience requested fried onions ketchup mayo lettuce toppings cheese part burger burger alone cost 1016 friend recommended place time told try fries well alas much cash hand expecting rather large burger hungry defines burger patty toppings bunhoagie everything together meat told fresh ground every hour fabulous people would consider dripping greasefat must correct juice wonderful meat juice one look inside bite see visual additives patty felt could actually TASTE meat toppings well say cheese greatest cheese job well one lettuce ketchup mayo typical stuff fried onions 1 though lot fill burger whole bun ah bun feel absolute downside im sure know juicy meat im sure know size patty leaves capable hands maker fit bill might unpretentious burger cause meat GREAT bun little lower ate burger found bun spongey quickly absorbing whatever liquid driveled little pressure holding made thickness bun almost nothing know people enjoy take item anyhow frequent burgers priest running reviewers hope next time bun issue fixed perhaps theyll offer fork knife burger bun would cost better bun Good great Probably worth going adventurous items secret menu hype make simple cheeseburger seem disappointing really need bigger location cause definitely want come back take grub park order eat lukewarm burger soggy fries Tip burgers big go double best burger ever going year tell every one friends family members best check secret menu yet DELICIOUS Hands best burger ever believe Ive share beef chicken veggie burgers boss mentioned Burger Priest checked reviews knew little way convincing Boyfriend even like burgers go dinner get hop ridiculous line good start big deal everyones gotta waiting cold reason right 2025 mins goes seems like forever smell grilled meatty goodness fresh fries everyone around telling delicious alas order get Priest cheeseburger Option mushroom caps stuffed cheesy creamy garlicy goodness battered deep fried Boyfriend gets double cheeseburger w bacon smoke panko fried jalapenos share chili cheese fries w smoke drinks Food hand tummies grumbling run across street Harveys buy drinks could use theyre warm spacious seating haha genius near 30 minute wait burgers finish 10 absolutely incredible patties made REAL fresh ground beef juicy touch pink center option delicious ball fried cheesy yumminess never knew needed bun glutton free simply vessel delivers holy delight chili fries hand good Nothing heavenly burgers still good Boyfriend even loved burger cant wait go back Im currently drooling thinking Heads buy drinks Harveys got great place sit eat call order ahead way beat line cash WATCH PARK Boyfriend got 60 ticket REALLY REALLY GOOD option fried portebello mushroom stuffed cheese exploded cheese greatness fan cheese even quite enjoyed stuffed goodness meat patty awesome go sure craving deluxe burger starts linger Well worth trip east side going year Consistent frills hands one best burger place Toronto Hell even compare places like Shake Shack Still crave burger weeks going knew going good entered site two people eating burgers silence smiling entire time know possible smile eat simultaneously ordered standard hamburgers cheeseburgers take home patties freshly made front tossed griddle waited two smiling guys ordered another pair burgers hindsight might high Regardless talking found drove way North York visit place However place loses 1 star lack debit understand desire simplicity day age debit necessity people carry cash make things worse really reputable ATM within decent walk place 222 reviews Burger Priest need another finally got try burgers Priest today live neighbourhood never chance try double cheeseburger Pretty tasty 9 dollars Yes 9 dollars tasty price point scare returning regular basis seem really matter place hopping lineups door Please note nine bucks factor drinks fries hence burger Double cheese burger average size standard 57 toppings available coat burger eg Mustard Ketchup Pickles Mayo Tomatoes Onions say Harveys across street sure afford luxury Burgers Priest Burgers Priest completely unpretentious nonscene grassroots burger hut hard calling restaurant really table 4 5 stools Regardless know meat damn well know make mean burger two real menu items beef patty amazing priest read vegetarian patty sides know theyre focusing making sure burgers justice Ive losing interest hamburgers years friends notably Payam Z wanted drag us around burger near beaches excited damn glad went along became witness really puts burger places Toronto shame Ill let read others much capable describe amazing place earth staff guarantee regret stop looking good burger Well first TASTEYYY Really liked eating food great First impression quirky slightly crammed Staff friendly good looking Food amazing tastey original liked could see freshly made clearer pick drink tables required caved Saturday night boyfriend picked us cheese burger fries place Hed moaning Burger Priest fix disappointed burger flavour must admit though bf shoved burger mouth times bite tasted good time however happening ended squirting big pile ketchup plate could dip flavour good sign fries messy mushy mess barely cooked thew burger greasy thats everyone referring mention words moist juicy Two thumbs driving end city RUN walk eat Nice unhealthy deep fried veggie burger option well Double Double 2 cheeseburger patties outstanding yukon gold fries Trouble making weekly treat Bless us oh lord thy burgers receive thy bounty Make us ever mindful needs bellies Burgers Priest Amen Ive eaten cant wait get back Ive heard rumour additional things menu listed imagine need get certain level priestdom even see let alone understand delights case Ill church oft possible understand thy ways Amazing place burger grab one fries Fries truly delish best city Worth trip picture gourmet burger joint picture thick patties lots topping choices artisan bread buns flame grill Burgers Priest none thats looking go Burgers Priest blew right several preconceptions quickly use flat grill instead flame patties buns relatively small toppings classic include four kinds cheese chipotle mayonnaise Fortunately burger great significantly better Id burger places gourmet trappings simple good ingredients well executed although portions massive Im entirely certain thats probably appropriate serving size portions Im used favor leave expectations home go try simple good burger like cheeseburger see think worth note vegetarian option mushroombased two portobello caps sandwiched around cheese breaded believe vegetarian like mushrooms theres burger option small restaurant theres room six people sit space thats nice though pretend burger meat connaisseur Maybe Im simply knowledgeablecultured enough recognise godliness place think cramped far busy cash Priest True patty meat succulent option oozing cheesiness goodness know itd worth smell like oil rest week come way far took shower soon got back home Preparing onslaught hate messageshey send compliments might approve Really busy place get early Took 30 minutes get food cold outside likely waiting Holy Smokes burger fan spicy delicious surprised trip birthday friend heard good burger place walked instantly greeted asked questions Feeling extremely hungry streetcar ride asked double double order fries first bite burger literally made think OH WORD would sell momma burger incredibly juicy tender bit greasy messy Im firm believer best foods messy thing like fried onions added burger taste different warm regular onions worth 1 fries anything special love burger care bread bit soggy grease compared taste something live friend laughed time turned ask liked done burger looking greasy hands like awe witnessed Maybe arrived place empty able sit tiny booth love recommendations sitting outside definitely plan going back Ive seen better burgers McDonalds thing pathetic bun makes Wonder bread look healthy meat greasy overcooked tiny way common rest process cheese tomatoes etc Completely empty Ive heard people compare drivethrough California completely irrelevant want quick drivethrough McDonalds quick forget eating thats even quicker 12 many puns could add rating heavenly divine burger Im sure many others already glorified hell burgers Burgers Priest Ill keep review nice simple burger joint located literally middle nowhere pilgrimage experience immaculate juicy patty wedged Option cheese wedged 2 Portobello mushrooms deep fried probably cold chance hell Id ever frequent area Ill say thousand Hail Marys beef wait burger like slow road redemption waited little shy 10 minutes burger noted burgers cooked flat top griddle opposed charcoal broiler person barbecue mean much translates tasting one juiciest yummy burgers Toronto Im flat tops worst part middle nowhere teeny weeny eating area 34 maximum occupancy leads us devour burgers street like redeemed meal tickets decided convene outside cant complain much chose rather lowtraffic time go relatively emptyDescriptions nonexistent heard Option prior clue also secret menu discover Facebook page joining burger cultbrotherhood sorts Verdict burger worth wait hype talk burger truly spectacular never eat McDonalds ever price one probably ensure weekly indulgence especially order fries side worth 15 10 Cheeseburger Option Fries spent divine experience think Ive converted walked Canada Day first time told 18 burgers left grind never frozen burgers daily Really simple menu burger cheeseburger veg option panko crusted portabello cap cheeseburger fries burger amazing perfect proportion burger bread hate bun overwhelms meat perfection Yum fries huge let though soggy greasy must give four stars favourite burger place Toronto dad loved much bf fan one cheesy Portobello mushroom tried grill cheese ine gives heart attack good however prefer classic Cheese burger juicy tender fresh also like casual walk burger place good burger job First Im fan burgers itll hard give 4 5 stars place cheese burger bf priest also cheese chillie fries patty good think juicy tender greasy bf said SOOO good best burger hes ever like fries much definitely good place snacks cravings Heard mixed reviews friends anout Burgers Priest thought better check Headed east end ordered cheeesburger loaded bf ordered priest fries cheeseburger nice soft bun eco friendly wrapper beef fresh moist unfortunately little flavour touch seasoning would gone long way BFS Priest delicious honesty going Burgers Priest go straight Priest Option basing review bites Priest cheeseburger Ive another half dozen times since last review still like wanted remove half star crappy bunsbut yelp let Maybe changed maybe always way thing hate place buns use place small expect everyone eat consider fact burgers going transit minutes eaten 15 minutes bun begin disintegrate mush ruin otherwise great burger New buns andor take containers much needed visited Toronto two times 2014 times visited burgers priest times reasonthe Vatican City Vatican City double cheeseburger cooked griddle perfectly double cheeseburger sandwiched two grilled cheese sandwiches grilled cheese sandwiches seem made 2 bottom hamburger buns burger fit perfectly burger juicy cheesey surpsiing messy one would expect Additionally fries pretty good although come Anytime Toronto sure come best way describe standard burger like highend version McDonalds burger terms size style good burger probably need two full fries great anytime need add anything fries know theyre great fries place makes great burgers buns could use help burger alone worth Ask offmenu itemsnot place paying homage InNOut yet go also bunch menu items la InNOut Living North York long ways away go see Toronto institution long time come Note venue SMALL small counter couple stools people eat establishment simply room hold 3 4 people eating ventured today test Priest say certainly top 2 3 burgers City say international standards lets say Shake Shack Corner Bistro NYC anyways Burger wasteland Toronto pretty damn good ordered double double medium rare got really great meat cooked medium rare flat top hoped burger tastes like meat like spices like condiments like smoke like brioche Like burger bun good unobtrusive hate much bun However guess bun would better single patty trouble holding together soaked juices med rare double recommendation would get new bun ever slightly substantial get different substantial still minimalist bun double priest commitment perfect burger take bun meat ratio granted way think Stockyards good substantial Ive quite burger joints GTA Burgers Priest easily one top two faves thing enjoy burgers delicious honest straightup goodness nothing fancy Ive grown tired socalled gourmet burger trend many places Toronto live label Give old school burger day week usually order single cheeseburger combo everything burger admit 6 find bigger burger Im willing pay much good separates Burgers Priest places beef use fresh cooked right front dozen others depending time day shoebox always crammed Thats big deal Good burgers worth waiting want standing room line go fast food chain note takeout Burgers Priest dining theres space facilities Thats another bonus get bit exercise eat walk home Cash Trekked location cause people keep raving burgers Got priest deep fried portabello mushroom stuffed cheese top patty standard toppings choose Added smoke fried jalapenos plus order fries Food came pretty damn fast portabello delicious patty meh truthfully Ive better patty Moes Scarborough Fries probably worst fries ever ever Like really bad seating sat across street concrete steps Overall would come back Option fried portabello found burgers highly overrated hearing much burgers priest try super busy line moved pretty fast priest burger chilli fries diet root beer appreciate good selection diet pop priest burger cheese burger option mushroom cheese breaded deep fried option also vegetarian sandwich yummy completely overpowered flavour burger skimpy condiments 2 pickles hardly ketchup recommend chilli fries Meh Ive experienced better oh yeah pretty expensive three people 45 Alot place bathroom tables chairs girls burger place called get F told belong ISIS customer never chance order Vatican burger girl cashier told accept burgers orders burger store going close 5 minutes 920 PM treated unprofessional extreme poor customer service discriminated disrespect never ever go back burger store like Harveys McDonalds kill Burger Priest chain due poor customer service one Queen Street East Coxwell shameful treat customer Location way warmer weather bring burger Qew nearby park Id definitely recommend ordering something secret menu least double cheeseburger First time ordered regular burger seem anything special till Id tried secret ones ie Vatican etc Tip Go early expect sit restaurant visited first opened test good burger show got patty bun ok Biggy fine get hype like craze sudden people discover novelty B movies start rate themoh best B movies gotta go see Cmon B movies Rating best Chevis vs bmws across spectrum foods flash pan expect still hold couple years onto something else fad folks Sorry best burger ever meat juicy full flavour also salty thing makes burger option deep fried portobello mushrooms stuffed cheese herbs Ive tried blue steel burger without option whilst love blue cheese good Search online secret menu recommend starting Priest Yes expensive burger queue somewhat painful Ive never disappointed burger Upper Beaches store also careful sometimes run meat high hopes place disappoint ordered Priest cheeseburger option top see making burgers right front frozen meat place comments burgers small true smaller lot places theyre using fresh ingredients cooking perfectly still think good value also like overload toppings option total show stealer Id go back alone top perfectly cooked cheeseburger Money Fries great 4 stars instead 5 Like others found place small really took away experience prepared lack seating mind even anywhere stand wait food matter stood felt like way Id still go back though food worth Dining Experience Lunch Specialty Classic American Burgers Location 1636 Queen Street East Toronto Opening Soon YongeLawrence Menu items Vatican Chili Cheese Fries lineups overwhelming crowds comfort food smell juicy backtobasics burgers whats making Burgers Priest talk town best describe Priests burger selection simply break youlettuce onions tomatoes processed cheese ketchup beef pattie arrived Burgers Priest Saturday afternoon came illusion one best burger experiences illusion turned extreme happiness realized two things one secret menu gets published Facebook page super secret cool nonetheless two Burgers simple American style burgers added crazy ingredients like would Yellow Griffin need fancy ingredients like Johns Burger Marben get instead juicy custom blend ultra premium beef grind multiple times premises ton flavour perfect grilling technique quite sure best describe buttery tasty burger tell much far BEST simple American burger ever Amen Vatican burger selection day mind one tastiest burgers menu secret menu say liked fact Priest added another American tradition burger Grilled Cheese Instead bread made grilled cheese top bottom deserves Hail Mary right praying stop enough greasy goodness day decided also treat Chili Cheese Fries mean need ensure fellow foodies get read great review fries plain good crunchy cooked right Chili Cheese sauce well friends another one big hit place mind fries put fancy terms Deconstructed version burger fries replacing bread Simple tastyamazing Foodies MustKnow 1 Burgers Priest Queen location take although opening North York location soon might seating arrangement 2 Burgers Priest takes cash 3 call ahead order pickup Buen Provecho Viviana Soooo good cheeseburger sauteed onions fries amazing Cant wait go back downside small theres nowhere eat outside stuck bringing home case meal cool Spadina location better business though Still yummy came mom wanted burger Derby practice nearby Plus mentioned trying find good veggie burger passable good must said Burgers Priest probably best veggie burger 10 odd years without meat Nice soft bun good quality toppings basics patty absolutely amazing deep fried portobello stuffed cheese yes please took bite cheese exploded side burger able take wrap around remaining burger twice still plenty inside ridiculous incredibly good fries pleasantly crispy decent amount left absolutely stuffed place much seating 6 stools facing wall probably best grab go weather getting nicer eat outside somewhere damn fine burger make burgers home knew still need delve deeper menu Vatican High Priest worthy creations hard top simplicity double double little drawbacks cost lack seating lineups matter second bite burger forget anything extraneous would ruin moment burger Go get connection Burgers really good honestly size pretty small price Fries crunchy portion big bit overrated opinion go order budget came time figure Id eating Toronto World Fantasy Convention knew midst fine dining planned one stop going citys best burger joint Finding great burger always high list traveling restaurant would tossed question social media though intense disagreementyoud thought Id started discussion presidential electionthe consensus settled around Burgers Priest last Thursday morning first meal Toronto bombed town Richmond Hill many coconspirators needed two cars reached Burgers Priest surprised find takeout nowhere sit soon realized two locationsone apparently seats around 20 Yonge Street one ended Queen Street East going affect taste burgers really care Besides parked cars filled people chowing burgers told food worth eating whether done sitting standing running place group squeezed small alreadycrowded storefront friends studied menu need Id already taken look socalled secret menu one appears online decided Vatican City burger double cheeseburger squeezed two grilled cheese buns wed made way Burgers Priest one friends read aloud menu phone planned order Magnum regular hamburger plus blue cheese bacon placed order got reaction servers mean acted impressed anything like indication realized American whod wandered randomly someone eating wanted eat toppings got works burger Id crossed international borders returned car unwrapped prize hood friends huddled car wind join knew burger like juices toppings would ended lap Andmy Vatican City Burger glorious grilled cheese buns might think much rather added right amount gooeyness two perfect patties mightand say mighthave best burger Ive ever good made think trip Columbus Ohio needed could try another Thurman Burger Thurman Cafe see memory ultimate burger stood accompanying fries admit bit disappointed GOOD fries restaurant Id found acceptable burger good deserved GREAT fries paled comparison might best burger Ive ever accompanied best fries Ive ever Ill take responsibility thatnone friends expressed disappointment probably expectations high fries lower total rating 4 stars rather 5 burger definite 5plus Im ever Toronto Ill definitely return time Ill head Yonge Street location Burgers Priest burger definitely worth eating hood car think mandatory place becoming go spot watching movie across street Got double double combo time lettuce tomatoes onion side cuz thats Im used w burger topped w everything cupboard cant taste meat anymore Burgers still good juicy bun needed bit toasting fries lacked crispness right amount residual grease hold salt place really 5 stars Toronto par w Shake Shack 5 Guys 4 stars overall still stands Think Ill go watch movies month AMAZING Best burgers Toronto Get Cheeseburger Option Add fried jalepenos hole wall joint prepared really seating first time todayand reading reviews expecting pretty fantastic burgerI left bit disappointed ordered regular burger tasted good like real meat particularly worth raving prefer fancy burger joint closer house heading way line long bf priest burger also ok PS cash order heard guy come ask girl cash Pretty mediocre expecting something good new yorks shake shack sure disappointed really worth waiting half hour burger uncomfortable small space made Fries good Great burgers Kinda greasy Actually quite greasy However little overpriced considering getting One thing would probably bring back regularly would seating Yeah get want bring hassle servers etc add tables please saw place couple months ago walking decided yelp reviews place last two months seen rapid rise popularity tiny hole wall place 3 visits tried everything menu guess well qualified review guys tried basic cheeseburger first fell love place immediately beef definitely fresh ground ask medium rare burger get exactly happen burger joints Double Double cheeseburger double meat double cheeseduh vegetarians regular veggie burger soy burger Instead interesting creation two portobello mushrooms cheese covered bread crumbs fried drenched oil counts calories visiting burger place Perhaps best burger Priest 999 slightly expensive side worth try basically contains beef patty well fried portobello thing pretty basic topping choicesThey lettuce tomatoes onions pickles ketchup mustard mayo buck extra get fried onions bacon larger list toppings would definitely earned 5 star rating fries special anything complain either buns patties also smaller side place really small 5 6 people fit pew outside think best option walk beach grub owner young guy taking orders really friendly always willing talk burgers Overall Burgers Priest definitely one best burger joints Toronto going fan long long time trying Burgers Priest first time ever must confess committed sin cheating looking Secret Menu even decided order headed Saturday around 1205pm lineups hectic cash hand made ordera Priest Jargesstyle Smoke single cheeseburger patty delightfully juicy well worth hype think hit spot mushroom stuffed cheese fried known Option standard BP menu well ballpark mustard ie Jargesstyle toppings held quite well standardissue bun Next time go BPbe original location rumoured new locationIll always include Option order one way pankofried jalapeno peppers ie Smoke tasty felt missing bit spiciness comment unfortunately mixedreviewed fries Im never much fries person go burgers therefore rarely try themand like feel stuffed enough Priest tummy definitely come back try Secret Menu options although think 1600 pop fries price little steep fact price reason cant quite give 5 awesome burgers waited weeks place first openback day first weekend coming occasion locations Love Amazing burgers Fresh delicious greasy see negative reviews seem simply pissy little people cash inconveniences Screw Burgers Priest awesome Ive never anything great burger Thank burger ruin life time tell taken quite time come terms place means fine dining kind stuff LOVE poo poo thanks starvingartist lifestyle exposure UBERfinedining last gig place cheap cars BMWs Mercs honestly left speechless nearly place first visit EVER last week gone whim strong recommendation one starvingartist pals nerdy googler looked thought might like try went first visit regular cheeseburger Tower Babel secret menu item rode bike thinking would great way convince gluttony much factor day went ordered burgers received order rode beach enjoyed burgers lake view started cheese burger simple delicious contained elements required burger perfection Mind means gourmet burger brilliantly simple classic execution saffron mustard gourmet cheeses herb encrusted breads panoply toppings Getting back second item Tower Babel OMG bite bite ooey gooey deliciousness something eat together Even mouth mine gluttony knows shame simply MUST break somewhat get mouth purist try oh try Honestly though tower simply much overthetop ooeygooeyness guess Im getting old said finished 2 burgers hopped bike rode home air hot sky blue time got home decided go backSo turned around rode straight back dinner staff somewhat surprised see quickly happily took order 2 fantastic burgers dinner visit High Priest double smoke panko battered deep fried jalapenos returned beach eagerly crammed two burgers utterly stuffed ride home kept obsessing burger wanted try next going keep eating without suffering horrible dietrelated fate honesty NEVER life ever obsessed burger long ate much go back time wife son back Ill use power try go back course fail miserably Damn tasty burgers Damn BP going kill looking juicy tasty fresh burger place Expect line visiting great burger place Tight space prepared get order togo good day stroll beach enjoy food Great burgers cooked perfectly appropriate amount fixings big Im huge fan sized burgers Highly suggest trying chili cheese fries Worth wait price point Great friendly service like God sent us taste heaven form burger Vatican City time favourite grilled cheese sandwich buns two juicy patties middle Im drooling thinking Ive already dinner ice cream sandwiches also huge ever satisfying summer day negative thing say restaurant much space eat inside restaurant trust burgers require lots space mess making Regardless burgers delicious musthave make fresh every day Often run burgers end night thats good Go try never burger person entire life yet sink teeth Big Mac plans anytime soon Enter pregnancy suddenly craving burgers like life depended tried places craving never satisfieduntil went Priestooooh thats love burgers son 10mths still get weekly cravings fan FB page crazy Ive Option Im sucker anything goats cheese overall stay simple good ol Cheeseburger fries rock surprise line ups get insane guys seem growing space alreadyperhaps open another main QueenBeach dragIll continue follow Great juicy burgers Crispy fries Limited topping rush Often crowded worth wait far best burger Ive ever life Ive tried EVERY single burger place town best around Canada USA place juiciest best tasting burgers anywhere Look menu items itll run close 15 depending menu item worth Im sure say 1 burger GTA certainly top 3 Absolutely amazing fries nothing special thats eat Id recommend Vatican City Secret Menu double cheeseburger grilled cheeses buns may wait bit seems always busy somewhat pricey Id say worth limited seating pretty much small bar likely get spot Cash ATM Ok finally bit Id heard alot place kind hesitant try based bad vibes people mentioned poor customer service big one bench people talk front place today mean owner even want people eating food close premises wants put much space store customers heard place cramped estimation got line snake resaurant good got inside notice sign Waiting area consume food premises Geez even bother little counter Might well take ordered cheese burger two priests two fries one drink combo really discount say asked price diff three burgers two fries add drink dollar difference fooled thinking special combo price even give receipt forgot ask seriously felt though episode seinfeld soup kitchen afraid make eye contact staff plate money cash sort resembled cash tray church Im sure Im catholic christian Would make easy anyone take money use order expected tip massive amounts couple fives mediocre burgers cheese option real cheddar cheese teh cheeseburger likely slice kraft single would expected real cheddar cheese price hour time place bout 15 mins order another 20 mins get food eating time ordered line went door good warrant waiting times Truth told find religious stuff really FACE pictures food shudder think like people read menu online inquire menu person amidst massive line ups newspaper article painted owner kind person suffered life work food Really say talking someone whose friend owns gym owner went really disrespectful using foul language phone Mind asked use disrespecting language gym stormed days later apparently apologized behavior realizing comparable gym area may kind legend believe based cocky attitude place website Sort holier thou attitude Customers keep business treat respect theyll cast away another new burger joint arrives rate long novelty best go way place Im Texas Burgers Priest first place hit soon land Toronto Let reiterate Im 3rd gen TexanHOME Beef excesses things Beef consuming anything Made Beefand Burgers Priest favorite burger ever Get open week day best time go order grab cold Coke stool enjoy show watching owners staff Really put heart soul making great burgers like friestoo miss BP came across Burgers Priest purely accident one day biking Beaches neighbourhood easy little place overlook small shop little advertising way Queen East boy ever glad stumbled onto place Hands one best burgers Ive Toronto First actually cooked little medium without asking Truly rarity nowadays guy counter told always cook temperature Beautiful Besides cooked perfectly burger served soft slightly sweet bun matched perfectly savoury patty fries cut super skinny fried crispy inhouse makes perfect eating right away imagine takeouters find soggy get eat pure fry bliss space modern clean stainlesssteel heavy size seating 4 people place gets lineup peak times completely inevitable seating area gets really cramped unpleasant eat Next time happen Beaches definitely check place even neighbourhood place totally worth drive Check blog wwwtofoodreviewscom CASH CASH CASH debit credit available site ATM available solid 4 stars went buddy LC ordered priest 999 fries 399 think pop 129 lucky enough get 1155 able sit limited eating area burger cooked perfectly seasoned right option crunchy oozing cheese every bite fries though MEH one less star would skip fries really nothing Id rather go McDonalds KFC beside joint fries POP standard pepsi diet pepsi fare got diet mountain dew BACK burger Skip fries call day check photos uploaded pictures meal well told closest thing InNOut burger gonna get though expensive one pretty damn close Tasty theres 45 counter seats know ye read review packed full meat religionesque comments warned worn meat pants know pants wear know going indulging significant amount meat desperate make way BPanywhere made religion making good burgers full win humble opinion Meat religion found another place worship rather epic journey oh TTC streetcaryou loose canon arrived meat Mecca fore reason got head somewhere sit know praise weather fine shop busy waited 10 minutes food impressed selection secret menu opted bacon cheeseburger GF bunsad could priest burger bread crumb coating GF priest burger looked amazing However burger extremely tasty fries good crispy well seasoned would like see little homemade ketchup really heinz fanif find baby going kick toppings burgerI refer lettuce etc fresh crisp Service friendly efficient think need try Lawrence Ave location next Thought burger good sure hype Needed wait line good 20 25 minutes burger fry good would call best city claim live area seen line ups outside door Today finally give shot little line big disappointment Get one guy ahead cash time takes order takes 4 phone call orders WTF thought customer think little cready taking orders answer phone people waiting Bad start get cheese burger fries home find burger tiny Bit priced ask taste ok little let hype hear place fries gross tasted way oily threw half think Ill stick Licks Harveys burgers LOVE Burger Priest Pure awesomeness 10 burger reach heavens gate Yes thats good first bite taste quality freshness ground beef much meatier juicier compared burger joints actually see grind beef every hour makes step gourmet burger places Priest deep fried stuffed cheese portabello mushroom top cheese burger soo good packed much flavour Guranteed ITIS eating one Felt like burgers dinner work thrilled Angela decided join dinner Burgers exactly healthiest thing world first foremost thank constantly sticking P Heard soo many good things burger priest else hit burger joint quite far east along queen long work day commute seemed much longer expected heads even rush hour heading via ttc quite trip Burger priest around upper beaches area kinda middle nowhere Burger priest small place probably seating 56 primarily takeout joint quite fortunate able grab 2 seats within couple mins extensive menu boy looks smells great small place modernly designed quick takeout burger diner Angela help order double double burgers little bit smaller side got fries get mine chilli cheese fries toppings included lettuce tomato mayo also got made InNOut style belief call jarged something sure toppings included everything mustard wait horribe 10 mins first bite Ohhh mannn hype valid burger typical North American burger oily fatty juices actually run hands taste ohhh mann delicious patty seasoned perfectly cooked medium medium rare toppings tho simple complimented burger every aspect sides bad shoestring variety deep fried well mean could go little bit crispy still good chilli fries cheese end okay next time Im back would go regular fries gotten regular fries might ordered another double double jarged good yes little small mean place constantly busy packed reason come late leave disappointed Overall definitely enjoyed Burger Priest far best 2011 hands Yes fatty recommending going often mean ton grease stains even chilli cheese fries make second guess choice coming burger joint simply dang good price still within reason leave knowing great burger run mill type burger even turn average burger fan leaving smiles great spot carnivores herbivores alike Went walk around woodbine park one best veggie burgers life first bite cheese literally exploded deep fried portobello mushroom burger heaven Highly recommended Boyfriend actual meat burger seemed equally pleased went grab lunch got cheeseburger fries chocolate chip cookie thing sucked cash travel typically carry cash usually US currency Anyway dare say tasted like n cheeseburger yes yes damn tasty fries bit greasy cookie nice treat hearing much talk place finally met Priest burger Though feel adventurous first visit regret choice cheeseburger bacon fries liked meat loved handmade patties perfectly sized fit belly finished craved try infamous Priest burger got wish friend treated day Im glad tried probably order liked pankocrusted Portobello mushrooms liked stuffed cheese found way much food struggled finish one point eat another morsel worry none went waste friends dog happy eat rest heard Burgers Priest cheap However appreciate efforts using quality ingredients like beef keep menu simple possible Im area much theyre definitely worth treat know Ive good burgers priest resides Georges chicken used new owners definitly cleaned tiny hole wall minimalistic style tiny little seating make bad burger decided take signature Priest Burger small batch ground seasoned cheese burger cooked Merican style flattop topped vegeburger portobello mushroom stuffed cheese rolled panko bread crumbs deepfried burger meat delicious savory portobello could leave may cooked way cold clump cheese middle Next time Im think simply cheese burger fries combo would sufficient hear fries superb waiting anticipation try burger sorry say might hyped much cheeseburger combo regular toppings fries drink surprised small burger price burger almost passes slider taste okay reminded McDonalds kids hamburger bun dense stuck roof mouth fries mediocre wouldve tasted better gravy half soggy would come back line ups way location pretty difficult park place cramped would recommend adding another patty trying priest burger gotten best burger honest feeling little nauseous afterwards well really greasy mention rude ppl ask lettuce burger usually leave right guys get get overit gotoWendys Ordered 2 burgers fries 39 Ask chilli cheese fries given regular fries wrong toppings burgers Realizing got home annoying Especially since paid 43 tip phoned told charged Went California ate made miss Toronto Option say definitely something different Ive hamburger joints looking heart stopping burger place go massive yet small looking burger Definitely left full end Jam packed cheese seasoned pepper tasted honest hint actual meat fries great pretty much fries McDonalds obviously cut fresh taste great Honestly try want something ordinary burger hearing lots good things trusted friend decided give place shot went pretty basic double burger wcheese bacon Ive certainly worse burgers know Ill rush come back Heres Cost burger came little 11 could deal Meanwhile 399 fries 399 fries Basically stubby chipstand fries money want something like seasoning Gangster Burger duck fat fries WVRST Noise Maybe means Im old man combination small space tooloud stereo relatively noisy kitchen counter made tricky hear softly spoken cashier occasionally dining partner credit knew big go hollering number order ready Great First Impression system little kink thatd easy remember subsequent visits little bothersome first especially noise level making tricky catch explanation one basket taking number second end counter depositing Im sure baskets behind counter cashier sort Burger Hearty sure greasy point actually need two dozen napkins give Greasy point bit food hangover afterwards Maybe thats jam mine meat tasty bun pleasingly soft though yeah garbage stretch theres handful small annoyances combine glut choice burgers immediate area let alone Toronto leave rush return Within less five minutes walk hit BGM Gangster Burger better premium cut hit almostadjacent McDonalds Hero Burger something lower quality yet still filling Maybe theyll improve hope Amazing burgers Busy place worth wait fresh food definitely back Theyve kind missed point classic American burger joint One favorite burger joints US St Louis MO Carls uses local beef ground fresh daily fantastic homemade chili even homemade rootbeer Carls chili stands need mixed fries though Priest even offer chili think Id want bowl beef bean slurry comes fries anyway point priest good Toronto prices stupid food STILL good REAL burger joints states go prime rib dinner Sunday House Parliament fantastic less price burger chilifries Priest good yeswhen need real burger Ill go cringe price somewhat enjoy hoping could enjoy bowl tasty chili yearn lower prices burgs Midwest know stuff expensive Canada 3x priceI really always feel ripped Nothing special taste boutique burger places names burgers funny though Goddamn best fast food greasy burger North America Rivalled Burger burger friggin pricey worth bite melts mouth Try anything love patiently awaiting day get ONION RINGS menu fries also die Delicious every time bacon double cheeseburger chili fries Extremely good filling Forgot take picturewas busy stuffing face search continues perfect order find today Sure ate half burger even got back car LCBO lot Sure inhaled rest able pull Queen Street Sure still one Torontos best burgers perfect order one repeat Last time sold fries told next time would get 2 burgers Today walked crisis financial conscience want pay 529 2 burgers got one double burger instead 880 door meat juicy flavours robust divine bun delicious always meat bun condiments ratio undesirable double burger much burger sandwiched one bun flavour meat overwhelming could toppings none would tasted Like cow friends dare say second trip Burgers Priest still 5 star experience want order next time 2 burgers fries Ill buy lemon tea beer LCBO get 5 stars together months able get eastend went back New Years Eve best time visit busy burger joint ever kudos open 930 pm visiting Holy Chuck felt Priest crew friendly staff proved wrong new manager nice asking burger refreshing actually talk staff know usually cant said fries good Ive previously burger still tastes good many locations burgers last meal good Meaning death row would request one last meal HANDS FAVORITE BURGER TORONTO taste unmatched really hungry get double party two burgers dine place orders via telephone Went way back first opened far make tastiest burger yet imo fries great usually get theyre shoestring kind gripe place price prices high portions small compared competitors would like see either bigger burgers reduced prices come Ive forgotten taste Hallelujah Best burger Toronto genius simplicity want saffron scented kobe beef garlic aoli frise spelt ciabatta go want real back basics fresh ingredients beautifully griddled old school burger GO comparison InNOut fair Burgers Priest small run operation much fresher better ingredients seasoning service grind beef griddle perfection Im Toronto crave InNOut Im California crave Burgers Priest cheese burger heaven double double devilish delight Im dying try Option Im love beef warned walkin closets bigger space customers sat one four stools every time Im cant wait put burger mouth maybe would better option take especially two people Also warned guys afraid make greasy delicious Wouldve 5 stars location central soooo far seating long trek get wanna sit comfortably enjoy burger 2 things Im HUGE fan probably even bigger fan soontoopen Queen Spadina branch YAY ATMOSPHERE Really fun modern hipster cor staff vibe cool shop clean super tiny Theres bar seats signs tell instore bar customers waiting food welcome eat inside go nice day sitting outside curb doable SERVICE Since takeout place speed service pretty impressive Orders filled super quick worry line PRICE Decent price trendy place okay portion size FOOD Love soft buns juicy patty AMAZINGNESS Option Seriously make sure got Option burger Trust Fries okay gluten free fries need make exciting less already knew P SECRET MENU available website pretty extensive check httpwwwtheburgerspriestcomsecretmenu burgers good small lineups usually really long worth wait understand place highly ranked think hyped choose go make sure order couple burgers 1 enough went Burgers Priest fist time last night got double fries Based many recommendations grabbed beer LCBO walked block Coxwell sit park burger damn good Well seasoned stays together nicely Unfortunately fries preventing five star rating bland oil flavour strong definitely going back skip fries next time seen god came form delicious cheeseburger burger priest newish burger shop leslievile toronto saturated gourmet burger restaurants ive tried many including craft burger gourmet burger co w burger bar burgershoppe burger priest stands fits category burgers fussy offer standard toppings considered gourmet sense use high quality beef grind house times day menu small offer single hamburgerscheeseburgers 4 oz patty well double double two 4 oz patties cheese option vegetarian arteryclogger made two portobello mushrooms filled cheese battered deep fried priest option paired cheeseburger one bun also serve fries try heard good something doublefry technique decided double double 799 lettuce tomato ketchup mustard mayo pickles patties loose formed balls fried flattop grill consistency burger meat reminded lot shake shacks burgers read many find similar innout burger found incredibly delicious juicy point meat falls apart bun bun standard grocery store bun feel compliments burger well take away tasty meat toppings applied sparsely lets burger shine simply perfect burger get paid 599 small burger good admit tasty melt mouth microscopic think people rave place want admit got ripped feel need justify shelling much perfectly ordinary tiny piece meat Either trendy hipster doofuses somehow think egotistical cooks attitude cramped dining spaces authentic decide beforehand going like matter senses sensibility tell otherwise qualm got ripped Ill admit say Ive tried comes casual conversation never returning believe hype folks seriousness better going Licks actually get something substantial filling known burgers priest TV show long time came Toronto looking forward much really disappointed went one February afternoon ordered priest small still cost than10 burger greasy add ketchup make taste better Btw cheese inside great stuff nice Maybe expect much still think tasty burgers intention coming driving discovered last minute Strangely found location open Sunday location visited Tiny restaurant limited seating burgers pricey around 16 combo includes burger drink fries found menu pretty okay know secret menu ordered reg menu Ordered double bacon cheeseburger high priest burger along combo fries overly salted beef use must high fat percentage oil everywhere soaked buns made buns soggy wet big fan burgers good though expect anything lean Ended ordering Ice cream cookie sangwich chocolate ice cream different choices really good ice cream melt fast made even better fan food would probably come back burgers ice cream cookie sangwich sure Fatty greasy good gets Cant say anything already said place Id eat everyday wife would let Double double close perfection burger form essentially burger porn opportunity try Burger Priest last weekend Let start saying expectations high friends neighbors raved burgers wife loved pushing least 45 star rating review found burgers little greasy liking tasty fries REAL fries done perfection argument paying much burgersthan Im going Burger Shoppe Queen St road Good burger joint though Made drive Queen location finally try burger Tiny place barely room people line order wait food line got 330pm Ordered bacon double cheese fries Wanted shake Took 10 minutes burger place real busy got food became worth Burger steaming hot cheese oozing sides generous piece bacon hanging Perfect size able finish burger fries without stuffed Burger cooked perfectly nice juicy Def come Excellent burger Next time try chili cheese fries Recommended recent week generous reviews hoping find something less stellar review know reading review Burgers Priest though would find Wrongo Kris Working Yelp office day Evelyn W worked quite appetite time together decided nothing short biggest juiciest greasiest secretest burgers Toronto would take away joint tiny 4 seats let lack seating tiny menu fool fact ask secret menu admitted asked got know cant tell sorta answer polite opted whats popular referred High Priest Vatican Ill leave descriptions find let known High Priest resembles Big Mac BM taste like times let sit wrapper found place eat time got 5 minutes later burger cocooned cornucopia greasy juices making edges buns almost translucent might sayewwww grosss say Fk YAbring coronary good Im salivating write shaking head remember Honorable mention go fries shared fresh cut deep fried perfection issue price point 2 burgers 2 cans pop shared fries ended dropping 28 Little much guys mean fast food great fast food fast food non less CASH Holy Amazing burger got High Priest Option absolutely divine Best burger ever Best Burger Toronto Hands Juicy Meaty Got Priest Cheeseburger 2nd time First time got option veggie burger Love burgers always cooked right Burgers big places price little high side place super tiny 4 bar stools def take away joint place Cash forget great burger joint get food eat beach definitely top 5 burgers city Great selection burgers thing like burgers pretty small theyre great Super delicious burger option miss meat one bit portobello mushroom fried cheese delicious good loved creamsicle float Creamsicles fave even diet orange crush make less guilt lol highly recommend yet wish actual restaurant bigger Basically great place takeout walk park meal enjoy Best burger ever Great mix fresh meats Super juicy Best burger ive ever travelled Markham location twice burger 1hr drive back forth well worth checked Burgers Priest last night GREAT burgers Things know virtually seating 5 high stools next counter best go takeout option small kitchen friendly staff BIG tasting food Menu basics burgers options like cheese bacon fried onions normal condiments veggieburger Option portobello mushroom combo double double chili cheese fries drink homemade cookie comments Wonderful burger double double cheese fried onions folks understand meat like rib steak ground formed patties fantastic flavour cover lot sauces taste meaty goodness come regular size soft white plain buns finally place overwhelm much bread flavours detract burger hub double double without cheese Said one best burgers ever fries fine plain jane thats good thing Next time trying Priest believe one beef pattie one veggie option Sounds awesome Expect busy weekends see line door frequently Anyways soooo back Parking street also grabbing movie Alliance Cinema across street think dining option beforehand keep mind lends take Enjoy Finally chance test popular Burger shop Ordered loaded Option bad say bad Im contrasting 1st bite experience Shake Shack shack stack burger IMHO best burgers world presume Burger Priest got option inspiration meat definitely fresh bit bland bun texture bit course fresh toppings acceptable disappointing part undercooked cheese inside fried portobelo mushroom Overall burger lacked wow factor orgasmic melt mouth sensation Shack Shack burger exhibits justification first star deduction price Priests lacks value money final products quality warrant premium Second star deduction undercooked shroom Priest probably best burger craving Shake Shack next best alternative 5 visits sad give great little burger place 45 limited seating 6 exact hope expand soon continue great success Searching best burger town eaiest task many pop many different taste buds One thing searching best burger make sure fair review Comparing flat top flame grilled burger truely unfiar bring different flavours Burgers Priest cooks freshly ground burgers flat top Cooked perfection chared outter shell incasing light pink juicy center Fresh bread ingredients TNJ top notch joint Priest Burger cheeseburger stuffed deep fried portabello mushroom mouth tingles thinking burgers haha One day muster courage order Vatican secret menu double cheeseburger incased two grilled cheese must try meat eating burger lovers P see flip side Let start saying without doubt Burgers Priest one best burgers Ive ever Ive regular customer last 4 years tried different locations Queen east location closest credit food always great However service steadily declining last times Ive visited Ive waited 25 minutes heads mention last visit 35 minute wait said 35 minutes long time wait one burger fries given shrug felt blown enjoying Burgers Priest Im town beaches Burger joint would recommend Bull Buldging Burger Queen east Burgers Priest loved place bit skeptical walking tiny sit staff also owners tho nice bit aggressive burger pushers selling burgers makes sense cos found open 2 weeks point burgers delicious juicy fresh much flavor theyre messy packed foil makes eating experience much yummy fries insanely good perfect also packed foil long shoestringy like fries small joint burgers pricey side theyre good totally worth around 1015 per meal take debit make sure u cash downside way beaches ive dream heading backwish far must try cheeseburger fried onions absolutely must try fries far best burger Ive ever thats cooked backyard bbq Long line Really long speaks popularity place bf grabbed two burgers one two patties cheese middle well chilli fries headed nearby park eat Amazing burgers live reputation Id place spot number 1 burger joint city previous favourite Five Guys Burgers distant second Highly recommend impressed overpriced Big Mac also thought getting away cash place cash short 27 bucks two Big Macs fries Pepsi Well tell Definitely average veggie burger Called Option two portobello caps stuffed ridiculous amount cheese breaded deep fried placed bun good way heavy WAY cheesy bite created uncomfortable hot cheese avalanche sounds better reality Tasty yes whole wheat buns Fries meh toppings sparse Another expensive burger place burger fries combo came almost 14 get beverage cooler one come combo None staff mentioned otherwise even though watching us pack stuff go tiny location know past given bonus points clever concepts copy hey Im art director whereas thought iconographyburger thing funny first novelty definitely wore Cant tell running joke taking seriously Overall food alright definitely would travel across town thats sure exorbitant priced burger shops getting want charge much make worthwhile reviewed place negatively terrible greasy experience twice row take back Im frequent priester hands best burger city locations vary though Bathurst bloor best Queensway sure close second Skip Adelaide Overhyped beef good patties thin could easily 3 4 prob 2 enough bread pathetic Toppings mediocre Price unreasonable live west side town hate driving across town food worth Best burger town price range Better fries would nice though Clearly problems potatoes use inconsistent Tried quite burgers Toronto best completely avoid peak busy periods Shop incredibly small packed Regardless five stars must avoid Fantastic burgers fries Ill make one quick Amazing burgers questioning wish setting Also bit pricey quality say worth Ive tried burgers great bit crazy eat regular burger joints dime dozen city welcome one open arms Would love give 5 stars took one fries weak Im fan soggy fries know people burgers r awesome highly recommend getting burger Vatican style u r gonna heavy worth option also tasty add Enjoy Took two friends read reviews wanted try warned would disappointing refused listen said burger weak pissed paid almost 20 combo One said grape soda saved joint something make Bottom line burger get good place good burger place prices quite ridiculous insulting normally write reviews receiving meal feel like order came 35 minutes late food soggy mess papers bags wet even hold without supporting bottom 70 bucks 4 burgers fries worth ordered dessert put order driver eats waited 30 minutes cook order cant prioritize delivery orders offer One word Burgasm searching burger joint Toronto place Heard lots good things place peeps definitely disappoint place takeout enjoy elsewhere find stool 5 Id say enjoy hot grill Priest consists doublegroundcheeseburger underneath cheesestuffedpankobreadeddeepfriedportabellomushroom comically named Option ordered vegetarian friends caution probably work appetite delicious monster first bite send stuffed cheese Option flow gets bit dicey hands honestly say combination meat cheese mushroom really hit mark complaint really appreciate meat took bite doublegrind bit looser retains lot juicy meat flavour Fries average guy eat McDonalds cut strikingly similar McDs remember tad oversalted Im freshcut fry kinda guy next outing Ill probably save calories cash burgers lunch today hubby delicious know owner used work InNOut husband read place provided factoid Atmosphere cramped space much space sit small counter four stools arrived around 1245 place still packed lunch rush Food amazing Juicy burger lots flavor First fries Ive actually replay value turn little hard sticks like fast food chains option basically portabello mushrooms cheese battered fried bun lettuce tomato ketchup mustard mayo Hubby priest option cheeseburger Would definitely go Service pretty quick although end lunch rush Itd cool opened place seating seeing perfect score Yelp check Burgers Priest Im glad Im love Ive twice since times incredible highly suggest getting pitch owner text alone could never pitch justice Hes passionate burgers descriptive try drool goes every menu item sounds like oft repeated speech go namesake burger Priest essentially cheeseburger veggie burger top going keep daily calorie limit itll leave wanting burger enough satisfy choose go fries theyre pretty good well taste like McDonalds fries changed oilrecipe like going back good old greasy days Mickey Ds love burgers like Burgers Priest must Tip cash Decided try place last night packed huge line outside get place wanted wait people willing wait 2030 minutes line burger must one hell burger right got cheeseburger regular fries wanted try chili cheese fries worried enough room finish ate burger took another 20 minutes wait order taken almost 1 hour waiting altogether Thank goodness cold outside Finally got burgers hands chance taste fries Overall nothing ordinary bag came accumulating grease stains minute burger fine tasted fresh good ben squished fries sitting top fries great Ive better came home poured fries plate stuck together may go back burger decent definitely worth hour time One best burgers Ive ever tried got Priest Burger delicious melted cheese beef patty combine make mouth watering comboThe cheesy battered portebello mushroom made burger extra special enjoyed burger first time much went back less week also fries bad would stick burger next time get fries suggest getting Chili fries Redefining bad ass noting quite possibly best burger Ive ever whats guy supposed add said 74 reviews made point go Burgers Priest within days eating Holy Chuck reaffirm faith repent cheating ways gluttony confirmed Burgers Priest better Holy Chuck burger patty better toppings better theyre cooler cuz first Ill admit things wish Burgers Priest wish took credit cards wish somewhere sit fries could also crunchierbut important thing BURGER TASTES BETTER slightly cheaper dollar two thats enough make worth trek cant wait open new location YongeLawrence busy place crowded self serving Burger tastyjuicywellflavored fresh decent size Fries ordinary bad al Chili rich cheese also ordinary bad pricy fast food burger restaurant atmosphere Definitely bring friends go share taste vegetarian Amazing Hubby cheeseburger alright better still decent Small place much room sit Expect take fries Cannot comment Overall good place grab quick lunch go make mean burger others noted basically InnOut burger hip better quality twice price secret menu far tell burger freshly ground beef Theres egg bread crumbs barbecue sauce etc mixed meat Generally Id consider bad thing works though mean burgers fall apart theres nothing bind Option real winner Rather lame veggie burger give two portobellos sandwiched around pile cheese breaded deep friend best Priest 999 gets cheeseburger Option best worlds freakin amazing fries good impress much burgers owner little intense pitch vision gourmet burger joint California road side burger house New York flair little much perhaps least hes passionate fun friendly Also showed least 15 hours closing finished eating ran burgers closed Would bit bummer wed got 15 minutes later call ahead showing end day Get priest burger make sure portobello mushroom inside get ready melt away burger heaven taste freshness patty bad bit pricey side httpmmmilovefoodwordpresscom20120916theburgerspriestatrulyreligiousexperience hearing much hype Burgers Priest finally ventured Queen Street East quell curiousity Located small unit sketchy part town fast food joint standing room stopped late night bite weeknight still long line running front door finally got doors overwhelmed aroma fresh ground burgers cooking flat top griddle decor inside simple impressed subtle nuances like confessional booth screens accent front facade counter hot small space sweating like whore church Ive lot burgers lifetime come close sinfully delicious Priest Burger cheeseburger special addition call Option juicy portabello mushroom cheese deep fried batter Ground seasoned site daily fresh beef patty packed flavour grilled juicy perfection Option like nothing Id ever looked like onion ring steroids first bite orgasmic teeth penetrated Option felt warm explosion creamy cheese jizz mouth Sorry sound crude words really best ones describe sinfully delicious Priest Burger really bun soft fresh sops creamy goodness spills burger premium price 999 cheap burger absolutely worth every penny one best burgers Ive ever cant wait go back discovered unseen menu post Facebook page Theyve got secret burger concoctions like High Priest Tower Babel Blue Steel Magnum aptly named lamb burger Messiah finally made way Burgers Priest disappointed came hot Monday evening crazy busy although constant line entire time place tiny 6 stools people ordered burgers go warned AC gets extremely hot inside decided go High Priest secret menu take Big Mac tasted pretty damn close Big Mac much better patties juicy burger packed full flavour complaint bun really hold well thats nitpicky Amazing amazing burger boyfriend ordered Priest option fried mushroom stuffed cheese cheeseburger another ridiculous burger combination deliciously juicy patty fried stuffed mushroom blew mind Another huge hit also ordered side fries bit disappointment crispy meh recommend since make amazing burgers forgiven Keep mind burgers little pricey side think around 10 totally worth price trek Ive always loved burgers crave thanks Burgers Priest Simple tasty perfection Believe hype eat one EDIT Still favorite 20 visits Also daughters favorite Good burger overpriced overrated best burger Toronto good burger cracks top ten think toronto priest prime location name stands much money enough meat Dans Real Mccoy make way better burgers think secret locking flavour cramped steam roomlike space must try Priest Burger next time cheese burger satisfying enough makes Burgers Priest amazing Option crispy fried portobellos oozing cheese center look picture one beef never overcooked toppings fresh bun excellent cheap everyday burger indulgence cravings kick staple Priest mouthgasm cheese burger lovers Thats end despite price tag great options double cheese burger Boyfriend enjoys Magnum plus Option ohyeah fries crispy fluffy often borderline oversalted cant stop eating Chili cheese fries also staple feeling particularly hungry Neither overthemoon great definitely round visit stomach Cash course Basically seating location also like call ahead order skip line Believe hype worth Ordered Priest Options burger batter coated deep fried portobello mushroom cap cheese fried onions Oh wow Rushing house make 10 minutes opening time insane amount calories packed burger 10ish dollars said burger worth fries soft oily burnt husband overheard staff saying particular batch burnt unfortunately given batch anyway uhm yay Well Id rather save calorie allowance burger anyway epic place quite small seating limited stools little communal counter Staff cute pleasant Cant wait come back Id suggest coming early since within 10 minutes opening place already bustling love burgers think disappointed Gross Good KFC Harveys area must kicking CC got lunchtime rush 1230 noob think holding line got Priest cheese includes Option breaded deep fried mushroom stuffed cheese burger patty cheese 799 Way gooey tasty heard secret menu Magazine rundown see High Priest Big Mac clone built Double Double additional bun spread faux Mickey secret sauce Option becomes Religious Hypocrite paired bacon Noahs Ark layered campfire chili cheese 899 Replace buns Double Double grilled cheese sandwiches get Vatican City 999 sounds gross probably tastes yummy Squeeze Options deepfried portobello Vatican becomes Tower Babel 1499 Tell want Double Double extra fried onions 899 cooked Jargestyle pronounced Jarzsh theyll fry ballpark mustard sure go 6x6 six beef patties six slices cheese bun 1435 forget ask smoke want deepfried jalape pepper added anything mean first time try Next time Ill go Jarge style Cash Theres seating Pick sunny day take meal park like others plop side KFC parking lot apologies blasphemy commit fucking difficult time understanding Burgers Priest BEST burger joint Toronto ever fail see continued flow hyperbolic overhype appearances top burger places town often 1 lists bewilders Theres seems end people deifying literally Burgers Priest claiming 1 burger Toronto quite frankly getting annoying Im convinced theres literally cult behind foodies go around screaming Believe hype like YongeDundas street preacher famously freaks people BELIEVE LORD second visit failed change impressions Maybe due epiphany ordered Priest everything basically looks like glorified Big Mac collision cheese mushrooms things turned rather boring greasy sad mess flat flavours tasted meat fat melted cheese barely enough register drool boring unimpressive expected much bigger mindblowing burger price paid whats hypes worth friend ordered Vatican apparently comes Secret Menu httpwwwtheburgerspriestcomsecretmenu oooh spooky load pretentious crap like cult thing special people know basically bigger version whatever hell got lot difference taste continues insist best shit town Well aint converted particular location Queen Coxwell incredibly tinythey discourage eating especially busy Best grab runrun like hell Theres washroom eitherthank goodness KFC nearby staff enthusiastic typical McDonalds Severely overrated much sure worship hipsterhungry superlative overhypedtodeath booger joint stopped around 7 PM week night wait get place place small line moved quickly enough line chance meet Yelper also trying place first time exchange notes notable burger joints pass time Overall love burgers disappointed fries Double Double tasty satisfying straightforward double burger without gimmick Burger smaller size packed lots flavor Initially thought going need endure line order second one happy report burger satisfying fries soggy ate finished order fries sharing returning try Priest passing fries many reviews already much add except Believe hype one juicy delicious perfectly grilled burger cheeseburger nice simple actually big compared places DC Priest option genius Mushroom cheese lot oil favourite things Urgh hipster foodie joints stuck 1 star asked could order something Secret Menu guy like think answered question secret reason Friend us facebook maybe see whats secret menu Seriously Also interesting ironic religious references website link gospel might think gonna lets redeem burger actually gospel gospel Like New Testament Bible style closed Sundays church tell one burgers special occasion healthy Damn delicious healthy stop bike favorite pet supply place order doubledouble either breakfast lunch lunch dinner depending time day Toppings Pretty much standard recall list website Burgers Priest burger usually ask pickle tomato mustard doubledouble buy bottle water yah hate buying water drink choices variants carbonated still sugar water loose burger juicy burger burger barely held together gravitational attraction covalent bonds meat squeezed tightly together messy burger burger going juices fats dripping hands Salted enough taste salt leave thirsty rest day Yes need napkin two delicious Im tempted go right one prevents 5star bun soft thin falls apart eating burger might satisfactory single burger think something greater density needed doubledouble specialties said Im still going back Many times think Ive got order secret menu next time 4 5 favourite burgers city Take Usually 30 mins wait eat two hungry Veggie option available second time trying place write review based first visit would different visit avoided going back almost year time completely different story girlfriend decided give try first second Im glad secret menu found online ordered Red Sea believe got Vatican city one definitely much better experience Red Sea burger cheeseburger chili top tasty Cooked perfection well complemented savoury chill fries ordered great freshly cut fried perfection Far best burger town certainly one step places like Works comes flavour hyped burger ever eaten live expectation meat tasteless bun like cheap noname ones could get supermarket seating completely faceless staff Next time want great burger Id rather go straight hell see priest Believed hype went across town Waited long line Ordered Paid know expecting upscale White Castle burger cheap bread get wrong liked burger fine obvious lot love went hearing forever best burger ever going disappointed visit yielded billed best burger city reality even best burger neighbourhood Still go experience hype Burgers Priest bf decided try neighbourhood Expectations high salivating thinking burgers heard place busy long lines given expect place small Food ordered cheeseburger bf ordered double cheeseburger Option gooey cheesy friedmushroomy burger ordered side fries bf ordered chilli fries total came 38 may made mistake bringing burgers back home allowed cool bit going grain really understand big deal place cheeseburger essentially meat cheese toppings one tomato ketchup 2 slices onions actually find burger big evenI hungry finished mine 349 fries fries time ate cold soggy WOW factor expected burger something larger wider filled gourmet toppings like Brie cheese olive tapenade cheese burger signature yellow processed one even real think place quite overrated burgers really nothing special expensive mean burgers even christened made priests think order work young male teenager looks like skateboarder signature side cap anything holy Since tried hype place rest easy go living life normally side note bf mentioned much prefer Craft burger idea burger supposed Ambiance Small Line extends street literally seating 6 people 3 bar stools ledge one wall 3 wall Angst head bashing music blared loudly IPOD speaker make sure order loud make sure close restaurant shout name pick order careful two large garbage bins restaurant lids attached bins careful knock lids ground pick bare hands like bf FYI Cash Always fresh burgers quick service considering large numbers people serve fries fresh cut tasty well sure check hidden menu available online twists original Wanted stop grab quick burger leaving wife 3 kids car Took almost 40 minutes Burger good thought Wife unimpressed Finally burger worth Yelping Priest heavenly know good wax paper becomes transparent time get car Fries shit skip Save room another burger Nothing constructive new add Finally got around trying place last weekend Fries anything write home bad either Best burger pricepoint entire city handsdown note asked medium rare fellow behind register told thats cook normally squeal excitement erupted inside Burger medium juicy moist delicious forgave minor sin place ups downs cant really comment meat like many reviews always get veggie burger truly amazing huge portobello oozing garlicky cheese covered panko give amazing crunch Really could argue Ive never bun disintegration issues either maybe mushroom emit much liquid regular burger However agree overpriced Last time went boyfriend 30 two meals include drinks greedy size burger get fries blow bland overcooked lack seasoning times got cold realistically people go fries reason called burgers priest right People correct room get cozy people pretty quick turn food pretty fast Unlike others disposition person flipping burgers really concern long get food timely manner end return veggie burger epic next time Ill skip fries expected girlfriend dropped burgers heard one best burger joints Toronto even close overrated close Five Guys many chains Expensive salty girlfriend felt sick threw burger Fries ok burgers overall good nothing fancy fries thin cut variety Personally prefer thick chips Brits would sayas think tastier home made speak patty also prefer patties seasoned rather plain purely personal preference price point reasonable well must admit though still found amazing burger yet good burger tasted fresh Fries way much salt though Space tiny even get one 5 seats bench crowded others show order good Ive read place really excited try Perfectly cooked juicy loosepacked beef Yummy melty cheesy goodness Perfect bun LOVE finally decided give Burgers Priest try finished 120K bike ride always enjoy eating burger fries afterwards used Foodora place order everything arrived time promised part good liked burgers well cooked flavourful good burger patty bun ratio buns fresh soft fries crispy without overly salty good amount included combo like burgers TINY went Foodora picture looked like patties decent size doubt bigger 4oz ended heading find something else eat afterwards hungry keep mind Order extra burger double patty also asked extra pickles side ketchup fries found sure Overall soso first experience might back give another try options area probably time soon know theres already 250 reviews place whatevs another take wish address quirks follies place 1 Size burger tiny common whine PORTION MEAT SIZE PALM KING KONGS FATTY MCFATTINGTON Order two son Jughead Jones 2 many rules cant eat inside secret menu etcthat place character like CHURCH crazy protocols tension excitement 3 convinced going meet future husband go prime time 6pm 8 pm crushed tits tail tiny spot waiting order nothing Instagram checkin Facebook done practise social skills real maybe strike conversation like real human 4 fries rock 5 superfluous condiments like feta cheese chipotle anything God meant burgers eaten bun perfection simplicity sesame seeds stupid flaxy nuggets contend getting caught teeth 6 Option spooky like like exists others love going always hope close liquor store Im Toronto living Seattle awhile love Toronto much Seattle upside mainly great food scene burgers West rock heard Priest Burger place kicking butt big got excited One first things came home visit folks go check Priest Burger Man disappointed know make great burger burger snob Burgers Priest rules Caramelization pattiesfresh ground beef secret menu awesome check Ill admit time time pray alter Priest burgers lot like n burgers West Coast bunch fancy pants options usually stick cheeseburger fries find thats enough food Best burger Ive Toronto one best burgers Ive ever anywhere fries nothing special cares really care mushroom stuffed cheese cares burger awesome finished wanted Next time Ill order secret menu try Vatican Burger run 2015 Lets start famous Burgers Priest small little diner little know seating thing packed full people already knew right place based line going door January Toronto waiting cold totally worth order secret menu read yelp check reviews Obviously way stay impartial hindsight idiot Regardless got priest chili cheese fries coke possibly clogged arteries side stroke thrown got little taste heaven said delicious would understatement year started 2015 said thing fucking amazingly delicious getting closer understatement lets break burger Lets go scale delicious less tasty super tasty Coke Syrup Check Carbonated water Check Disgusting like McDs Check Good set nice bar Chili cheese fries Medium cut perfectly fried fries Crunchy outside tender inside Chili average cheese Forgo Chili Cheese stick fries lose much save additional unnecessary calories grease lards tomato lettuce delicious cheese super juicy patty probably higher fat ground beef ratio usually used judging transparency wrapper paper bag used hold see light Hallelujah course hidden weapon inside thing called Option thick juicy portabello mushroom encapsulating gooey glob cheese deep fried batter screams delicious well heart attack place awesome Disgusting awesome come often mainly Im lazy drive also unhealthy However first meal successfully fulfilled statement made comedian Louis CK meal Im full meal hate Congratulations Burgers Priest place Apparently original Burgers Priest location small restaurant couple bar stools burger High Priest Two patties bun special sauce cheese Pretty much BigMac higher quality ingredients Overall good burger nothing go way Next time would choose different burger something original fries crispy greasy Bottom line high quality burger reminiscent elevated Big Mac would suggest trying different burger joint High Priest Also accept cash Best burgers Ive ever eaten Period squabble size ambience inside burgers best eaten right preparation Unfortunately 4 stools inside place elbow room parking lot next door usually quite empty eat perfect move bigger place start serving beer Best burgers Toronto eat lot burgers Ive eaten places Burgers Priest pictured wall place compares admirably ever eaten InNOut know badly crave burgerand Burgers Priest fills InNOut longing gusto love crispy outside burger juicy insides cant get enough burgers hate fact sitdown area though basically means cant go winter unless want eat burger streetcar way home want Oh wish would expand dream burger needs appreciated enjoyed way deserving excellence burgerand want able sit Impossible Burgers Priest since always packed still hope faith burgers huge messy super delicious much room pick go also washroom Wow bar burgers incredibly low Toronto people hypebeasting shit place letdown feeling place overhyped figured Ill give shot anyways since area line herd like cattle slaughter yup much like meal staff mix smugness Ihatemyjob frowns ordered Priest cheeseburger Option two deepfried Portobello mushrooms filled cheese made patty 10 deal comparison 8 want cheeseburger Option alone exactly cheap Add fact lineup allow anyone eat burger inside place thats Burger Nazi shit spectacular burger right Wrong money alright burger value pick burger would quite bit cheaper line theres place sit expect burger make toes curl fries pretty horrible oversalted dry line shit Ive stood line hour gourmet hot dogs hamburgers let tell kiddies Ive burgersdogs good changed life everyone Ive ever sex Burgers good vision turned greyscale dizzying array flavours textures delectable burger left life forever changed get paid money even let sit restaurant ate meal Imagine Burger Priests motto Redeeming burger one time really guys declared champions burger Well least definitely priestlike tricked young man putting meat mouth tiny place read good review online decided try concept like take place theres stools cash staff friendly helpful first time asked suggestions food done within 7 minutes loved Ive ordered two different burgers say one better remember name one Californian amazed definitely going back best burger Ive ever Amen Read httpstaydinecom1dl9hq5'"
      ]
     },
     "execution_count": 30,
     "metadata": {},
     "output_type": "execute_result"
    }
   ],
   "source": [
    "# review business 'oWTn2IzrprsRkPfULtjZtQ'\n",
    "business_df.loc['oWTn2IzrprsRkPfULtjZtQ']['text']"
   ]
  },
  {
   "cell_type": "markdown",
   "metadata": {},
   "source": [
    "### Apply the TFIDF Vectorizer to extract features from the text"
   ]
  },
  {
   "cell_type": "code",
   "execution_count": 31,
   "metadata": {},
   "outputs": [],
   "source": [
    "# from sklearn.feature_extraction.text import TfidfVectorizer\n",
    "\n",
    "#userid vectorizer\n",
    "userid_vectorizer = TfidfVectorizer(tokenizer = WordPunctTokenizer().tokenize, max_features=4000)\n",
    "userid_vectors = userid_vectorizer.fit_transform(userid_df['text'])\n",
    "\n",
    "#Business id vectorizer\n",
    "businessid_vectorizer = TfidfVectorizer(tokenizer = WordPunctTokenizer().tokenize, max_features=4000)\n",
    "businessid_vectors = businessid_vectorizer.fit_transform(business_df['text'])"
   ]
  },
  {
   "cell_type": "code",
   "execution_count": 32,
   "metadata": {},
   "outputs": [
    {
     "data": {
      "text/plain": [
       "(6572, 4000)"
      ]
     },
     "execution_count": 32,
     "metadata": {},
     "output_type": "execute_result"
    }
   ],
   "source": [
    "userid_vectors.shape"
   ]
  },
  {
   "cell_type": "code",
   "execution_count": 33,
   "metadata": {},
   "outputs": [
    {
     "data": {
      "text/plain": [
       "(200, 4000)"
      ]
     },
     "execution_count": 33,
     "metadata": {},
     "output_type": "execute_result"
    }
   ],
   "source": [
    "businessid_vectors.shape"
   ]
  },
  {
   "cell_type": "markdown",
   "metadata": {},
   "source": [
    "### Latent Factor Collaborative Filtering Optimization"
   ]
  },
  {
   "cell_type": "code",
   "execution_count": 34,
   "metadata": {},
   "outputs": [],
   "source": [
    "# Create a matrix of users and businesss with ratings\n",
    "\n",
    "userid_rating_matrix = pd.pivot_table(tor_fd_spl, values='user_rating', index=['user_id'], columns=['business_id'])"
   ]
  },
  {
   "cell_type": "code",
   "execution_count": 35,
   "metadata": {},
   "outputs": [
    {
     "data": {
      "text/html": [
       "<div>\n",
       "<style scoped>\n",
       "    .dataframe tbody tr th:only-of-type {\n",
       "        vertical-align: middle;\n",
       "    }\n",
       "\n",
       "    .dataframe tbody tr th {\n",
       "        vertical-align: top;\n",
       "    }\n",
       "\n",
       "    .dataframe thead th {\n",
       "        text-align: right;\n",
       "    }\n",
       "</style>\n",
       "<table border=\"1\" class=\"dataframe\">\n",
       "  <thead>\n",
       "    <tr style=\"text-align: right;\">\n",
       "      <th>business_id</th>\n",
       "      <th>-6GJMc_Ln7csmvWWvY2iug</th>\n",
       "      <th>-L88B-PrtzwujhLuYc2k_g</th>\n",
       "      <th>0-k_-9YoWXpmtiaLdKeQJQ</th>\n",
       "      <th>0KVx4FX9trgpM6pzH2C8_A</th>\n",
       "      <th>1jNteKQ2JuF6Sk1SI9X23Q</th>\n",
       "      <th>2uhQm_4-IxWLjbKgsrVd4w</th>\n",
       "      <th>2zzRaxhpouEjGaDh9R6meA</th>\n",
       "      <th>3JJWG-Eyj-czxaXaE7LVaA</th>\n",
       "      <th>3dG6AB7o5QMVQzga0zotiA</th>\n",
       "      <th>3hI6dSt3PiF0y6aXA0QeHw</th>\n",
       "      <th>...</th>\n",
       "      <th>y1AM7MeCN3HaS7SHnxcBfQ</th>\n",
       "      <th>y35FkLcNKlGt23tRwI8VoQ</th>\n",
       "      <th>y769FA7VJOW4QQYdYlR62A</th>\n",
       "      <th>yKuAM6kL5sSKtfoe9a3GpQ</th>\n",
       "      <th>yUO7zPWGbumX42UzjbuBmw</th>\n",
       "      <th>ywPaE5Ai8SK8TeUoeMgJ6Q</th>\n",
       "      <th>zQJh5xUJAlTlMrGIyYPY0g</th>\n",
       "      <th>zg5rJfgT4jhzg1d6r2twnA</th>\n",
       "      <th>zu8Wj0gkbdnia7Dt4grMkQ</th>\n",
       "      <th>zzvlwkcNR1CCqOPXwuvz2A</th>\n",
       "    </tr>\n",
       "    <tr>\n",
       "      <th>user_id</th>\n",
       "      <th></th>\n",
       "      <th></th>\n",
       "      <th></th>\n",
       "      <th></th>\n",
       "      <th></th>\n",
       "      <th></th>\n",
       "      <th></th>\n",
       "      <th></th>\n",
       "      <th></th>\n",
       "      <th></th>\n",
       "      <th></th>\n",
       "      <th></th>\n",
       "      <th></th>\n",
       "      <th></th>\n",
       "      <th></th>\n",
       "      <th></th>\n",
       "      <th></th>\n",
       "      <th></th>\n",
       "      <th></th>\n",
       "      <th></th>\n",
       "      <th></th>\n",
       "    </tr>\n",
       "  </thead>\n",
       "  <tbody>\n",
       "    <tr>\n",
       "      <td>--BumyUHiO_7YsHurb9Hkw</td>\n",
       "      <td>NaN</td>\n",
       "      <td>NaN</td>\n",
       "      <td>NaN</td>\n",
       "      <td>NaN</td>\n",
       "      <td>NaN</td>\n",
       "      <td>NaN</td>\n",
       "      <td>NaN</td>\n",
       "      <td>NaN</td>\n",
       "      <td>NaN</td>\n",
       "      <td>NaN</td>\n",
       "      <td>...</td>\n",
       "      <td>NaN</td>\n",
       "      <td>NaN</td>\n",
       "      <td>NaN</td>\n",
       "      <td>NaN</td>\n",
       "      <td>NaN</td>\n",
       "      <td>NaN</td>\n",
       "      <td>NaN</td>\n",
       "      <td>NaN</td>\n",
       "      <td>NaN</td>\n",
       "      <td>NaN</td>\n",
       "    </tr>\n",
       "    <tr>\n",
       "      <td>--Qh8yKWAvIP4V4K8ZPfHA</td>\n",
       "      <td>NaN</td>\n",
       "      <td>NaN</td>\n",
       "      <td>NaN</td>\n",
       "      <td>NaN</td>\n",
       "      <td>NaN</td>\n",
       "      <td>NaN</td>\n",
       "      <td>NaN</td>\n",
       "      <td>NaN</td>\n",
       "      <td>2.0</td>\n",
       "      <td>NaN</td>\n",
       "      <td>...</td>\n",
       "      <td>NaN</td>\n",
       "      <td>NaN</td>\n",
       "      <td>NaN</td>\n",
       "      <td>NaN</td>\n",
       "      <td>NaN</td>\n",
       "      <td>NaN</td>\n",
       "      <td>NaN</td>\n",
       "      <td>NaN</td>\n",
       "      <td>NaN</td>\n",
       "      <td>NaN</td>\n",
       "    </tr>\n",
       "    <tr>\n",
       "      <td>-0jN99BBgMyJz7N3RetvAg</td>\n",
       "      <td>NaN</td>\n",
       "      <td>NaN</td>\n",
       "      <td>NaN</td>\n",
       "      <td>NaN</td>\n",
       "      <td>NaN</td>\n",
       "      <td>NaN</td>\n",
       "      <td>NaN</td>\n",
       "      <td>NaN</td>\n",
       "      <td>NaN</td>\n",
       "      <td>NaN</td>\n",
       "      <td>...</td>\n",
       "      <td>NaN</td>\n",
       "      <td>NaN</td>\n",
       "      <td>NaN</td>\n",
       "      <td>NaN</td>\n",
       "      <td>NaN</td>\n",
       "      <td>NaN</td>\n",
       "      <td>NaN</td>\n",
       "      <td>NaN</td>\n",
       "      <td>NaN</td>\n",
       "      <td>NaN</td>\n",
       "    </tr>\n",
       "    <tr>\n",
       "      <td>-1wbglcr6x1qrUbqP1YAIA</td>\n",
       "      <td>NaN</td>\n",
       "      <td>NaN</td>\n",
       "      <td>NaN</td>\n",
       "      <td>NaN</td>\n",
       "      <td>NaN</td>\n",
       "      <td>NaN</td>\n",
       "      <td>NaN</td>\n",
       "      <td>NaN</td>\n",
       "      <td>NaN</td>\n",
       "      <td>NaN</td>\n",
       "      <td>...</td>\n",
       "      <td>NaN</td>\n",
       "      <td>NaN</td>\n",
       "      <td>NaN</td>\n",
       "      <td>NaN</td>\n",
       "      <td>NaN</td>\n",
       "      <td>NaN</td>\n",
       "      <td>NaN</td>\n",
       "      <td>NaN</td>\n",
       "      <td>NaN</td>\n",
       "      <td>NaN</td>\n",
       "    </tr>\n",
       "    <tr>\n",
       "      <td>-2kCxY7_aw5hOz7fJnGMbQ</td>\n",
       "      <td>NaN</td>\n",
       "      <td>NaN</td>\n",
       "      <td>NaN</td>\n",
       "      <td>NaN</td>\n",
       "      <td>NaN</td>\n",
       "      <td>NaN</td>\n",
       "      <td>NaN</td>\n",
       "      <td>NaN</td>\n",
       "      <td>NaN</td>\n",
       "      <td>NaN</td>\n",
       "      <td>...</td>\n",
       "      <td>NaN</td>\n",
       "      <td>NaN</td>\n",
       "      <td>NaN</td>\n",
       "      <td>NaN</td>\n",
       "      <td>NaN</td>\n",
       "      <td>NaN</td>\n",
       "      <td>NaN</td>\n",
       "      <td>NaN</td>\n",
       "      <td>NaN</td>\n",
       "      <td>NaN</td>\n",
       "    </tr>\n",
       "  </tbody>\n",
       "</table>\n",
       "<p>5 rows × 200 columns</p>\n",
       "</div>"
      ],
      "text/plain": [
       "business_id             -6GJMc_Ln7csmvWWvY2iug  -L88B-PrtzwujhLuYc2k_g  \\\n",
       "user_id                                                                  \n",
       "--BumyUHiO_7YsHurb9Hkw                     NaN                     NaN   \n",
       "--Qh8yKWAvIP4V4K8ZPfHA                     NaN                     NaN   \n",
       "-0jN99BBgMyJz7N3RetvAg                     NaN                     NaN   \n",
       "-1wbglcr6x1qrUbqP1YAIA                     NaN                     NaN   \n",
       "-2kCxY7_aw5hOz7fJnGMbQ                     NaN                     NaN   \n",
       "\n",
       "business_id             0-k_-9YoWXpmtiaLdKeQJQ  0KVx4FX9trgpM6pzH2C8_A  \\\n",
       "user_id                                                                  \n",
       "--BumyUHiO_7YsHurb9Hkw                     NaN                     NaN   \n",
       "--Qh8yKWAvIP4V4K8ZPfHA                     NaN                     NaN   \n",
       "-0jN99BBgMyJz7N3RetvAg                     NaN                     NaN   \n",
       "-1wbglcr6x1qrUbqP1YAIA                     NaN                     NaN   \n",
       "-2kCxY7_aw5hOz7fJnGMbQ                     NaN                     NaN   \n",
       "\n",
       "business_id             1jNteKQ2JuF6Sk1SI9X23Q  2uhQm_4-IxWLjbKgsrVd4w  \\\n",
       "user_id                                                                  \n",
       "--BumyUHiO_7YsHurb9Hkw                     NaN                     NaN   \n",
       "--Qh8yKWAvIP4V4K8ZPfHA                     NaN                     NaN   \n",
       "-0jN99BBgMyJz7N3RetvAg                     NaN                     NaN   \n",
       "-1wbglcr6x1qrUbqP1YAIA                     NaN                     NaN   \n",
       "-2kCxY7_aw5hOz7fJnGMbQ                     NaN                     NaN   \n",
       "\n",
       "business_id             2zzRaxhpouEjGaDh9R6meA  3JJWG-Eyj-czxaXaE7LVaA  \\\n",
       "user_id                                                                  \n",
       "--BumyUHiO_7YsHurb9Hkw                     NaN                     NaN   \n",
       "--Qh8yKWAvIP4V4K8ZPfHA                     NaN                     NaN   \n",
       "-0jN99BBgMyJz7N3RetvAg                     NaN                     NaN   \n",
       "-1wbglcr6x1qrUbqP1YAIA                     NaN                     NaN   \n",
       "-2kCxY7_aw5hOz7fJnGMbQ                     NaN                     NaN   \n",
       "\n",
       "business_id             3dG6AB7o5QMVQzga0zotiA  3hI6dSt3PiF0y6aXA0QeHw  ...  \\\n",
       "user_id                                                                 ...   \n",
       "--BumyUHiO_7YsHurb9Hkw                     NaN                     NaN  ...   \n",
       "--Qh8yKWAvIP4V4K8ZPfHA                     2.0                     NaN  ...   \n",
       "-0jN99BBgMyJz7N3RetvAg                     NaN                     NaN  ...   \n",
       "-1wbglcr6x1qrUbqP1YAIA                     NaN                     NaN  ...   \n",
       "-2kCxY7_aw5hOz7fJnGMbQ                     NaN                     NaN  ...   \n",
       "\n",
       "business_id             y1AM7MeCN3HaS7SHnxcBfQ  y35FkLcNKlGt23tRwI8VoQ  \\\n",
       "user_id                                                                  \n",
       "--BumyUHiO_7YsHurb9Hkw                     NaN                     NaN   \n",
       "--Qh8yKWAvIP4V4K8ZPfHA                     NaN                     NaN   \n",
       "-0jN99BBgMyJz7N3RetvAg                     NaN                     NaN   \n",
       "-1wbglcr6x1qrUbqP1YAIA                     NaN                     NaN   \n",
       "-2kCxY7_aw5hOz7fJnGMbQ                     NaN                     NaN   \n",
       "\n",
       "business_id             y769FA7VJOW4QQYdYlR62A  yKuAM6kL5sSKtfoe9a3GpQ  \\\n",
       "user_id                                                                  \n",
       "--BumyUHiO_7YsHurb9Hkw                     NaN                     NaN   \n",
       "--Qh8yKWAvIP4V4K8ZPfHA                     NaN                     NaN   \n",
       "-0jN99BBgMyJz7N3RetvAg                     NaN                     NaN   \n",
       "-1wbglcr6x1qrUbqP1YAIA                     NaN                     NaN   \n",
       "-2kCxY7_aw5hOz7fJnGMbQ                     NaN                     NaN   \n",
       "\n",
       "business_id             yUO7zPWGbumX42UzjbuBmw  ywPaE5Ai8SK8TeUoeMgJ6Q  \\\n",
       "user_id                                                                  \n",
       "--BumyUHiO_7YsHurb9Hkw                     NaN                     NaN   \n",
       "--Qh8yKWAvIP4V4K8ZPfHA                     NaN                     NaN   \n",
       "-0jN99BBgMyJz7N3RetvAg                     NaN                     NaN   \n",
       "-1wbglcr6x1qrUbqP1YAIA                     NaN                     NaN   \n",
       "-2kCxY7_aw5hOz7fJnGMbQ                     NaN                     NaN   \n",
       "\n",
       "business_id             zQJh5xUJAlTlMrGIyYPY0g  zg5rJfgT4jhzg1d6r2twnA  \\\n",
       "user_id                                                                  \n",
       "--BumyUHiO_7YsHurb9Hkw                     NaN                     NaN   \n",
       "--Qh8yKWAvIP4V4K8ZPfHA                     NaN                     NaN   \n",
       "-0jN99BBgMyJz7N3RetvAg                     NaN                     NaN   \n",
       "-1wbglcr6x1qrUbqP1YAIA                     NaN                     NaN   \n",
       "-2kCxY7_aw5hOz7fJnGMbQ                     NaN                     NaN   \n",
       "\n",
       "business_id             zu8Wj0gkbdnia7Dt4grMkQ  zzvlwkcNR1CCqOPXwuvz2A  \n",
       "user_id                                                                 \n",
       "--BumyUHiO_7YsHurb9Hkw                     NaN                     NaN  \n",
       "--Qh8yKWAvIP4V4K8ZPfHA                     NaN                     NaN  \n",
       "-0jN99BBgMyJz7N3RetvAg                     NaN                     NaN  \n",
       "-1wbglcr6x1qrUbqP1YAIA                     NaN                     NaN  \n",
       "-2kCxY7_aw5hOz7fJnGMbQ                     NaN                     NaN  \n",
       "\n",
       "[5 rows x 200 columns]"
      ]
     },
     "execution_count": 35,
     "metadata": {},
     "output_type": "execute_result"
    }
   ],
   "source": [
    "userid_rating_matrix.head()"
   ]
  },
  {
   "cell_type": "code",
   "execution_count": 36,
   "metadata": {},
   "outputs": [
    {
     "data": {
      "text/plain": [
       "(6572, 200)"
      ]
     },
     "execution_count": 36,
     "metadata": {},
     "output_type": "execute_result"
    }
   ],
   "source": [
    "userid_rating_matrix.shape"
   ]
  },
  {
   "cell_type": "code",
   "execution_count": 37,
   "metadata": {},
   "outputs": [],
   "source": [
    "P = pd.DataFrame(userid_vectors.toarray(), index=userid_df.index, columns=userid_vectorizer.get_feature_names())\n",
    "Q = pd.DataFrame(businessid_vectors.toarray(), index=business_df.index, columns=businessid_vectorizer.get_feature_names())"
   ]
  },
  {
   "cell_type": "code",
   "execution_count": 38,
   "metadata": {},
   "outputs": [
    {
     "data": {
      "text/html": [
       "<div>\n",
       "<style scoped>\n",
       "    .dataframe tbody tr th:only-of-type {\n",
       "        vertical-align: middle;\n",
       "    }\n",
       "\n",
       "    .dataframe tbody tr th {\n",
       "        vertical-align: top;\n",
       "    }\n",
       "\n",
       "    .dataframe thead th {\n",
       "        text-align: right;\n",
       "    }\n",
       "</style>\n",
       "<table border=\"1\" class=\"dataframe\">\n",
       "  <thead>\n",
       "    <tr style=\"text-align: right;\">\n",
       "      <th></th>\n",
       "      <th>1</th>\n",
       "      <th>10</th>\n",
       "      <th>100</th>\n",
       "      <th>1010</th>\n",
       "      <th>1015</th>\n",
       "      <th>10pm</th>\n",
       "      <th>11</th>\n",
       "      <th>1130</th>\n",
       "      <th>11am</th>\n",
       "      <th>12</th>\n",
       "      <th>...</th>\n",
       "      <th>york</th>\n",
       "      <th>yorkville</th>\n",
       "      <th>young</th>\n",
       "      <th>yum</th>\n",
       "      <th>yummy</th>\n",
       "      <th>yuzu</th>\n",
       "      <th>zaatar</th>\n",
       "      <th>zangi</th>\n",
       "      <th>zero</th>\n",
       "      <th>zucchini</th>\n",
       "    </tr>\n",
       "    <tr>\n",
       "      <th>business_id</th>\n",
       "      <th></th>\n",
       "      <th></th>\n",
       "      <th></th>\n",
       "      <th></th>\n",
       "      <th></th>\n",
       "      <th></th>\n",
       "      <th></th>\n",
       "      <th></th>\n",
       "      <th></th>\n",
       "      <th></th>\n",
       "      <th></th>\n",
       "      <th></th>\n",
       "      <th></th>\n",
       "      <th></th>\n",
       "      <th></th>\n",
       "      <th></th>\n",
       "      <th></th>\n",
       "      <th></th>\n",
       "      <th></th>\n",
       "      <th></th>\n",
       "      <th></th>\n",
       "    </tr>\n",
       "  </thead>\n",
       "  <tbody>\n",
       "    <tr>\n",
       "      <td>-6GJMc_Ln7csmvWWvY2iug</td>\n",
       "      <td>0.011107</td>\n",
       "      <td>0.019960</td>\n",
       "      <td>0.000000</td>\n",
       "      <td>0.0</td>\n",
       "      <td>0.0</td>\n",
       "      <td>0.0</td>\n",
       "      <td>0.000000</td>\n",
       "      <td>0.0</td>\n",
       "      <td>0.0</td>\n",
       "      <td>0.039655</td>\n",
       "      <td>...</td>\n",
       "      <td>0.000000</td>\n",
       "      <td>0.0</td>\n",
       "      <td>0.000000</td>\n",
       "      <td>0.000000</td>\n",
       "      <td>0.012307</td>\n",
       "      <td>0.0</td>\n",
       "      <td>0.0</td>\n",
       "      <td>0.0</td>\n",
       "      <td>0.000000</td>\n",
       "      <td>0.0</td>\n",
       "    </tr>\n",
       "    <tr>\n",
       "      <td>-L88B-PrtzwujhLuYc2k_g</td>\n",
       "      <td>0.030874</td>\n",
       "      <td>0.002522</td>\n",
       "      <td>0.000000</td>\n",
       "      <td>0.0</td>\n",
       "      <td>0.0</td>\n",
       "      <td>0.0</td>\n",
       "      <td>0.009150</td>\n",
       "      <td>0.0</td>\n",
       "      <td>0.0</td>\n",
       "      <td>0.006681</td>\n",
       "      <td>...</td>\n",
       "      <td>0.004237</td>\n",
       "      <td>0.0</td>\n",
       "      <td>0.000000</td>\n",
       "      <td>0.003607</td>\n",
       "      <td>0.003110</td>\n",
       "      <td>0.0</td>\n",
       "      <td>0.0</td>\n",
       "      <td>0.0</td>\n",
       "      <td>0.005482</td>\n",
       "      <td>0.0</td>\n",
       "    </tr>\n",
       "    <tr>\n",
       "      <td>0-k_-9YoWXpmtiaLdKeQJQ</td>\n",
       "      <td>0.017295</td>\n",
       "      <td>0.012087</td>\n",
       "      <td>0.012044</td>\n",
       "      <td>0.0</td>\n",
       "      <td>0.0</td>\n",
       "      <td>0.0</td>\n",
       "      <td>0.003132</td>\n",
       "      <td>0.0</td>\n",
       "      <td>0.0</td>\n",
       "      <td>0.009148</td>\n",
       "      <td>...</td>\n",
       "      <td>0.000000</td>\n",
       "      <td>0.0</td>\n",
       "      <td>0.002983</td>\n",
       "      <td>0.000000</td>\n",
       "      <td>0.002129</td>\n",
       "      <td>0.0</td>\n",
       "      <td>0.0</td>\n",
       "      <td>0.0</td>\n",
       "      <td>0.003753</td>\n",
       "      <td>0.0</td>\n",
       "    </tr>\n",
       "    <tr>\n",
       "      <td>0KVx4FX9trgpM6pzH2C8_A</td>\n",
       "      <td>0.023472</td>\n",
       "      <td>0.007030</td>\n",
       "      <td>0.012259</td>\n",
       "      <td>0.0</td>\n",
       "      <td>0.0</td>\n",
       "      <td>0.0</td>\n",
       "      <td>0.000000</td>\n",
       "      <td>0.0</td>\n",
       "      <td>0.0</td>\n",
       "      <td>0.027935</td>\n",
       "      <td>...</td>\n",
       "      <td>0.000000</td>\n",
       "      <td>0.0</td>\n",
       "      <td>0.012143</td>\n",
       "      <td>0.010055</td>\n",
       "      <td>0.008670</td>\n",
       "      <td>0.0</td>\n",
       "      <td>0.0</td>\n",
       "      <td>0.0</td>\n",
       "      <td>0.000000</td>\n",
       "      <td>0.0</td>\n",
       "    </tr>\n",
       "    <tr>\n",
       "      <td>1jNteKQ2JuF6Sk1SI9X23Q</td>\n",
       "      <td>0.009062</td>\n",
       "      <td>0.010179</td>\n",
       "      <td>0.000000</td>\n",
       "      <td>0.0</td>\n",
       "      <td>0.0</td>\n",
       "      <td>0.0</td>\n",
       "      <td>0.003693</td>\n",
       "      <td>0.0</td>\n",
       "      <td>0.0</td>\n",
       "      <td>0.005393</td>\n",
       "      <td>...</td>\n",
       "      <td>0.003420</td>\n",
       "      <td>0.0</td>\n",
       "      <td>0.000000</td>\n",
       "      <td>0.002912</td>\n",
       "      <td>0.000000</td>\n",
       "      <td>0.0</td>\n",
       "      <td>0.0</td>\n",
       "      <td>0.0</td>\n",
       "      <td>0.000000</td>\n",
       "      <td>0.0</td>\n",
       "    </tr>\n",
       "  </tbody>\n",
       "</table>\n",
       "<p>5 rows × 4000 columns</p>\n",
       "</div>"
      ],
      "text/plain": [
       "                               1        10       100  1010  1015  10pm  \\\n",
       "business_id                                                              \n",
       "-6GJMc_Ln7csmvWWvY2iug  0.011107  0.019960  0.000000   0.0   0.0   0.0   \n",
       "-L88B-PrtzwujhLuYc2k_g  0.030874  0.002522  0.000000   0.0   0.0   0.0   \n",
       "0-k_-9YoWXpmtiaLdKeQJQ  0.017295  0.012087  0.012044   0.0   0.0   0.0   \n",
       "0KVx4FX9trgpM6pzH2C8_A  0.023472  0.007030  0.012259   0.0   0.0   0.0   \n",
       "1jNteKQ2JuF6Sk1SI9X23Q  0.009062  0.010179  0.000000   0.0   0.0   0.0   \n",
       "\n",
       "                              11  1130  11am        12  ...      york  \\\n",
       "business_id                                             ...             \n",
       "-6GJMc_Ln7csmvWWvY2iug  0.000000   0.0   0.0  0.039655  ...  0.000000   \n",
       "-L88B-PrtzwujhLuYc2k_g  0.009150   0.0   0.0  0.006681  ...  0.004237   \n",
       "0-k_-9YoWXpmtiaLdKeQJQ  0.003132   0.0   0.0  0.009148  ...  0.000000   \n",
       "0KVx4FX9trgpM6pzH2C8_A  0.000000   0.0   0.0  0.027935  ...  0.000000   \n",
       "1jNteKQ2JuF6Sk1SI9X23Q  0.003693   0.0   0.0  0.005393  ...  0.003420   \n",
       "\n",
       "                        yorkville     young       yum     yummy  yuzu  zaatar  \\\n",
       "business_id                                                                     \n",
       "-6GJMc_Ln7csmvWWvY2iug        0.0  0.000000  0.000000  0.012307   0.0     0.0   \n",
       "-L88B-PrtzwujhLuYc2k_g        0.0  0.000000  0.003607  0.003110   0.0     0.0   \n",
       "0-k_-9YoWXpmtiaLdKeQJQ        0.0  0.002983  0.000000  0.002129   0.0     0.0   \n",
       "0KVx4FX9trgpM6pzH2C8_A        0.0  0.012143  0.010055  0.008670   0.0     0.0   \n",
       "1jNteKQ2JuF6Sk1SI9X23Q        0.0  0.000000  0.002912  0.000000   0.0     0.0   \n",
       "\n",
       "                        zangi      zero  zucchini  \n",
       "business_id                                        \n",
       "-6GJMc_Ln7csmvWWvY2iug    0.0  0.000000       0.0  \n",
       "-L88B-PrtzwujhLuYc2k_g    0.0  0.005482       0.0  \n",
       "0-k_-9YoWXpmtiaLdKeQJQ    0.0  0.003753       0.0  \n",
       "0KVx4FX9trgpM6pzH2C8_A    0.0  0.000000       0.0  \n",
       "1jNteKQ2JuF6Sk1SI9X23Q    0.0  0.000000       0.0  \n",
       "\n",
       "[5 rows x 4000 columns]"
      ]
     },
     "execution_count": 38,
     "metadata": {},
     "output_type": "execute_result"
    }
   ],
   "source": [
    "Q.head()"
   ]
  },
  {
   "cell_type": "code",
   "execution_count": 39,
   "metadata": {},
   "outputs": [],
   "source": [
    "def matrix_factorization(R, P, Q, steps=25, gamma=0.001,lamda=0.02):\n",
    "    for step in range(steps):\n",
    "        for i in R.index:\n",
    "            for j in R.columns:\n",
    "                if R.loc[i,j]>0:\n",
    "                    eij=R.loc[i,j]-np.dot(P.loc[i],Q.loc[j])\n",
    "                    P.loc[i]=P.loc[i]+gamma*(eij*Q.loc[j]-lamda*P.loc[i])\n",
    "                    Q.loc[j]=Q.loc[j]+gamma*(eij*P.loc[i]-lamda*Q.loc[j])\n",
    "        e=0\n",
    "        for i in R.index:\n",
    "            for j in R.columns:\n",
    "                if R.loc[i,j]>0:\n",
    "                    e= e + pow(R.loc[i,j]-np.dot(P.loc[i],Q.loc[j]),2)+\\\n",
    "                    lamda*(pow(np.linalg.norm(P.loc[i]),2)+pow(np.linalg.norm(Q.loc[j]),2))\n",
    "        if e<0.001:\n",
    "            break\n",
    "        \n",
    "    return P, Q\n"
   ]
  },
  {
   "cell_type": "code",
   "execution_count": 40,
   "metadata": {},
   "outputs": [
    {
     "name": "stdout",
     "output_type": "stream",
     "text": [
      "Wall time: 34min 42s\n"
     ]
    }
   ],
   "source": [
    "%%time\n",
    "P, Q = matrix_factorization(userid_rating_matrix, P, Q, steps=25, gamma=0.001,lamda=0.02)"
   ]
  },
  {
   "cell_type": "code",
   "execution_count": 41,
   "metadata": {},
   "outputs": [
    {
     "data": {
      "text/html": [
       "<div>\n",
       "<style scoped>\n",
       "    .dataframe tbody tr th:only-of-type {\n",
       "        vertical-align: middle;\n",
       "    }\n",
       "\n",
       "    .dataframe tbody tr th {\n",
       "        vertical-align: top;\n",
       "    }\n",
       "\n",
       "    .dataframe thead th {\n",
       "        text-align: right;\n",
       "    }\n",
       "</style>\n",
       "<table border=\"1\" class=\"dataframe\">\n",
       "  <thead>\n",
       "    <tr style=\"text-align: right;\">\n",
       "      <th></th>\n",
       "      <th>1</th>\n",
       "      <th>10</th>\n",
       "      <th>100</th>\n",
       "      <th>1010</th>\n",
       "      <th>1015</th>\n",
       "      <th>10pm</th>\n",
       "      <th>11</th>\n",
       "      <th>1130</th>\n",
       "      <th>11am</th>\n",
       "      <th>12</th>\n",
       "      <th>...</th>\n",
       "      <th>york</th>\n",
       "      <th>yorkville</th>\n",
       "      <th>young</th>\n",
       "      <th>yum</th>\n",
       "      <th>yummy</th>\n",
       "      <th>yuzu</th>\n",
       "      <th>zaatar</th>\n",
       "      <th>zangi</th>\n",
       "      <th>zero</th>\n",
       "      <th>zucchini</th>\n",
       "    </tr>\n",
       "    <tr>\n",
       "      <th>business_id</th>\n",
       "      <th></th>\n",
       "      <th></th>\n",
       "      <th></th>\n",
       "      <th></th>\n",
       "      <th></th>\n",
       "      <th></th>\n",
       "      <th></th>\n",
       "      <th></th>\n",
       "      <th></th>\n",
       "      <th></th>\n",
       "      <th></th>\n",
       "      <th></th>\n",
       "      <th></th>\n",
       "      <th></th>\n",
       "      <th></th>\n",
       "      <th></th>\n",
       "      <th></th>\n",
       "      <th></th>\n",
       "      <th></th>\n",
       "      <th></th>\n",
       "      <th></th>\n",
       "    </tr>\n",
       "  </thead>\n",
       "  <tbody>\n",
       "    <tr>\n",
       "      <td>-6GJMc_Ln7csmvWWvY2iug</td>\n",
       "      <td>0.017132</td>\n",
       "      <td>0.034855</td>\n",
       "      <td>0.000511</td>\n",
       "      <td>0.000206</td>\n",
       "      <td>0.006185</td>\n",
       "      <td>0.000084</td>\n",
       "      <td>0.005804</td>\n",
       "      <td>0.000134</td>\n",
       "      <td>0.000140</td>\n",
       "      <td>0.059111</td>\n",
       "      <td>...</td>\n",
       "      <td>0.001657</td>\n",
       "      <td>0.000253</td>\n",
       "      <td>0.000348</td>\n",
       "      <td>0.000961</td>\n",
       "      <td>0.018579</td>\n",
       "      <td>0.000052</td>\n",
       "      <td>0.000193</td>\n",
       "      <td>0.000090</td>\n",
       "      <td>0.000120</td>\n",
       "      <td>0.000266</td>\n",
       "    </tr>\n",
       "    <tr>\n",
       "      <td>-L88B-PrtzwujhLuYc2k_g</td>\n",
       "      <td>0.084794</td>\n",
       "      <td>0.022455</td>\n",
       "      <td>0.003713</td>\n",
       "      <td>0.000201</td>\n",
       "      <td>0.000285</td>\n",
       "      <td>0.000191</td>\n",
       "      <td>0.032171</td>\n",
       "      <td>0.000293</td>\n",
       "      <td>0.000186</td>\n",
       "      <td>0.031082</td>\n",
       "      <td>...</td>\n",
       "      <td>0.009332</td>\n",
       "      <td>0.002626</td>\n",
       "      <td>0.000797</td>\n",
       "      <td>0.046546</td>\n",
       "      <td>0.022675</td>\n",
       "      <td>0.000070</td>\n",
       "      <td>0.000347</td>\n",
       "      <td>0.000525</td>\n",
       "      <td>0.022764</td>\n",
       "      <td>0.000203</td>\n",
       "    </tr>\n",
       "    <tr>\n",
       "      <td>0-k_-9YoWXpmtiaLdKeQJQ</td>\n",
       "      <td>0.059746</td>\n",
       "      <td>0.071194</td>\n",
       "      <td>0.054612</td>\n",
       "      <td>0.000202</td>\n",
       "      <td>0.000413</td>\n",
       "      <td>0.000126</td>\n",
       "      <td>0.009131</td>\n",
       "      <td>0.002521</td>\n",
       "      <td>0.000365</td>\n",
       "      <td>0.077925</td>\n",
       "      <td>...</td>\n",
       "      <td>0.002202</td>\n",
       "      <td>0.000439</td>\n",
       "      <td>0.005110</td>\n",
       "      <td>0.001401</td>\n",
       "      <td>0.039977</td>\n",
       "      <td>0.000130</td>\n",
       "      <td>0.000046</td>\n",
       "      <td>0.000725</td>\n",
       "      <td>0.008293</td>\n",
       "      <td>0.000150</td>\n",
       "    </tr>\n",
       "    <tr>\n",
       "      <td>0KVx4FX9trgpM6pzH2C8_A</td>\n",
       "      <td>0.075105</td>\n",
       "      <td>0.013967</td>\n",
       "      <td>0.021428</td>\n",
       "      <td>0.000155</td>\n",
       "      <td>0.000228</td>\n",
       "      <td>0.000123</td>\n",
       "      <td>0.000247</td>\n",
       "      <td>0.000167</td>\n",
       "      <td>0.000195</td>\n",
       "      <td>0.036572</td>\n",
       "      <td>...</td>\n",
       "      <td>0.000313</td>\n",
       "      <td>0.000080</td>\n",
       "      <td>0.021557</td>\n",
       "      <td>0.018982</td>\n",
       "      <td>0.035051</td>\n",
       "      <td>0.000078</td>\n",
       "      <td>0.000011</td>\n",
       "      <td>0.000221</td>\n",
       "      <td>0.000260</td>\n",
       "      <td>0.000135</td>\n",
       "    </tr>\n",
       "    <tr>\n",
       "      <td>1jNteKQ2JuF6Sk1SI9X23Q</td>\n",
       "      <td>0.039287</td>\n",
       "      <td>0.028941</td>\n",
       "      <td>0.005218</td>\n",
       "      <td>0.000096</td>\n",
       "      <td>0.000244</td>\n",
       "      <td>0.000112</td>\n",
       "      <td>0.012825</td>\n",
       "      <td>0.000168</td>\n",
       "      <td>0.000136</td>\n",
       "      <td>0.010727</td>\n",
       "      <td>...</td>\n",
       "      <td>0.033456</td>\n",
       "      <td>0.002979</td>\n",
       "      <td>0.003696</td>\n",
       "      <td>0.012473</td>\n",
       "      <td>0.008870</td>\n",
       "      <td>0.000092</td>\n",
       "      <td>0.000055</td>\n",
       "      <td>0.000436</td>\n",
       "      <td>0.000229</td>\n",
       "      <td>0.000105</td>\n",
       "    </tr>\n",
       "  </tbody>\n",
       "</table>\n",
       "<p>5 rows × 4000 columns</p>\n",
       "</div>"
      ],
      "text/plain": [
       "                               1        10       100      1010      1015  \\\n",
       "business_id                                                                \n",
       "-6GJMc_Ln7csmvWWvY2iug  0.017132  0.034855  0.000511  0.000206  0.006185   \n",
       "-L88B-PrtzwujhLuYc2k_g  0.084794  0.022455  0.003713  0.000201  0.000285   \n",
       "0-k_-9YoWXpmtiaLdKeQJQ  0.059746  0.071194  0.054612  0.000202  0.000413   \n",
       "0KVx4FX9trgpM6pzH2C8_A  0.075105  0.013967  0.021428  0.000155  0.000228   \n",
       "1jNteKQ2JuF6Sk1SI9X23Q  0.039287  0.028941  0.005218  0.000096  0.000244   \n",
       "\n",
       "                            10pm        11      1130      11am        12  ...  \\\n",
       "business_id                                                               ...   \n",
       "-6GJMc_Ln7csmvWWvY2iug  0.000084  0.005804  0.000134  0.000140  0.059111  ...   \n",
       "-L88B-PrtzwujhLuYc2k_g  0.000191  0.032171  0.000293  0.000186  0.031082  ...   \n",
       "0-k_-9YoWXpmtiaLdKeQJQ  0.000126  0.009131  0.002521  0.000365  0.077925  ...   \n",
       "0KVx4FX9trgpM6pzH2C8_A  0.000123  0.000247  0.000167  0.000195  0.036572  ...   \n",
       "1jNteKQ2JuF6Sk1SI9X23Q  0.000112  0.012825  0.000168  0.000136  0.010727  ...   \n",
       "\n",
       "                            york  yorkville     young       yum     yummy  \\\n",
       "business_id                                                                 \n",
       "-6GJMc_Ln7csmvWWvY2iug  0.001657   0.000253  0.000348  0.000961  0.018579   \n",
       "-L88B-PrtzwujhLuYc2k_g  0.009332   0.002626  0.000797  0.046546  0.022675   \n",
       "0-k_-9YoWXpmtiaLdKeQJQ  0.002202   0.000439  0.005110  0.001401  0.039977   \n",
       "0KVx4FX9trgpM6pzH2C8_A  0.000313   0.000080  0.021557  0.018982  0.035051   \n",
       "1jNteKQ2JuF6Sk1SI9X23Q  0.033456   0.002979  0.003696  0.012473  0.008870   \n",
       "\n",
       "                            yuzu    zaatar     zangi      zero  zucchini  \n",
       "business_id                                                               \n",
       "-6GJMc_Ln7csmvWWvY2iug  0.000052  0.000193  0.000090  0.000120  0.000266  \n",
       "-L88B-PrtzwujhLuYc2k_g  0.000070  0.000347  0.000525  0.022764  0.000203  \n",
       "0-k_-9YoWXpmtiaLdKeQJQ  0.000130  0.000046  0.000725  0.008293  0.000150  \n",
       "0KVx4FX9trgpM6pzH2C8_A  0.000078  0.000011  0.000221  0.000260  0.000135  \n",
       "1jNteKQ2JuF6Sk1SI9X23Q  0.000092  0.000055  0.000436  0.000229  0.000105  \n",
       "\n",
       "[5 rows x 4000 columns]"
      ]
     },
     "execution_count": 41,
     "metadata": {},
     "output_type": "execute_result"
    }
   ],
   "source": [
    "Q.head()"
   ]
  },
  {
   "cell_type": "code",
   "execution_count": 42,
   "metadata": {},
   "outputs": [
    {
     "data": {
      "text/plain": [
       "pub       0.383736\n",
       "place     0.332432\n",
       "food      0.331529\n",
       "beer      0.329724\n",
       "good      0.272876\n",
       "wings     0.262686\n",
       "nachos    0.251123\n",
       "staff     0.243039\n",
       "pubs      0.238149\n",
       "really    0.229426\n",
       "Name: -6GJMc_Ln7csmvWWvY2iug, dtype: float64"
      ]
     },
     "execution_count": 42,
     "metadata": {},
     "output_type": "execute_result"
    }
   ],
   "source": [
    "Q.iloc[0].sort_values(ascending=False).head(10)"
   ]
  },
  {
   "cell_type": "markdown",
   "metadata": {},
   "source": [
    "### Export Model"
   ]
  },
  {
   "cell_type": "code",
   "execution_count": 43,
   "metadata": {},
   "outputs": [],
   "source": [
    "# Store P, Q and vectorizer in pickle file\n",
    "import pickle\n",
    "output = open('tor_recommendation_model.pkl', 'wb')\n",
    "pickle.dump(P,output)\n",
    "pickle.dump(Q,output)\n",
    "pickle.dump(userid_vectorizer,output)\n",
    "output.close()"
   ]
  },
  {
   "cell_type": "markdown",
   "metadata": {},
   "source": [
    "## Prediction based on input text"
   ]
  },
  {
   "cell_type": "code",
   "execution_count": 44,
   "metadata": {},
   "outputs": [
    {
     "name": "stdout",
     "output_type": "stream",
     "text": [
      "Wall time: 19 ms\n"
     ]
    },
    {
     "data": {
      "text/html": [
       "<div>\n",
       "<style scoped>\n",
       "    .dataframe tbody tr th:only-of-type {\n",
       "        vertical-align: middle;\n",
       "    }\n",
       "\n",
       "    .dataframe tbody tr th {\n",
       "        vertical-align: top;\n",
       "    }\n",
       "\n",
       "    .dataframe thead th {\n",
       "        text-align: right;\n",
       "    }\n",
       "</style>\n",
       "<table border=\"1\" class=\"dataframe\">\n",
       "  <thead>\n",
       "    <tr style=\"text-align: right;\">\n",
       "      <th></th>\n",
       "      <th>Rating</th>\n",
       "    </tr>\n",
       "    <tr>\n",
       "      <th>business_id</th>\n",
       "      <th></th>\n",
       "    </tr>\n",
       "  </thead>\n",
       "  <tbody>\n",
       "    <tr>\n",
       "      <td>eQCYur0033RkZdh5VjbF8A</td>\n",
       "      <td>0.262493</td>\n",
       "    </tr>\n",
       "    <tr>\n",
       "      <td>XDO88u3vWV64uekyHQUjCw</td>\n",
       "      <td>0.261403</td>\n",
       "    </tr>\n",
       "    <tr>\n",
       "      <td>oAq3-dXyDT3k4Mluc1ftTA</td>\n",
       "      <td>0.247535</td>\n",
       "    </tr>\n",
       "  </tbody>\n",
       "</table>\n",
       "</div>"
      ],
      "text/plain": [
       "                          Rating\n",
       "business_id                     \n",
       "eQCYur0033RkZdh5VjbF8A  0.262493\n",
       "XDO88u3vWV64uekyHQUjCw  0.261403\n",
       "oAq3-dXyDT3k4Mluc1ftTA  0.247535"
      ]
     },
     "execution_count": 44,
     "metadata": {},
     "output_type": "execute_result"
    }
   ],
   "source": [
    "%%time\n",
    "words = \"I look for newyork steak\"\n",
    "test_df= pd.DataFrame([words], columns=['text'])\n",
    "test_df['text'] = test_df['text'].apply(text_process)\n",
    "test_vectors = userid_vectorizer.transform(test_df['text'])\n",
    "test_v_df = pd.DataFrame(test_vectors.toarray(), index=test_df.index, columns=userid_vectorizer.get_feature_names())\n",
    "\n",
    "predictItemRating=pd.DataFrame(np.dot(test_v_df.loc[0],Q.T),index=Q.index,columns=['Rating'])\n",
    "topRecommendations=pd.DataFrame.sort_values(predictItemRating,['Rating'],ascending=[0])[:3]\n",
    "topRecommendations"
   ]
  },
  {
   "cell_type": "code",
   "execution_count": 45,
   "metadata": {
    "scrolled": true
   },
   "outputs": [
    {
     "name": "stdout",
     "output_type": "stream",
     "text": [
      "Business Name: \"Oliver & Bonacini CafÃ© Grill\"\n",
      "Address: \"33 Yonge Street\"\n",
      "Toronto\n",
      "Business Categories: Nightlife;Canadian (New);Restaurants;American (Traditional);Breakfast & Brunch;Italian;Wine Bars;Sandwiches;Bars\n",
      "Star Rating: 3.5; Number of review: 204\n",
      "\n",
      "Business Name: \"Dairy Freeze\"\n",
      "Address: \"1601 St Clair Avenue W\"\n",
      "Toronto\n",
      "Business Categories: Diners;Fast Food;Breakfast & Brunch;Burgers;Restaurants\n",
      "Star Rating: 3.0; Number of review: 39\n",
      "\n",
      "Business Name: \"Yamato Japanese Restaurant\"\n",
      "Address: \"24 Bellair Street\"\n",
      "Toronto\n",
      "Business Categories: Sushi Bars;Japanese;Restaurants\n",
      "Star Rating: 3.5; Number of review: 134\n",
      "\n"
     ]
    }
   ],
   "source": [
    "\n",
    "for i in topRecommendations.index:\n",
    "    print('Business Name: ' + bus_tor_fd_df[bus_tor_fd_df['business_id']==i]['name'].iloc[0])\n",
    "    print('Address: '+bus_tor_fd_df[bus_tor_fd_df['business_id']==i]['address'].iloc[0])\n",
    "    print(bus_tor_fd_df[bus_tor_fd_df['business_id']==i]['city'].iloc[0])\n",
    "\n",
    "    print('Business Categories: '+ bus_tor_fd_df[bus_tor_fd_df['business_id']==i]['categories'].iloc[0])\n",
    "    print('Star Rating: '+ str(bus_tor_fd_df[bus_tor_fd_df['business_id']==i]['restaurant_rating'].iloc[0])+ \\\n",
    "          '; Number of review: '+ str(bus_tor_fd_df[bus_tor_fd_df['business_id']==i]['review_count'].iloc[0]))\n",
    "    print('')"
   ]
  },
  {
   "cell_type": "markdown",
   "metadata": {},
   "source": [
    "## Measuring the accuracy of the Matrix Factorization Recommender System"
   ]
  },
  {
   "cell_type": "code",
   "execution_count": 46,
   "metadata": {},
   "outputs": [],
   "source": [
    "f = open('tor_recommendation_model.pkl', 'rb')\n",
    "P, Q, userid_vectorizer = pickle.load(f), pickle.load(f), pickle.load(f)\n"
   ]
  },
  {
   "cell_type": "code",
   "execution_count": 47,
   "metadata": {},
   "outputs": [],
   "source": [
    "test_df = pd.DataFrame([words], columns=['text'])\n",
    "test_df['text'] = test_df['text'].apply(text_process)\n",
    "test_vectors = userid_vectorizer.transform(test_df['text'])\n",
    "test_v_df = pd.DataFrame(test_vectors.toarray(), index=test_df.index,\n",
    "                         columns=userid_vectorizer.get_feature_names())"
   ]
  },
  {
   "cell_type": "code",
   "execution_count": 48,
   "metadata": {},
   "outputs": [],
   "source": [
    "test_df = X_valid.to_frame()\n",
    "test_df['text'] = test_df['text'].apply(text_process)\n",
    "test_vectors = userid_vectorizer.transform(test_df['text'])\n",
    "test_v_df = pd.DataFrame(test_vectors.toarray(), index=test_df.index,\n",
    "                         columns=userid_vectorizer.get_feature_names())"
   ]
  },
  {
   "cell_type": "code",
   "execution_count": 49,
   "metadata": {},
   "outputs": [],
   "source": [
    "y_pred = []\n",
    "for key, row in test_v_df.iterrows():\n",
    "    predictItemRating=pd.DataFrame(np.dot(row,Q.T),index=Q.index,columns=['Rating'])\n",
    "    topRecommendations=pd.DataFrame.sort_values(predictItemRating,['Rating'],ascending=[0])[:1]\n",
    "    y_pred.append(topRecommendations.index[0])"
   ]
  },
  {
   "cell_type": "code",
   "execution_count": 50,
   "metadata": {},
   "outputs": [
    {
     "name": "stdout",
     "output_type": "stream",
     "text": [
      "Accuracy for validation set is:  0.5211428571428571\n"
     ]
    }
   ],
   "source": [
    "from sklearn.metrics import accuracy_score, f1_score, precision_score, recall_score #, classification_report, confusion_matrix\n",
    "from sklearn.metrics import roc_curve, auc, roc_auc_score\n",
    "print('Accuracy for validation set is: ', accuracy_score(y_valid, y_pred))\n",
    "\n"
   ]
  },
  {
   "cell_type": "code",
   "execution_count": null,
   "metadata": {},
   "outputs": [],
   "source": []
  }
 ],
 "metadata": {
  "kernelspec": {
   "display_name": "Python 3",
   "language": "python",
   "name": "python3"
  },
  "language_info": {
   "codemirror_mode": {
    "name": "ipython",
    "version": 3
   },
   "file_extension": ".py",
   "mimetype": "text/x-python",
   "name": "python",
   "nbconvert_exporter": "python",
   "pygments_lexer": "ipython3",
   "version": "3.7.4"
  }
 },
 "nbformat": 4,
 "nbformat_minor": 2
}
